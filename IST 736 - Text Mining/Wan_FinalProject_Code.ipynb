{
 "cells": [
  {
   "cell_type": "code",
   "execution_count": 1,
   "id": "f6eb07cd",
   "metadata": {
    "ExecuteTime": {
     "end_time": "2022-06-18T00:51:16.520432Z",
     "start_time": "2022-06-18T00:51:14.944391Z"
    }
   },
   "outputs": [],
   "source": [
    "import numpy as np\n",
    "import pandas as pd\n",
    "import matplotlib.pyplot as plt\n",
    "from sklearn.utils import shuffle\n",
    "from sklearn.model_selection import train_test_split\n",
    "from scipy.stats import itemfreq\n",
    "from sklearn.feature_extraction.text import CountVectorizer\n",
    "from sklearn.feature_extraction.text import TfidfVectorizer\n",
    "from sklearn.naive_bayes import BernoulliNB\n",
    "from sklearn.naive_bayes import MultinomialNB\n",
    "from sklearn.svm import LinearSVC\n",
    "from sklearn.decomposition import NMF, LatentDirichletAllocation\n",
    "from sklearn.metrics import confusion_matrix\n",
    "from sklearn.metrics import classification_report\n",
    "from sklearn.model_selection import cross_val_score\n",
    "\n",
    "import pyLDAvis\n",
    "import pyLDAvis.sklearn"
   ]
  },
  {
   "cell_type": "code",
   "execution_count": 2,
   "id": "c08d9656",
   "metadata": {
    "ExecuteTime": {
     "end_time": "2022-06-18T00:51:16.566521Z",
     "start_time": "2022-06-18T00:51:16.521433Z"
    }
   },
   "outputs": [
    {
     "data": {
      "text/html": [
       "<div>\n",
       "<style scoped>\n",
       "    .dataframe tbody tr th:only-of-type {\n",
       "        vertical-align: middle;\n",
       "    }\n",
       "\n",
       "    .dataframe tbody tr th {\n",
       "        vertical-align: top;\n",
       "    }\n",
       "\n",
       "    .dataframe thead th {\n",
       "        text-align: right;\n",
       "    }\n",
       "</style>\n",
       "<table border=\"1\" class=\"dataframe\">\n",
       "  <thead>\n",
       "    <tr style=\"text-align: right;\">\n",
       "      <th></th>\n",
       "      <th>sentiment</th>\n",
       "      <th>headlines</th>\n",
       "    </tr>\n",
       "  </thead>\n",
       "  <tbody>\n",
       "    <tr>\n",
       "      <th>0</th>\n",
       "      <td>neutral</td>\n",
       "      <td>According to Gran , the company has no plans t...</td>\n",
       "    </tr>\n",
       "    <tr>\n",
       "      <th>1</th>\n",
       "      <td>neutral</td>\n",
       "      <td>Technopolis plans to develop in stages an area...</td>\n",
       "    </tr>\n",
       "    <tr>\n",
       "      <th>2</th>\n",
       "      <td>negative</td>\n",
       "      <td>The international electronic industry company ...</td>\n",
       "    </tr>\n",
       "    <tr>\n",
       "      <th>3</th>\n",
       "      <td>positive</td>\n",
       "      <td>With the new production plant the company woul...</td>\n",
       "    </tr>\n",
       "    <tr>\n",
       "      <th>4</th>\n",
       "      <td>positive</td>\n",
       "      <td>According to the company 's updated strategy f...</td>\n",
       "    </tr>\n",
       "  </tbody>\n",
       "</table>\n",
       "</div>"
      ],
      "text/plain": [
       "  sentiment                                          headlines\n",
       "0   neutral  According to Gran , the company has no plans t...\n",
       "1   neutral  Technopolis plans to develop in stages an area...\n",
       "2  negative  The international electronic industry company ...\n",
       "3  positive  With the new production plant the company woul...\n",
       "4  positive  According to the company 's updated strategy f..."
      ]
     },
     "execution_count": 2,
     "metadata": {},
     "output_type": "execute_result"
    }
   ],
   "source": [
    "df=pd.read_csv(\"all-data.csv\", encoding='Windows-1252')\n",
    "df.head(5)"
   ]
  },
  {
   "cell_type": "code",
   "execution_count": 3,
   "id": "fe9f90b4",
   "metadata": {
    "ExecuteTime": {
     "end_time": "2022-06-18T00:51:16.582035Z",
     "start_time": "2022-06-18T00:51:16.567522Z"
    }
   },
   "outputs": [
    {
     "name": "stdout",
     "output_type": "stream",
     "text": [
      "<class 'pandas.core.frame.DataFrame'>\n",
      "RangeIndex: 4846 entries, 0 to 4845\n",
      "Data columns (total 2 columns):\n",
      " #   Column     Non-Null Count  Dtype \n",
      "---  ------     --------------  ----- \n",
      " 0   sentiment  4846 non-null   object\n",
      " 1   headlines  4846 non-null   object\n",
      "dtypes: object(2)\n",
      "memory usage: 75.8+ KB\n"
     ]
    }
   ],
   "source": [
    "df.info()"
   ]
  },
  {
   "cell_type": "code",
   "execution_count": 4,
   "id": "9ed48bba",
   "metadata": {
    "ExecuteTime": {
     "end_time": "2022-06-18T00:51:16.721009Z",
     "start_time": "2022-06-18T00:51:16.583036Z"
    }
   },
   "outputs": [
    {
     "data": {
      "text/plain": [
       "<AxesSubplot:>"
      ]
     },
     "execution_count": 4,
     "metadata": {},
     "output_type": "execute_result"
    },
    {
     "data": {
      "image/png": "[encoded data removed]",
      "text/plain": [
       "<Figure size 432x288 with 1 Axes>"
      ]
     },
     "metadata": {
      "needs_background": "light"
     },
     "output_type": "display_data"
    }
   ],
   "source": [
    "df['sentiment'].value_counts().plot(kind='bar')"
   ]
  },
  {
   "cell_type": "code",
   "execution_count": 5,
   "id": "472b2bd6",
   "metadata": {
    "ExecuteTime": {
     "end_time": "2022-06-18T00:51:16.736523Z",
     "start_time": "2022-06-18T00:51:16.723012Z"
    }
   },
   "outputs": [
    {
     "data": {
      "text/html": [
       "<div>\n",
       "<style scoped>\n",
       "    .dataframe tbody tr th:only-of-type {\n",
       "        vertical-align: middle;\n",
       "    }\n",
       "\n",
       "    .dataframe tbody tr th {\n",
       "        vertical-align: top;\n",
       "    }\n",
       "\n",
       "    .dataframe thead th {\n",
       "        text-align: right;\n",
       "    }\n",
       "</style>\n",
       "<table border=\"1\" class=\"dataframe\">\n",
       "  <thead>\n",
       "    <tr style=\"text-align: right;\">\n",
       "      <th></th>\n",
       "      <th>sentiment</th>\n",
       "      <th>headlines</th>\n",
       "    </tr>\n",
       "  </thead>\n",
       "  <tbody>\n",
       "    <tr>\n",
       "      <th>0</th>\n",
       "      <td>neutral</td>\n",
       "      <td>According to Gran , the company has no plans t...</td>\n",
       "    </tr>\n",
       "    <tr>\n",
       "      <th>1</th>\n",
       "      <td>neutral</td>\n",
       "      <td>Technopolis plans to develop in stages an area...</td>\n",
       "    </tr>\n",
       "    <tr>\n",
       "      <th>58</th>\n",
       "      <td>neutral</td>\n",
       "      <td>At the request of Finnish media company Alma M...</td>\n",
       "    </tr>\n",
       "    <tr>\n",
       "      <th>59</th>\n",
       "      <td>neutral</td>\n",
       "      <td>In Sweden , Gallerix accumulated SEK denominat...</td>\n",
       "    </tr>\n",
       "    <tr>\n",
       "      <th>60</th>\n",
       "      <td>neutral</td>\n",
       "      <td>The company supports its global customers in d...</td>\n",
       "    </tr>\n",
       "  </tbody>\n",
       "</table>\n",
       "</div>"
      ],
      "text/plain": [
       "   sentiment                                          headlines\n",
       "0    neutral  According to Gran , the company has no plans t...\n",
       "1    neutral  Technopolis plans to develop in stages an area...\n",
       "58   neutral  At the request of Finnish media company Alma M...\n",
       "59   neutral  In Sweden , Gallerix accumulated SEK denominat...\n",
       "60   neutral  The company supports its global customers in d..."
      ]
     },
     "execution_count": 5,
     "metadata": {},
     "output_type": "execute_result"
    }
   ],
   "source": [
    "neutral = df.loc[df['sentiment'] == 'neutral']\n",
    "neutral.head()"
   ]
  },
  {
   "cell_type": "code",
   "execution_count": 6,
   "id": "2d183628",
   "metadata": {
    "ExecuteTime": {
     "end_time": "2022-06-18T00:51:16.752039Z",
     "start_time": "2022-06-18T00:51:16.737524Z"
    }
   },
   "outputs": [
    {
     "data": {
      "text/html": [
       "<div>\n",
       "<style scoped>\n",
       "    .dataframe tbody tr th:only-of-type {\n",
       "        vertical-align: middle;\n",
       "    }\n",
       "\n",
       "    .dataframe tbody tr th {\n",
       "        vertical-align: top;\n",
       "    }\n",
       "\n",
       "    .dataframe thead th {\n",
       "        text-align: right;\n",
       "    }\n",
       "</style>\n",
       "<table border=\"1\" class=\"dataframe\">\n",
       "  <thead>\n",
       "    <tr style=\"text-align: right;\">\n",
       "      <th></th>\n",
       "      <th>sentiment</th>\n",
       "      <th>headlines</th>\n",
       "    </tr>\n",
       "  </thead>\n",
       "  <tbody>\n",
       "    <tr>\n",
       "      <th>2</th>\n",
       "      <td>negative</td>\n",
       "      <td>The international electronic industry company ...</td>\n",
       "    </tr>\n",
       "    <tr>\n",
       "      <th>415</th>\n",
       "      <td>negative</td>\n",
       "      <td>A tinyurl link takes users to a scamming site ...</td>\n",
       "    </tr>\n",
       "    <tr>\n",
       "      <th>421</th>\n",
       "      <td>negative</td>\n",
       "      <td>Compared with the FTSE 100 index , which rose ...</td>\n",
       "    </tr>\n",
       "    <tr>\n",
       "      <th>423</th>\n",
       "      <td>negative</td>\n",
       "      <td>Compared with the FTSE 100 index , which rose ...</td>\n",
       "    </tr>\n",
       "    <tr>\n",
       "      <th>500</th>\n",
       "      <td>negative</td>\n",
       "      <td>One of the challenges in the oil production in...</td>\n",
       "    </tr>\n",
       "  </tbody>\n",
       "</table>\n",
       "</div>"
      ],
      "text/plain": [
       "    sentiment                                          headlines\n",
       "2    negative  The international electronic industry company ...\n",
       "415  negative  A tinyurl link takes users to a scamming site ...\n",
       "421  negative  Compared with the FTSE 100 index , which rose ...\n",
       "423  negative  Compared with the FTSE 100 index , which rose ...\n",
       "500  negative  One of the challenges in the oil production in..."
      ]
     },
     "execution_count": 6,
     "metadata": {},
     "output_type": "execute_result"
    }
   ],
   "source": [
    "pos = df.loc[df['sentiment'] == 'positive']\n",
    "pos.head()\n",
    "neg = df.loc[df['sentiment'] == 'negative']\n",
    "neg.head()"
   ]
  },
  {
   "cell_type": "code",
   "execution_count": 7,
   "id": "d8ebc67f",
   "metadata": {
    "ExecuteTime": {
     "end_time": "2022-06-18T00:51:16.767552Z",
     "start_time": "2022-06-18T00:51:16.753040Z"
    }
   },
   "outputs": [],
   "source": [
    "neutral  = shuffle(neutral)\n",
    "pos  = shuffle(pos)\n",
    "neg  = shuffle(neg)"
   ]
  },
  {
   "cell_type": "code",
   "execution_count": 8,
   "id": "13d02565",
   "metadata": {
    "ExecuteTime": {
     "end_time": "2022-06-18T00:51:16.782784Z",
     "start_time": "2022-06-18T00:51:16.768554Z"
    }
   },
   "outputs": [
    {
     "name": "stdout",
     "output_type": "stream",
     "text": [
      "<class 'pandas.core.frame.DataFrame'>\n",
      "Int64Index: 2879 entries, 2961 to 2919\n",
      "Data columns (total 2 columns):\n",
      " #   Column     Non-Null Count  Dtype \n",
      "---  ------     --------------  ----- \n",
      " 0   sentiment  2879 non-null   object\n",
      " 1   headlines  2879 non-null   object\n",
      "dtypes: object(2)\n",
      "memory usage: 67.5+ KB\n"
     ]
    }
   ],
   "source": [
    "neutral.info()"
   ]
  },
  {
   "cell_type": "code",
   "execution_count": 9,
   "id": "a43f6714",
   "metadata": {
    "ExecuteTime": {
     "end_time": "2022-06-18T00:51:16.798240Z",
     "start_time": "2022-06-18T00:51:16.783786Z"
    }
   },
   "outputs": [],
   "source": [
    "newDf = neutral[:500]\n",
    "newDf = newDf.append(pos[:500])\n",
    "newDf = newDf.append(neg[:500])"
   ]
  },
  {
   "cell_type": "code",
   "execution_count": 10,
   "id": "0ccd1d50",
   "metadata": {
    "ExecuteTime": {
     "end_time": "2022-06-18T00:51:16.813753Z",
     "start_time": "2022-06-18T00:51:16.799241Z"
    }
   },
   "outputs": [
    {
     "name": "stdout",
     "output_type": "stream",
     "text": [
      "<class 'pandas.core.frame.DataFrame'>\n",
      "Int64Index: 1500 entries, 2961 to 4747\n",
      "Data columns (total 2 columns):\n",
      " #   Column     Non-Null Count  Dtype \n",
      "---  ------     --------------  ----- \n",
      " 0   sentiment  1500 non-null   object\n",
      " 1   headlines  1500 non-null   object\n",
      "dtypes: object(2)\n",
      "memory usage: 35.2+ KB\n"
     ]
    }
   ],
   "source": [
    "newDf.info()"
   ]
  },
  {
   "cell_type": "code",
   "execution_count": 11,
   "id": "adcaa23a",
   "metadata": {
    "ExecuteTime": {
     "end_time": "2022-06-18T00:51:16.891415Z",
     "start_time": "2022-06-18T00:51:16.814754Z"
    }
   },
   "outputs": [
    {
     "data": {
      "text/plain": [
       "<AxesSubplot:>"
      ]
     },
     "execution_count": 11,
     "metadata": {},
     "output_type": "execute_result"
    },
    {
     "data": {
      "image/png": "[encoded data removed]",
      "text/plain": [
       "<Figure size 432x288 with 1 Axes>"
      ]
     },
     "metadata": {
      "needs_background": "light"
     },
     "output_type": "display_data"
    }
   ],
   "source": [
    "newDf['sentiment'].value_counts().plot(kind='bar')"
   ]
  },
  {
   "cell_type": "code",
   "execution_count": 12,
   "id": "7e41daad",
   "metadata": {
    "ExecuteTime": {
     "end_time": "2022-06-18T00:51:16.906925Z",
     "start_time": "2022-06-18T00:51:16.892416Z"
    }
   },
   "outputs": [],
   "source": [
    "X = newDf['headlines'].values\n",
    "sentiment = newDf['sentiment'].values"
   ]
  },
  {
   "cell_type": "code",
   "execution_count": 13,
   "id": "ca28edeb",
   "metadata": {
    "ExecuteTime": {
     "end_time": "2022-06-18T00:51:16.922438Z",
     "start_time": "2022-06-18T00:51:16.907926Z"
    }
   },
   "outputs": [
    {
     "name": "stdout",
     "output_type": "stream",
     "text": [
      "(1050,) (450,) (1050,) (450,)\n"
     ]
    }
   ],
   "source": [
    "X_train, X_test, train_sentiment, test_sentiment = train_test_split(X, sentiment, test_size=0.3, random_state=0)\n",
    "print(X_train.shape, X_test.shape, train_sentiment.shape, test_sentiment.shape)"
   ]
  },
  {
   "cell_type": "code",
   "execution_count": 14,
   "id": "cab046e7",
   "metadata": {
    "ExecuteTime": {
     "end_time": "2022-06-18T00:51:16.937814Z",
     "start_time": "2022-06-18T00:51:16.925441Z"
    }
   },
   "outputs": [
    {
     "name": "stdout",
     "output_type": "stream",
     "text": [
      "Train Dataset Breakdown\n",
      "[['negative' 'neutral' 'positive']\n",
      " [343 354 353]]\n",
      "Test Dataset Breakdown\n",
      "[['negative' 'neutral' 'positive']\n",
      " [157 146 147]]\n"
     ]
    }
   ],
   "source": [
    "unique, counts = np.unique(train_sentiment, return_counts=True)\n",
    "print(\"Train Dataset Breakdown\")\n",
    "print(np.asarray((unique, counts)))\n",
    "unique2, counts2 = np.unique(test_sentiment, return_counts=True)\n",
    "print(\"Test Dataset Breakdown\")\n",
    "print(np.asarray((unique2, counts2)))"
   ]
  },
  {
   "cell_type": "code",
   "execution_count": 15,
   "id": "5e65d45c",
   "metadata": {
    "ExecuteTime": {
     "end_time": "2022-06-18T00:51:16.984354Z",
     "start_time": "2022-06-18T00:51:16.938815Z"
    }
   },
   "outputs": [
    {
     "name": "stdout",
     "output_type": "stream",
     "text": [
      "0.6044444444444445\n",
      "              precision    recall  f1-score   support\n",
      "\n",
      "     neutral       0.70      0.62      0.66       157\n",
      "    positive       0.52      0.85      0.64       146\n",
      "    negative       0.70      0.34      0.46       147\n",
      "\n",
      "    accuracy                           0.60       450\n",
      "   macro avg       0.64      0.60      0.59       450\n",
      "weighted avg       0.64      0.60      0.59       450\n",
      "\n"
     ]
    }
   ],
   "source": [
    "unigram_bool_vectorizer = CountVectorizer(encoding='latin-1', binary=True, min_df=5, stop_words='english')\n",
    "\n",
    "X_train_vec_bool = unigram_bool_vectorizer.fit_transform(X_train)\n",
    "X_test_vec_bool = unigram_bool_vectorizer.transform(X_test)\n",
    "\n",
    "bnb_clf_sentiment = BernoulliNB()\n",
    "bnb_clf_sentiment.fit(X_train_vec_bool, train_sentiment)\n",
    "print(bnb_clf_sentiment.score(X_test_vec_bool, test_sentiment))\n",
    "\n",
    "target_names = ['neutral', 'positive', 'negative']\n",
    "\n",
    "bnbPred_sentiment = bnb_clf_sentiment.fit(X_train_vec_bool, train_sentiment).predict(X_test_vec_bool)\n",
    "print(classification_report(test_sentiment, bnbPred_sentiment, target_names=target_names))"
   ]
  },
  {
   "cell_type": "code",
   "execution_count": 16,
   "id": "a6ebacd9",
   "metadata": {
    "ExecuteTime": {
     "end_time": "2022-06-18T00:51:17.015381Z",
     "start_time": "2022-06-18T00:51:16.985356Z"
    }
   },
   "outputs": [
    {
     "name": "stdout",
     "output_type": "stream",
     "text": [
      "[0.68571429 0.6        0.56190476 0.56190476 0.60952381 0.5047619\n",
      " 0.51428571 0.62857143 0.62857143 0.56190476]\n",
      "0.5857142857142856\n"
     ]
    }
   ],
   "source": [
    "bnb_scores = cross_val_score(bnb_clf_sentiment, X_train_vec_bool, train_sentiment, cv=10) # 10-fold cross validation\n",
    "print(bnb_scores)\n",
    "print(np.mean(bnb_scores))"
   ]
  },
  {
   "cell_type": "code",
   "execution_count": 17,
   "id": "474f707b",
   "metadata": {
    "ExecuteTime": {
     "end_time": "2022-06-18T00:51:17.061666Z",
     "start_time": "2022-06-18T00:51:17.015881Z"
    }
   },
   "outputs": [
    {
     "name": "stdout",
     "output_type": "stream",
     "text": [
      "0.6311111111111111\n",
      "              precision    recall  f1-score   support\n",
      "\n",
      "     neutral       0.71      0.65      0.68       157\n",
      "    positive       0.55      0.88      0.68       146\n",
      "    negative       0.73      0.37      0.49       147\n",
      "\n",
      "    accuracy                           0.63       450\n",
      "   macro avg       0.66      0.63      0.61       450\n",
      "weighted avg       0.66      0.63      0.62       450\n",
      "\n"
     ]
    }
   ],
   "source": [
    "unigram_bool_nostop_vectorizer = CountVectorizer(encoding='latin-1', binary=True, min_df=5)\n",
    "\n",
    "X_train_vec_bool_nostop = unigram_bool_nostop_vectorizer.fit_transform(X_train)\n",
    "X_test_vec_bool_nostop = unigram_bool_nostop_vectorizer.transform(X_test)\n",
    "\n",
    "bnb_clf_sentiment_nostop = BernoulliNB()\n",
    "bnb_clf_sentiment_nostop.fit(X_train_vec_bool_nostop, train_sentiment)\n",
    "print(bnb_clf_sentiment_nostop.score(X_test_vec_bool_nostop, test_sentiment))\n",
    "\n",
    "bnbPred_sentiment2 = bnb_clf_sentiment_nostop.fit(X_train_vec_bool_nostop, train_sentiment).predict(X_test_vec_bool_nostop)\n",
    "print(classification_report(test_sentiment, bnbPred_sentiment2, target_names=target_names))"
   ]
  },
  {
   "cell_type": "code",
   "execution_count": 18,
   "id": "9ad140dc",
   "metadata": {
    "ExecuteTime": {
     "end_time": "2022-06-18T00:51:17.108196Z",
     "start_time": "2022-06-18T00:51:17.062666Z"
    }
   },
   "outputs": [
    {
     "name": "stdout",
     "output_type": "stream",
     "text": [
      "[0.7047619  0.60952381 0.57142857 0.60952381 0.6        0.52380952\n",
      " 0.51428571 0.63809524 0.65714286 0.61904762]\n",
      "0.6047619047619047\n"
     ]
    }
   ],
   "source": [
    "bnb_scores_nostop = cross_val_score(bnb_clf_sentiment_nostop, X_train_vec_bool_nostop, train_sentiment, cv=10) # 10-fold cross validation\n",
    "print(bnb_scores_nostop)\n",
    "print(np.mean(bnb_scores_nostop))"
   ]
  },
  {
   "cell_type": "code",
   "execution_count": 19,
   "id": "b13699a6",
   "metadata": {
    "ExecuteTime": {
     "end_time": "2022-06-18T00:51:17.154825Z",
     "start_time": "2022-06-18T00:51:17.109197Z"
    }
   },
   "outputs": [
    {
     "name": "stdout",
     "output_type": "stream",
     "text": [
      "0.54\n",
      "              precision    recall  f1-score   support\n",
      "\n",
      "     neutral       0.65      0.50      0.57       157\n",
      "    positive       0.47      0.86      0.61       146\n",
      "    negative       0.63      0.27      0.37       147\n",
      "\n",
      "    accuracy                           0.54       450\n",
      "   macro avg       0.58      0.54      0.52       450\n",
      "weighted avg       0.59      0.54      0.52       450\n",
      "\n"
     ]
    }
   ],
   "source": [
    "unigram_bool_10_vectorizer = CountVectorizer(encoding='latin-1', binary=True, min_df=10, stop_words='english')\n",
    "\n",
    "X_train_vec_bool_10 = unigram_bool_10_vectorizer.fit_transform(X_train)\n",
    "X_test_vec_bool_10 = unigram_bool_10_vectorizer.transform(X_test)\n",
    "\n",
    "bnb_clf_sentiment_10 = BernoulliNB()\n",
    "bnb_clf_sentiment_10.fit(X_train_vec_bool_10, train_sentiment)\n",
    "print(bnb_clf_sentiment_10.score(X_test_vec_bool_10, test_sentiment))\n",
    "\n",
    "bnbPred_sentiment3 = bnb_clf_sentiment_10.fit(X_train_vec_bool_10, train_sentiment).predict(X_test_vec_bool_10)\n",
    "print(classification_report(test_sentiment, bnbPred_sentiment3, target_names=target_names))"
   ]
  },
  {
   "cell_type": "code",
   "execution_count": 20,
   "id": "082adae3",
   "metadata": {
    "ExecuteTime": {
     "end_time": "2022-06-18T00:51:17.185852Z",
     "start_time": "2022-06-18T00:51:17.155826Z"
    }
   },
   "outputs": [
    {
     "name": "stdout",
     "output_type": "stream",
     "text": [
      "[0.64761905 0.59047619 0.57142857 0.48571429 0.56190476 0.44761905\n",
      " 0.56190476 0.6        0.60952381 0.52380952]\n",
      "0.5599999999999999\n"
     ]
    }
   ],
   "source": [
    "bnb_scores_10 = cross_val_score(bnb_clf_sentiment_10, X_train_vec_bool_10, train_sentiment, cv=10) # 10-fold cross validation\n",
    "print(bnb_scores_10)\n",
    "print(np.mean(bnb_scores_10))"
   ]
  },
  {
   "cell_type": "code",
   "execution_count": 21,
   "id": "42793bb0",
   "metadata": {
    "ExecuteTime": {
     "end_time": "2022-06-18T00:51:17.232392Z",
     "start_time": "2022-06-18T00:51:17.187353Z"
    }
   },
   "outputs": [
    {
     "name": "stdout",
     "output_type": "stream",
     "text": [
      "0.5733333333333334\n",
      "              precision    recall  f1-score   support\n",
      "\n",
      "     neutral       0.68      0.55      0.61       157\n",
      "    positive       0.50      0.86      0.63       146\n",
      "    negative       0.65      0.31      0.42       147\n",
      "\n",
      "    accuracy                           0.57       450\n",
      "   macro avg       0.61      0.57      0.55       450\n",
      "weighted avg       0.61      0.57      0.55       450\n",
      "\n"
     ]
    }
   ],
   "source": [
    "unigram_bool_10_vectorizer_ns = CountVectorizer(encoding='latin-1', binary=True, min_df=10)\n",
    "\n",
    "X_train_vec_bool_10_ns = unigram_bool_10_vectorizer_ns.fit_transform(X_train)\n",
    "X_test_vec_bool_10_ns = unigram_bool_10_vectorizer_ns.transform(X_test)\n",
    "\n",
    "bnb_clf_sentiment_10_ns = BernoulliNB()\n",
    "bnb_clf_sentiment_10_ns.fit(X_train_vec_bool_10_ns, train_sentiment)\n",
    "print(bnb_clf_sentiment_10_ns.score(X_test_vec_bool_10_ns, test_sentiment))\n",
    "\n",
    "bnbPred_sentiment4 = bnb_clf_sentiment_10_ns.fit(X_train_vec_bool_10_ns, train_sentiment).predict(X_test_vec_bool_10_ns)\n",
    "print(classification_report(test_sentiment, bnbPred_sentiment4, target_names=target_names))"
   ]
  },
  {
   "cell_type": "code",
   "execution_count": 22,
   "id": "b7b70a54",
   "metadata": {
    "ExecuteTime": {
     "end_time": "2022-06-18T00:51:17.278837Z",
     "start_time": "2022-06-18T00:51:17.233393Z"
    }
   },
   "outputs": [
    {
     "name": "stdout",
     "output_type": "stream",
     "text": [
      "[0.6952381  0.61904762 0.57142857 0.56190476 0.57142857 0.47619048\n",
      " 0.56190476 0.59047619 0.60952381 0.57142857]\n",
      "0.5828571428571427\n"
     ]
    }
   ],
   "source": [
    "bnb_scores_10_ns = cross_val_score(bnb_clf_sentiment_10_ns, X_train_vec_bool_10_ns, train_sentiment, cv=10) # 10-fold cross validation\n",
    "print(bnb_scores_10_ns)\n",
    "print(np.mean(bnb_scores_10_ns))"
   ]
  },
  {
   "cell_type": "code",
   "execution_count": 23,
   "id": "a33ba06e",
   "metadata": {
    "ExecuteTime": {
     "end_time": "2022-06-18T00:51:17.325377Z",
     "start_time": "2022-06-18T00:51:17.279838Z"
    }
   },
   "outputs": [
    {
     "name": "stdout",
     "output_type": "stream",
     "text": [
      "0.62\n",
      "              precision    recall  f1-score   support\n",
      "\n",
      "     neutral       0.66      0.68      0.67       157\n",
      "    positive       0.57      0.75      0.65       146\n",
      "    negative       0.64      0.42      0.51       147\n",
      "\n",
      "    accuracy                           0.62       450\n",
      "   macro avg       0.63      0.62      0.61       450\n",
      "weighted avg       0.63      0.62      0.61       450\n",
      "\n"
     ]
    }
   ],
   "source": [
    "unigram_count_vectorizer = CountVectorizer(encoding='latin-1', binary=False, min_df=5, stop_words='english')\n",
    "\n",
    "X_train_vec_count = unigram_count_vectorizer.fit_transform(X_train)\n",
    "X_test_vec_count = unigram_count_vectorizer.transform(X_test)\n",
    "\n",
    "mnb_clf_sentiment = MultinomialNB()\n",
    "mnb_clf_sentiment.fit(X_train_vec_count, train_sentiment)\n",
    "print(mnb_clf_sentiment.score(X_test_vec_count, test_sentiment))\n",
    "\n",
    "target_names = ['neutral', 'positive', 'negative']\n",
    "\n",
    "mnbPred_sentiment = mnb_clf_sentiment.fit(X_train_vec_count, train_sentiment).predict(X_test_vec_count)\n",
    "print(classification_report(test_sentiment, mnbPred_sentiment, target_names=target_names))"
   ]
  },
  {
   "cell_type": "code",
   "execution_count": 24,
   "id": "190b59c6",
   "metadata": {
    "ExecuteTime": {
     "end_time": "2022-06-18T00:51:17.356403Z",
     "start_time": "2022-06-18T00:51:17.326377Z"
    }
   },
   "outputs": [
    {
     "name": "stdout",
     "output_type": "stream",
     "text": [
      "[0.66666667 0.57142857 0.6        0.56190476 0.61904762 0.47619048\n",
      " 0.45714286 0.7047619  0.60952381 0.58095238]\n",
      "0.5847619047619046\n"
     ]
    }
   ],
   "source": [
    "mnb_scores = cross_val_score(mnb_clf_sentiment, X_train_vec_count, train_sentiment, cv=10) # 10-fold cross validation\n",
    "print(mnb_scores)\n",
    "print(np.mean(mnb_scores))"
   ]
  },
  {
   "cell_type": "code",
   "execution_count": 25,
   "id": "e33d32e2",
   "metadata": {
    "ExecuteTime": {
     "end_time": "2022-06-18T00:51:17.402934Z",
     "start_time": "2022-06-18T00:51:17.357405Z"
    }
   },
   "outputs": [
    {
     "name": "stdout",
     "output_type": "stream",
     "text": [
      "0.6377777777777778\n",
      "              precision    recall  f1-score   support\n",
      "\n",
      "     neutral       0.69      0.68      0.68       157\n",
      "    positive       0.57      0.82      0.67       146\n",
      "    negative       0.72      0.42      0.53       147\n",
      "\n",
      "    accuracy                           0.64       450\n",
      "   macro avg       0.66      0.64      0.63       450\n",
      "weighted avg       0.66      0.64      0.63       450\n",
      "\n"
     ]
    }
   ],
   "source": [
    "unigram_count_nostop_vectorizer = CountVectorizer(encoding='latin-1', binary=False, min_df=5)\n",
    "\n",
    "X_train_vec_count_nostop = unigram_count_nostop_vectorizer.fit_transform(X_train)\n",
    "X_test_vec_count_nostop = unigram_count_nostop_vectorizer.transform(X_test)\n",
    "\n",
    "mnb_clf_sentiment_nostop = MultinomialNB()\n",
    "mnb_clf_sentiment_nostop.fit(X_train_vec_count_nostop, train_sentiment)\n",
    "print(mnb_clf_sentiment_nostop.score(X_test_vec_count_nostop, test_sentiment))\n",
    "\n",
    "mnbPred_sentiment2 = mnb_clf_sentiment_nostop.fit(X_train_vec_count_nostop, train_sentiment).predict(X_test_vec_count_nostop)\n",
    "print(classification_report(test_sentiment, mnbPred_sentiment2, target_names=target_names))"
   ]
  },
  {
   "cell_type": "code",
   "execution_count": 26,
   "id": "9fa82407",
   "metadata": {
    "ExecuteTime": {
     "end_time": "2022-06-18T00:51:17.433961Z",
     "start_time": "2022-06-18T00:51:17.403934Z"
    }
   },
   "outputs": [
    {
     "name": "stdout",
     "output_type": "stream",
     "text": [
      "[0.74285714 0.57142857 0.59047619 0.63809524 0.59047619 0.53333333\n",
      " 0.46666667 0.67619048 0.62857143 0.58095238]\n",
      "0.6019047619047619\n"
     ]
    }
   ],
   "source": [
    "mnb_scores_nostop = cross_val_score(mnb_clf_sentiment_nostop, X_train_vec_count_nostop, train_sentiment, cv=10) # 10-fold cross validation\n",
    "print(mnb_scores_nostop)\n",
    "print(np.mean(mnb_scores_nostop))"
   ]
  },
  {
   "cell_type": "code",
   "execution_count": 27,
   "id": "2f0dbc0e",
   "metadata": {
    "ExecuteTime": {
     "end_time": "2022-06-18T00:51:17.542553Z",
     "start_time": "2022-06-18T00:51:17.435462Z"
    }
   },
   "outputs": [
    {
     "name": "stdout",
     "output_type": "stream",
     "text": [
      "0.62\n",
      "              precision    recall  f1-score   support\n",
      "\n",
      "     neutral       0.68      0.64      0.66       157\n",
      "    positive       0.55      0.68      0.61       146\n",
      "    negative       0.65      0.54      0.59       147\n",
      "\n",
      "    accuracy                           0.62       450\n",
      "   macro avg       0.63      0.62      0.62       450\n",
      "weighted avg       0.63      0.62      0.62       450\n",
      "\n"
     ]
    }
   ],
   "source": [
    "unigram_count_vectorizer = CountVectorizer(encoding='latin-1', binary=False, min_df=5, stop_words='english')\n",
    "\n",
    "X_train_vec_count = unigram_count_vectorizer.fit_transform(X_train)\n",
    "X_test_vec_count = unigram_count_vectorizer.transform(X_test)\n",
    "\n",
    "svm_clf = LinearSVC(C=1)\n",
    "svm_clf.fit(X_train_vec_count,train_sentiment)\n",
    "print(svm_clf.score(X_test_vec_count, test_sentiment))\n",
    "\n",
    "svmPred_sentiment = svm_clf.fit(X_train_vec_count,train_sentiment).predict(X_test_vec_count)\n",
    "print(classification_report(test_sentiment, svmPred_sentiment, target_names=target_names))"
   ]
  },
  {
   "cell_type": "code",
   "execution_count": 28,
   "id": "9cba0e47",
   "metadata": {
    "ExecuteTime": {
     "end_time": "2022-06-18T00:51:17.821793Z",
     "start_time": "2022-06-18T00:51:17.544555Z"
    }
   },
   "outputs": [
    {
     "name": "stdout",
     "output_type": "stream",
     "text": [
      "[0.56190476 0.5047619  0.63809524 0.62857143 0.61904762 0.53333333\n",
      " 0.57142857 0.60952381 0.60952381 0.48571429]\n",
      "0.5761904761904761\n"
     ]
    }
   ],
   "source": [
    "svm_clf_scores = cross_val_score(svm_clf, X_train_vec_count, train_sentiment, cv=10) # 10-fold cross validation\n",
    "print(svm_clf_scores)\n",
    "print(np.mean(svm_clf_scores))"
   ]
  },
  {
   "cell_type": "code",
   "execution_count": 29,
   "id": "7b1a0369",
   "metadata": {
    "ExecuteTime": {
     "end_time": "2022-06-18T00:51:17.945900Z",
     "start_time": "2022-06-18T00:51:17.822794Z"
    }
   },
   "outputs": [
    {
     "name": "stdout",
     "output_type": "stream",
     "text": [
      "0.6355555555555555\n",
      "              precision    recall  f1-score   support\n",
      "\n",
      "     neutral       0.71      0.65      0.68       157\n",
      "    positive       0.56      0.62      0.59       146\n",
      "    negative       0.64      0.63      0.64       147\n",
      "\n",
      "    accuracy                           0.64       450\n",
      "   macro avg       0.64      0.64      0.64       450\n",
      "weighted avg       0.64      0.64      0.64       450\n",
      "\n"
     ]
    }
   ],
   "source": [
    "unigram_count_nostop_vectorizer = CountVectorizer(encoding='latin-1', binary=False, min_df=5)\n",
    "\n",
    "X_train_vec_count_nostop = unigram_count_nostop_vectorizer.fit_transform(X_train)\n",
    "X_test_vec_count_nostop = unigram_count_nostop_vectorizer.transform(X_test)\n",
    "\n",
    "svm_clf_nostop = LinearSVC(C=1)\n",
    "svm_clf_nostop.fit(X_train_vec_count_nostop,train_sentiment)\n",
    "print(svm_clf_nostop.score(X_test_vec_count_nostop, test_sentiment))\n",
    "\n",
    "svmPred_sentiment_nostop = svm_clf_nostop.fit(X_train_vec_count_nostop,train_sentiment).predict(X_test_vec_count_nostop)\n",
    "print(classification_report(test_sentiment, svmPred_sentiment_nostop, target_names=target_names))"
   ]
  },
  {
   "cell_type": "code",
   "execution_count": 30,
   "id": "4e148b5b",
   "metadata": {
    "ExecuteTime": {
     "end_time": "2022-06-18T00:51:18.271679Z",
     "start_time": "2022-06-18T00:51:17.946901Z"
    }
   },
   "outputs": [
    {
     "name": "stdout",
     "output_type": "stream",
     "text": [
      "[0.7047619  0.6        0.6        0.67619048 0.6952381  0.68571429\n",
      " 0.57142857 0.64761905 0.52380952 0.53333333]\n",
      "0.6238095238095237\n"
     ]
    }
   ],
   "source": [
    "svm_clf_scores_nostop = cross_val_score(svm_clf_nostop, X_train_vec_count_nostop, train_sentiment, cv=10) # 10-fold cross validation\n",
    "print(svm_clf_scores_nostop)\n",
    "print(np.mean(svm_clf_scores_nostop))"
   ]
  },
  {
   "cell_type": "code",
   "execution_count": 31,
   "id": "6974c3c2",
   "metadata": {
    "ExecuteTime": {
     "end_time": "2022-06-18T00:51:18.364858Z",
     "start_time": "2022-06-18T00:51:18.273181Z"
    }
   },
   "outputs": [
    {
     "name": "stdout",
     "output_type": "stream",
     "text": [
      "0.6177777777777778\n",
      "              precision    recall  f1-score   support\n",
      "\n",
      "     neutral       0.66      0.64      0.65       157\n",
      "    positive       0.57      0.71      0.63       146\n",
      "    negative       0.64      0.50      0.56       147\n",
      "\n",
      "    accuracy                           0.62       450\n",
      "   macro avg       0.62      0.62      0.61       450\n",
      "weighted avg       0.62      0.62      0.62       450\n",
      "\n"
     ]
    }
   ],
   "source": [
    "bigram_count_vectorizer = CountVectorizer(encoding='latin-1', binary=False, min_df=5, ngram_range=(1,2), stop_words='english')\n",
    "\n",
    "X_train_vec_count_bigram = bigram_count_vectorizer.fit_transform(X_train)\n",
    "X_test_vec_count_bigram = bigram_count_vectorizer.transform(X_test)\n",
    "\n",
    "svm_clf_bigram = LinearSVC(C=1)\n",
    "svm_clf_bigram.fit(X_train_vec_count_bigram,train_sentiment)\n",
    "print(svm_clf_bigram.score(X_test_vec_count_bigram, test_sentiment))\n",
    "\n",
    "svmPred_sentiment_bigram = svm_clf_bigram.fit(X_train_vec_count_bigram,train_sentiment).predict(X_test_vec_count_bigram)\n",
    "print(classification_report(test_sentiment, svmPred_sentiment_bigram, target_names=target_names))"
   ]
  },
  {
   "cell_type": "code",
   "execution_count": 32,
   "id": "170add65",
   "metadata": {
    "ExecuteTime": {
     "end_time": "2022-06-18T00:51:18.566465Z",
     "start_time": "2022-06-18T00:51:18.365859Z"
    }
   },
   "outputs": [
    {
     "name": "stdout",
     "output_type": "stream",
     "text": [
      "[0.6        0.52380952 0.62857143 0.63809524 0.61904762 0.54285714\n",
      " 0.58095238 0.60952381 0.56190476 0.43809524]\n",
      "0.5742857142857143\n"
     ]
    }
   ],
   "source": [
    "svm_clf_scores_bigram = cross_val_score(svm_clf_bigram, X_train_vec_count_bigram, train_sentiment, cv=10) # 10-fold cross validation\n",
    "print(svm_clf_scores_bigram)\n",
    "print(np.mean(svm_clf_scores_bigram))"
   ]
  },
  {
   "cell_type": "code",
   "execution_count": 33,
   "id": "1fe43b54",
   "metadata": {
    "ExecuteTime": {
     "end_time": "2022-06-18T00:51:18.690572Z",
     "start_time": "2022-06-18T00:51:18.567967Z"
    }
   },
   "outputs": [
    {
     "name": "stdout",
     "output_type": "stream",
     "text": [
      "0.6333333333333333\n",
      "              precision    recall  f1-score   support\n",
      "\n",
      "     neutral       0.71      0.66      0.68       157\n",
      "    positive       0.59      0.64      0.61       146\n",
      "    negative       0.61      0.59      0.60       147\n",
      "\n",
      "    accuracy                           0.63       450\n",
      "   macro avg       0.63      0.63      0.63       450\n",
      "weighted avg       0.64      0.63      0.63       450\n",
      "\n"
     ]
    }
   ],
   "source": [
    "bigram_count_vectorizer = CountVectorizer(encoding='latin-1', binary=False, min_df=5, ngram_range=(1,2))\n",
    "\n",
    "X_train_vec_count_bigram = bigram_count_vectorizer.fit_transform(X_train)\n",
    "X_test_vec_count_bigram = bigram_count_vectorizer.transform(X_test)\n",
    "\n",
    "svm_clf_bigram = LinearSVC(C=1)\n",
    "svm_clf_bigram.fit(X_train_vec_count_bigram,train_sentiment)\n",
    "print(svm_clf_bigram.score(X_test_vec_count_bigram, test_sentiment))\n",
    "\n",
    "svmPred_sentiment_bigram = svm_clf_bigram.fit(X_train_vec_count_bigram,train_sentiment).predict(X_test_vec_count_bigram)\n",
    "print(classification_report(test_sentiment, svmPred_sentiment_bigram, target_names=target_names))"
   ]
  },
  {
   "cell_type": "code",
   "execution_count": 34,
   "id": "b3c322ea",
   "metadata": {
    "ExecuteTime": {
     "end_time": "2022-06-18T00:51:18.923273Z",
     "start_time": "2022-06-18T00:51:18.692073Z"
    }
   },
   "outputs": [
    {
     "name": "stdout",
     "output_type": "stream",
     "text": [
      "[0.6952381  0.58095238 0.61904762 0.71428571 0.64761905 0.66666667\n",
      " 0.54285714 0.63809524 0.58095238 0.54285714]\n",
      "0.6228571428571428\n"
     ]
    }
   ],
   "source": [
    "svm_clf_scores_bigram = cross_val_score(svm_clf_bigram, X_train_vec_count_bigram, train_sentiment, cv=10) # 10-fold cross validation\n",
    "print(svm_clf_scores_bigram)\n",
    "print(np.mean(svm_clf_scores_bigram))"
   ]
  },
  {
   "cell_type": "code",
   "execution_count": 35,
   "id": "2da254dd",
   "metadata": {
    "ExecuteTime": {
     "end_time": "2022-06-18T00:51:18.938787Z",
     "start_time": "2022-06-18T00:51:18.924274Z"
    }
   },
   "outputs": [],
   "source": [
    "def display_topics(model, feature_names, no_top_words):\n",
    "    for topic_idx, topic in enumerate(model.components_):\n",
    "        print(\"Topic %d:\" % (topic_idx))\n",
    "        print(\" \".join([feature_names[i]\n",
    "                        for i in topic.argsort()[:-no_top_words - 1:-1]]))"
   ]
  },
  {
   "cell_type": "code",
   "execution_count": 36,
   "id": "6eef7b96",
   "metadata": {
    "ExecuteTime": {
     "end_time": "2022-06-18T00:51:19.667889Z",
     "start_time": "2022-06-18T00:51:18.940287Z"
    }
   },
   "outputs": [
    {
     "name": "stdout",
     "output_type": "stream",
     "text": [
      "Topic 0:\n",
      "mobile market services china products nokia phone data demand phones\n",
      "Topic 1:\n",
      "companies financial said industry dividend firm higher countries growth chief\n",
      "Topic 2:\n",
      "share eps eur0 earnings price points dropped loss passenger day\n",
      "Topic 3:\n",
      "company finnish group 2009 finland business 2010 said solutions corporation\n",
      "Topic 4:\n",
      "finland omx oy exchange stock release 2008 agreement corporation steel\n",
      "Topic 5:\n",
      "bank cost lay offs finland energy staff sampo euros 15\n",
      "Topic 6:\n",
      "said 000 company new paper year stora enso plant helsinki\n",
      "Topic 7:\n",
      "percent capital share based passenger traffic revenue capacity increase total\n",
      "Topic 8:\n",
      "contract office finnish new building said construction company basware make\n",
      "Topic 9:\n",
      "eur mn profit net sales year operating quarter million mln\n"
     ]
    }
   ],
   "source": [
    "tf_vectorizer = CountVectorizer(min_df=5, max_features=1000, stop_words='english')\n",
    "tf = tf_vectorizer.fit_transform(X_train)\n",
    "tf_feature_names = tf_vectorizer.get_feature_names()\n",
    "\n",
    "lda = LatentDirichletAllocation(n_components=10, max_iter=5, learning_method='online', learning_offset=50.,random_state=0)\n",
    "lda_z = lda.fit_transform(tf)\n",
    "\n",
    "display_topics(lda, tf_feature_names, 10)"
   ]
  },
  {
   "cell_type": "code",
   "execution_count": 37,
   "id": "e8530281",
   "metadata": {
    "ExecuteTime": {
     "end_time": "2022-06-18T00:51:20.459175Z",
     "start_time": "2022-06-18T00:51:19.668891Z"
    }
   },
   "outputs": [
    {
     "name": "stdout",
     "output_type": "stream",
     "text": [
      "Topic 0:\n",
      "said companies company operations finnish eur cost company said russia plant\n",
      "Topic 1:\n",
      "portfolio price billion acquisition worth line customer product 100 day\n",
      "Topic 2:\n",
      "stock exchange stock exchange corporation release manufacturing countries 40 nordic 14\n",
      "Topic 3:\n",
      "company market shares group share percent investment capital office financial\n",
      "Topic 4:\n",
      "mln finnish year 2010 company oyj said net 2009 million\n",
      "Topic 5:\n",
      "eur mn sales profit operating net eur mn net sales period 2008\n",
      "Topic 6:\n",
      "finland helsinki company 000 omx oy passenger business pct production\n",
      "Topic 7:\n",
      "new company share contract finnish eps earnings earnings share eur0 share eps\n",
      "Topic 8:\n",
      "paper stora stora enso enso result demand 20 costs said printing\n",
      "Topic 9:\n",
      "mobile services ceo nokia china phone said mobile phone products phones\n"
     ]
    }
   ],
   "source": [
    "tf_vectorizer2 = CountVectorizer(min_df=5, max_features=1000, stop_words='english', ngram_range=(1,2))\n",
    "tf2 = tf_vectorizer2.fit_transform(X_train)\n",
    "tf_feature_names2 = tf_vectorizer2.get_feature_names()\n",
    "\n",
    "lda2 = LatentDirichletAllocation(n_components=10, max_iter=5, learning_method='online', learning_offset=50.,random_state=0)\n",
    "lda_z2 = lda2.fit_transform(tf2)\n",
    "\n",
    "display_topics(lda2, tf_feature_names2, 10)"
   ]
  },
  {
   "cell_type": "code",
   "execution_count": 38,
   "id": "a73b592c",
   "metadata": {
    "ExecuteTime": {
     "end_time": "2022-06-18T00:51:22.723789Z",
     "start_time": "2022-06-18T00:51:20.460176Z"
    }
   },
   "outputs": [
    {
     "name": "stderr",
     "output_type": "stream",
     "text": [
      "C:\\Users\\Ash\\anaconda3\\lib\\site-packages\\pyLDAvis\\_prepare.py:246: FutureWarning: In a future version of pandas all arguments of DataFrame.drop except for the argument 'labels' will be keyword-only\n",
      "  default_term_info = default_term_info.sort_values(\n"
     ]
    },
    {
     "data": {
      "text/html": [
       "\n",
       "<link rel=\"stylesheet\" type=\"text/css\" href=\"https://cdn.jsdelivr.net/gh/bmabey/pyLDAvis@3.3.1/pyLDAvis/js/ldavis.v1.0.0.css\">\n",
       "\n",
       "\n",
       "<div id=\"ldavis_el1628422544605182883498505243\"></div>\n",
       "<script type=\"text/javascript\">\n",
       "\n",
       "var ldavis_el1628422544605182883498505243_data = {\"mdsDat\": {\"x\": [-0.29411371621027177, 0.041446957247372726, 0.05711808527903551, 0.09187893659420007, 0.06118139898732367, 0.011516628302627719, 0.027623596367143653, 0.04898458334709461, -0.07017380648605914, 0.024537336571533196], \"y\": [-0.08345231573388252, -0.11401561459538587, -0.042182787618025006, -0.11959315323499921, 0.013328919976948997, -0.0036097325224514597, 0.1506952409001074, 0.0012154915227736123, 0.17174846577829053, 0.025865485526623152], \"topics\": [1, 2, 3, 4, 5, 6, 7, 8, 9, 10], \"cluster\": [1, 1, 1, 1, 1, 1, 1, 1, 1, 1], \"Freq\": [38.29029335255923, 17.760627534104405, 11.012588927342023, 7.428556949169727, 6.4125400073036385, 4.797284274128157, 4.707634077427008, 3.9504472880848835, 3.195992536348921, 2.444035053532016]}, \"tinfo\": {\"Term\": [\"eur\", \"mn\", \"share\", \"finland\", \"company\", \"mobile\", \"profit\", \"loss\", \"eur0\", \"eps\", \"said\", \"net\", \"bank\", \"market\", \"2008\", \"percent\", \"finnish\", \"companies\", \"year\", \"contract\", \"new\", \"services\", \"000\", \"omx\", \"earnings\", \"oy\", \"compared\", \"financial\", \"quarter\", \"office\", \"eur\", \"mn\", \"profit\", \"net\", \"mln\", \"period\", \"corresponding\", \"quarter\", \"sales\", \"operating\", \"half\", \"compared\", \"euro\", \"million\", \"totalled\", \"2005\", \"totaled\", \"pretax\", \"earlier\", \"loss\", \"fell\", \"2007\", \"2004\", \"previous\", \"narrowed\", \"usd\", \"fourth\", \"eur4\", \"ago\", \"taxes\", \"decreased\", \"year\", \"2008\", \"second\", \"2006\", \"2010\", \"2009\", \"rose\", \"oyj\", \"finnish\", \"10\", \"company\", \"group\", \"said\", \"insurance\", \"business\", \"joint\", \"negotiations\", \"acquisition\", \"scheduled\", \"significant\", \"focus\", \"division\", \"approximately\", \"stake\", \"according\", \"petersburg\", \"handling\", \"told\", \"number\", \"major\", \"raisio\", \"union\", \"started\", \"clients\", \"received\", \"sold\", \"kemira\", \"solutions\", \"director\", \"q1\", \"cargotec\", \"place\", \"sale\", \"measures\", \"media\", \"company\", \"time\", \"corporation\", \"group\", \"russia\", \"finnish\", \"finland\", \"2009\", \"subsidiary\", \"project\", \"unit\", \"result\", \"2010\", \"plc\", \"construction\", \"helsinki\", \"today\", \"said\", \"companies\", \"hel\", \"services\", \"september\", \"end\", \"enso\", \"stora\", \"oil\", \"paper\", \"tonnes\", \"pulp\", \"lower\", \"volume\", \"facility\", \"90\", \"kymmene\", \"reduction\", \"real\", \"neste\", \"upm\", \"plant\", \"cut\", \"addition\", \"line\", \"jobs\", \"offering\", \"production\", \"includes\", \"prices\", \"20\", \"planned\", \"sell\", \"000\", \"corp\", \"enable\", \"largest\", \"supply\", \"new\", \"october\", \"total\", \"said\", \"pct\", \"helsinki\", \"costs\", \"company\", \"year\", \"25\", \"shares\", \"oyj\", \"omx\", \"finnish\", \"maker\", \"technology\", \"office\", \"basware\", \"application\", \"make\", \"investors\", \"contract\", \"building\", \"property\", \"fiskars\", \"solution\", \"head\", \"best\", \"complete\", \"work\", \"purchase\", \"consumers\", \"provide\", \"technical\", \"ceo\", \"entire\", \"design\", \"yit\", \"president\", \"germany\", \"metso\", \"traffic\", \"awarded\", \"won\", \"software\", \"online\", \"construction\", \"new\", \"august\", \"operations\", \"news\", \"finnish\", \"said\", \"transaction\", \"year\", \"company\", \"group\", \"2007\", \"services\", \"mobile\", \"phones\", \"china\", \"phone\", \"situation\", \"experience\", \"data\", \"nokia\", \"directors\", \"internet\", \"printing\", \"weak\", \"products\", \"network\", \"operator\", \"demand\", \"board\", \"mr\", \"market\", \"years\", \"forecasts\", \"high\", \"services\", \"global\", \"research\", \"elcoteq\", \"user\", \"include\", \"continue\", \"manufacturing\", \"expected\", \"largest\", \"second\", \"position\", \"release\", \"march\", \"said\", \"share\", \"2008\", \"company\", \"exchange\", \"nasdaq\", \"stock\", \"ruukki\", \"omx\", \"www\", \"release\", \"nordic\", \"oy\", \"developed\", \"steel\", \"press\", \"estimate\", \"rautaruukki\", \"agreement\", \"com\", \"26\", \"finland\", \"deliver\", \"site\", \"signed\", \"closed\", \"40\", \"results\", \"sampo\", \"engineering\", \"controlled\", \"corporation\", \"wednesday\", \"23\", \"11\", \"helsinki\", \"12\", \"shares\", \"2008\", \"2009\", \"market\", \"capital\", \"percent\", \"voting\", \"platform\", \"revenue\", \"buy\", \"web\", \"investments\", \"access\", \"capacity\", \"devices\", \"rights\", \"especially\", \"went\", \"secure\", \"commercial\", \"traffic\", \"improvement\", \"passenger\", \"europe\", \"trade\", \"service\", \"based\", \"value\", \"available\", \"small\", \"center\", \"19\", \"use\", \"22\", \"online\", \"increase\", \"information\", \"share\", \"january\", \"total\", \"technology\", \"rose\", \"12\", \"shares\", \"chief\", \"firm\", \"countries\", \"executive\", \"dividend\", \"aim\", \"higher\", \"offer\", \"government\", \"industry\", \"financial\", \"report\", \"continued\", \"potential\", \"atria\", \"asia\", \"baltic\", \"companies\", \"improved\", \"looking\", \"forest\", \"currency\", \"acquire\", \"2011\", \"combined\", \"international\", \"units\", \"growth\", \"brand\", \"nordea\", \"swedish\", \"month\", \"said\", \"march\", \"2008\", \"ceo\", \"unit\", \"earnings\", \"eps\", \"points\", \"price\", \"eur1\", \"eur0\", \"dropped\", \"day\", \"share\", \"load\", \"amounted\", \"versus\", \"index\", \"100\", \"37\", \"reporting\", \"passenger\", \"24\", \"38\", \"seen\", \"slightly\", \"decided\", \"teliasonera\", \"closed\", \"work\", \"fall\", \"olvi\", \"55\", \"level\", \"400\", \"finnair\", \"loss\", \"available\", \"rose\", \"compared\", \"12\", \"helsinki\", \"decreased\", \"acquisition\", \"2005\", \"bank\", \"lay\", \"offs\", \"cost\", \"sampo\", \"energy\", \"efficiency\", \"margin\", \"wood\", \"quality\", \"staff\", \"euros\", \"solution\", \"forecasts\", \"technical\", \"purchase\", \"personnel\", \"aim\", \"pohjola\", \"members\", \"years\", \"hand\", \"planned\", \"include\", \"people\", \"prices\", \"commercial\", \"performance\", \"slipped\", \"100\", \"15\", \"plc\", \"finland\", \"solutions\", \"employees\", \"10\", \"2010\", \"make\", \"2011\", \"manufacturing\", \"result\", \"finnair\"], \"Freq\": [309.0, 186.0, 59.0, 81.0, 177.0, 35.0, 119.0, 55.0, 24.0, 22.0, 105.0, 110.0, 19.0, 44.0, 86.0, 25.0, 130.0, 30.0, 111.0, 32.0, 47.0, 37.0, 46.0, 24.0, 16.0, 25.0, 55.0, 21.0, 81.0, 20.0, 307.0878416497593, 185.33472142913612, 117.759033637307, 108.61788805568372, 75.48863182330668, 73.86668419900032, 38.20108850717415, 77.64286390936346, 99.0108904785433, 79.49273957387945, 24.97710321606145, 50.9955869256716, 34.52887029404527, 76.84703940709642, 14.86311939237547, 23.412244372541224, 14.633870886740329, 12.503120236571915, 21.05002762205432, 48.633921301361184, 18.963591969276845, 54.98128768388973, 10.964594590495926, 9.88413219125631, 9.32325382448591, 15.37021998334668, 8.956694404365726, 8.144808161656869, 12.565467461132348, 7.551346353580166, 32.23033328414087, 83.5480381043423, 63.26734873680643, 25.218743045573714, 24.14132780339913, 36.80033448958416, 46.81557216984674, 20.247363409324127, 28.422843156233096, 45.85651542920472, 22.995775747348993, 44.847608729121184, 29.21549195050701, 25.597911587311938, 10.231941074336268, 32.464735144302935, 6.746967799646314, 8.869986273045054, 11.510405582779416, 5.66341896433234, 11.476089717046808, 5.365082792197939, 6.022719822458716, 6.12145962580496, 5.007421244029355, 14.774240016826607, 4.926890840832819, 7.97574715976256, 4.76017253530044, 11.538442320206666, 4.905614875810726, 4.615096463759338, 4.2241690880694645, 4.131243966554726, 4.671151442418567, 5.6465487732133, 8.796726923523607, 5.419810129297637, 17.500081476544175, 6.527176543684022, 9.60045118688342, 6.580137417401464, 4.76849955132546, 4.317730953605057, 9.403136457220945, 8.212460849521928, 93.9537218186765, 10.325900157438804, 15.320046675935787, 38.20725811760347, 10.553334522512616, 54.724186312338595, 33.86492259759187, 34.4214959274893, 9.269927990254581, 7.92997802116025, 11.635769280688045, 13.017292007913978, 20.81145035354659, 8.35092318096331, 11.293390599444765, 13.566688216742627, 12.90323884804786, 19.46797171798944, 11.370247698091791, 10.955798087961398, 11.559590471367189, 9.919828906968174, 9.023780921258687, 15.57383211116563, 16.44338404860693, 12.09167063422226, 18.161015913606406, 7.443437802123772, 6.436327301742057, 13.255703848387515, 8.376365650090943, 7.0537341807708955, 5.787225507923658, 4.420830368970674, 4.205008811032213, 7.140512071459367, 4.5906644522612785, 5.218148702882184, 14.34761580414319, 6.057650587740438, 5.606756407590202, 5.634452092017749, 4.763886111166235, 4.06348757562675, 13.353638692935375, 5.820012397069979, 6.56306300223239, 9.533861972578714, 3.776701774816643, 5.010253347140505, 24.43139209086417, 4.013952638314878, 3.5117333443723804, 13.224923504507109, 7.120337929284257, 21.085098901822015, 7.845850782592659, 11.413282947718974, 28.261128409643117, 10.462137657693903, 13.499493136957035, 6.516903849222249, 21.84401119746663, 16.923000531027512, 6.760884868827654, 9.11928987549689, 10.355186765274771, 7.54667943666163, 8.872243334521652, 6.763251942893764, 6.769090264938982, 19.14282901910734, 9.580041792401184, 6.260537647202037, 9.437099608971064, 5.277671266611949, 22.488206834608256, 14.350401758464107, 3.808474131878331, 7.6619071588037775, 5.492989506692479, 7.309800564735986, 3.821658805958127, 2.9504402485184684, 3.9404130509018302, 2.8517744935215035, 2.959926438378498, 4.242319634706895, 2.810692296417791, 9.04605504851886, 5.542890414738197, 7.929470340298049, 6.645734253795275, 5.788278884392335, 4.226352260825774, 4.642094018881166, 8.157765172192752, 5.473245300460141, 5.133691667880097, 6.612244155906856, 3.9264736769834943, 10.97086669967843, 14.713831856874885, 5.7487342310384655, 8.902992346143085, 5.562410198068189, 15.897838201831917, 14.16837576333546, 4.926578344681709, 9.08067339748176, 10.10482465431996, 7.533109262906123, 5.383681349464758, 5.193491600542985, 29.394704558099217, 9.020709691081935, 13.844369290003069, 10.43496874075857, 5.800023483255059, 4.997632213380498, 9.794362372009934, 12.445693211905382, 5.628594099390103, 7.454236263746229, 5.174848616151646, 3.673974445906141, 13.398984228575829, 6.438591123925445, 6.0750976632161064, 9.038952995071522, 6.83608114566683, 4.777720011324458, 25.435449184192542, 3.6191197102475203, 3.1207878014810273, 4.434981743553083, 17.863212746345933, 6.033613579977846, 4.076154143350239, 3.7763464248956113, 3.4504562369090026, 3.2482940804949707, 2.848447434222134, 5.1898598129734905, 8.9020294010124, 7.831805941411205, 7.028700273134828, 3.955191913423384, 4.659200212830944, 4.761124112552764, 5.168687515420433, 4.698369416689053, 4.676859405857125, 4.693623765572098, 12.206165015125585, 4.605630793576331, 10.404106784559087, 6.999851603361327, 13.868854150506452, 3.525322777942005, 9.820112119704126, 5.029801101840928, 13.820222363413302, 4.72271733018415, 7.077312448239076, 3.209555770131463, 3.1860311176180933, 4.931379278350845, 7.531732312068241, 3.3361635448102223, 4.6079203576452, 30.231187446696023, 3.103976502401426, 4.1945086763871045, 5.838383295767644, 1.940076331091606, 5.042000831720792, 1.8282133940840286, 2.220238922839703, 3.649894648597935, 1.547091482312188, 7.504593859453523, 1.690379938936925, 4.533397902906363, 4.73453775916235, 6.766592678856554, 5.184472549035351, 5.14129191756708, 8.207171895736126, 3.7226588988104785, 3.2455317502222516, 14.691518048591476, 18.717477012634774, 4.691669809496268, 4.091751559656494, 7.707710715931776, 4.473356737362991, 4.1925885278141, 3.0654909915698614, 2.8208801524007434, 7.334258416535556, 3.1679680577139857, 3.9310381576533313, 2.6074007862438418, 4.581678097923736, 2.6442306696783593, 3.150308210817748, 7.73283676887082, 2.3464074457784925, 8.303812778058706, 3.4804982845368215, 3.458698852524185, 4.2882567176286575, 8.421720598411454, 4.269916127803714, 5.3430867512775055, 1.990391516391435, 1.812986653719567, 2.7618783068197725, 3.392141020643847, 2.1989443338981522, 2.572999987296686, 6.0002136360880325, 3.0628027858242235, 10.387286487499397, 5.6502763308650925, 5.7614097330742, 4.6666856824297245, 4.96239420557229, 4.855537761172226, 4.532364184149756, 5.754605138102742, 6.620530096485652, 6.111389373253622, 3.8933605123867046, 7.869980143825204, 2.8794724692083506, 6.597234375535968, 3.2179235754814997, 4.8574604275542335, 8.532941813763328, 9.93229180687205, 4.983250869933013, 3.9712046841146553, 2.7590218713320427, 2.431885380162356, 2.4364963475548898, 3.6401320672056703, 12.360997150326535, 2.82547919430777, 2.023294008923762, 2.3223045784243532, 2.093984268259482, 1.9953498176764495, 3.23111316158449, 1.7728266414454903, 1.6238293082681452, 1.8461512572169025, 5.998052962589648, 1.4901674567955476, 2.612035444009198, 3.1090694216425807, 3.35872501263092, 9.709011083751728, 2.922530853613443, 4.0851616571860285, 2.642173362350368, 2.42688775069722, 13.258147404897695, 16.86506128777935, 8.385301756615743, 9.859951225421279, 4.452089301313068, 13.394890193217476, 5.348259961033487, 4.487097021788411, 26.805614586065307, 4.126738194711964, 4.280426596931449, 2.6176808352280583, 2.983988376420368, 3.1976762215884325, 1.6084500685247314, 1.4957614392652328, 4.7432834749428885, 2.1085987059373488, 1.595071361124258, 1.9535042587754161, 1.0314104229403944, 1.0663858807029403, 1.0161971526017282, 0.9883939263202013, 1.26876411366352, 1.033443897836895, 0.9382709133461591, 0.9614718743730859, 1.050072903903628, 0.9463539276755866, 2.1598438687396246, 5.200647250938793, 1.6779574082219284, 1.9866527930246047, 2.47245988082361, 1.8257197078396945, 1.7588591370155306, 1.4490340438666371, 1.207996156522643, 1.2513015133799523, 16.850081255893127, 6.788588276802021, 4.992683555357708, 7.765221578343005, 3.2133182556295257, 4.5333440198428, 2.4889362489211093, 2.62498405858136, 2.1582406264091443, 1.5937899225362655, 3.557115598168978, 3.043845619029796, 1.7657403627753898, 0.983187244899605, 0.9797998516047723, 0.9313726950362624, 1.9771149022517147, 0.9279405670061741, 0.9050343384520149, 0.9822896678267562, 0.9147885052188215, 0.9766523896530964, 0.9235375195229371, 0.9503981654990534, 1.7569474921365171, 1.4943293632538284, 0.8882490690656919, 0.8593208275135977, 0.7662116603861158, 1.1943752245431933, 2.637239685558618, 1.4499458877177518, 4.592396321340048, 1.6217674445652677, 1.1879294625306318, 1.4801457973599534, 1.2297415286425248, 1.0155614754028852, 0.9731466267966229, 0.9774847057186048, 0.980125744270207, 0.977658666967357], \"Total\": [309.0, 186.0, 59.0, 81.0, 177.0, 35.0, 119.0, 55.0, 24.0, 22.0, 105.0, 110.0, 19.0, 44.0, 86.0, 25.0, 130.0, 30.0, 111.0, 32.0, 47.0, 37.0, 46.0, 24.0, 16.0, 25.0, 55.0, 21.0, 81.0, 20.0, 309.08738213987573, 186.98530447662188, 119.7585283444299, 110.58355065902754, 77.574686163697, 76.60517766860731, 39.93635984974029, 81.29947762203103, 105.10248899878711, 85.46626580841061, 26.86723870335203, 55.16051302121762, 37.994983661877065, 84.66660988842983, 16.523670526240696, 26.244504257396105, 16.487095943318476, 14.11729359579373, 23.84470273017946, 55.517649902957444, 21.66279624455157, 63.31400827721346, 12.787084287996604, 11.571181173046254, 10.993034973391861, 18.258356121076172, 10.732388984285585, 9.789797805352476, 15.277228418459634, 9.1890537756902, 40.66111520032275, 111.34970359385181, 86.97913382801026, 34.310799779289056, 33.892504039144136, 61.20624228812248, 86.46745381133773, 28.820939853647207, 52.27587386504456, 130.30154724821082, 38.272106235447126, 177.1991028771047, 78.97416165196877, 105.22457475625686, 11.854679291924338, 40.01908372687303, 8.526011808254431, 11.241202777201387, 14.66035077351781, 7.296005551803695, 14.793572094770305, 7.03911175960158, 7.903080350370373, 8.0985566109469, 6.695943979980008, 19.8301724673222, 6.62180154438971, 10.725532003865608, 6.4759693143214, 15.721860458338067, 6.693475910230433, 6.3322147868056415, 5.904461646125763, 5.780579472989505, 6.870213453863567, 8.405365551897985, 13.115440867202812, 8.082017038374456, 26.145040602529058, 9.810138639930178, 14.631058148510126, 10.061987456513009, 7.343707840332792, 6.670962024560516, 14.726347865028792, 13.008660598201075, 177.1991028771047, 16.794214623604965, 26.874966309665435, 78.97416165196877, 17.630955121527595, 130.30154724821082, 81.55072788943006, 86.46745381133773, 15.924184592096195, 12.884668346408759, 22.41191287975929, 28.38415167576059, 61.20624228812248, 14.411077803675486, 27.1618509824325, 40.35103004656507, 38.47956216909351, 105.22457475625686, 30.627878981994858, 29.55891267513061, 37.726940216272425, 26.165967477630083, 21.242028056755615, 17.421362721638435, 18.420645874899737, 14.107711946532277, 22.007581774157636, 9.267462982185009, 8.231514781769445, 17.03205680030209, 11.124776429118288, 9.425191427074285, 7.854560470166187, 6.058506236566624, 5.875075667534224, 10.138985318923242, 6.603271671772266, 7.54640009518419, 20.754653638831154, 9.774036131545365, 9.243106401374208, 9.322358235858246, 7.887502668029821, 6.75844920571651, 22.953276387227056, 10.24416236044064, 11.65046292326484, 17.128732521400728, 7.019351728115864, 9.488229681768297, 46.59001763566278, 7.784063564846211, 6.813760008587712, 25.985001347031368, 14.074919914265578, 47.11791897295316, 16.957879361240938, 28.06744775807394, 105.22457475625686, 26.711383660776146, 40.35103004656507, 13.40642654459212, 177.1991028771047, 111.34970359385181, 14.81697808103122, 33.57382393702251, 52.27587386504456, 24.50879077910446, 130.30154724821082, 19.177464372934356, 23.633576079148785, 20.930229716497383, 11.219377092376268, 8.16867030734017, 12.693451259305562, 7.195758439977347, 32.00357670559198, 20.818602477039175, 5.566261381168175, 12.157141621560537, 9.771018222044187, 13.010367233171078, 6.95264949830534, 5.422051413470733, 7.377196759986574, 5.378732234729679, 5.6093389914481415, 8.239248217426145, 5.606451650718378, 18.27859538445534, 11.258781994112846, 16.294985396223417, 13.940403248385447, 12.185977353684326, 9.023226776407851, 10.249942238152297, 18.140706636049444, 12.51819390743123, 11.75023701655927, 15.33840073788269, 9.124695016943342, 27.1618509824325, 47.11791897295316, 14.14514852257889, 32.30593782931256, 16.255987212115986, 130.30154724821082, 105.22457475625686, 13.692423060012082, 111.34970359385181, 177.1991028771047, 78.97416165196877, 63.31400827721346, 37.726940216272425, 35.250193439354874, 11.10245691890741, 17.236602216932116, 13.29501146456737, 7.652374836721819, 7.244351489148823, 14.20133834976702, 18.281292351540724, 8.375305548806718, 11.153394775727486, 7.7833415393818095, 5.564125120879671, 21.329103705656678, 10.32196204352344, 10.117118862186226, 15.275133480076589, 11.820880911028869, 8.314074427763726, 44.72744097351429, 6.397753790623197, 5.62115889138981, 9.106391844424351, 37.726940216272425, 12.804951445855332, 8.862026031186495, 8.24797011695135, 7.71897809406023, 7.2806002402994885, 6.610335783264443, 12.227214725514408, 21.45085191270751, 25.985001347031368, 34.310799779289056, 10.856446053637544, 17.614445438730694, 21.45645296683882, 105.22457475625686, 59.2320554311329, 86.97913382801026, 177.1991028771047, 14.569614160012744, 6.729626105752607, 16.432703073178246, 11.91815588878608, 24.50879077910446, 6.275611735789449, 17.614445438730694, 9.100245971785949, 25.082972410730896, 8.737338711613708, 14.052610438297682, 6.434313980462848, 6.51364393308751, 10.527404704102427, 17.676033555551538, 7.929814759364281, 12.12294880813528, 81.55072788943006, 8.794143241646688, 11.888615813097456, 16.719621441373544, 5.710320035281695, 15.416824449564901, 5.846123479127085, 7.188959754711135, 12.492227657803568, 5.400947884364356, 26.874966309665435, 6.588366046886656, 17.87761513949565, 23.785191426523777, 40.35103004656507, 28.974451303574792, 33.57382393702251, 86.97913382801026, 86.46745381133773, 44.72744097351429, 17.49115060142416, 25.45131239357466, 6.538512831374817, 5.948303274649458, 12.215206185754408, 7.131285818891352, 7.526268213052541, 5.7120796893231915, 5.460318418611853, 14.203187912283184, 6.447972514325325, 8.340155196574052, 5.63958846017223, 10.330338966694292, 6.079682944059908, 7.341028010801383, 18.140706636049444, 5.619670390023776, 20.690190976966484, 9.084265079049679, 9.250538676712972, 12.479725672867488, 24.592338115305143, 13.000206574167033, 16.467145951588833, 6.260250254618143, 5.803772369137013, 9.08405717602103, 11.656966961960045, 7.637481418923486, 9.124695016943342, 24.62943244670633, 11.37381577165314, 59.2320554311329, 27.023080342746464, 28.06744775807394, 23.633576079148785, 28.820939853647207, 28.974451303574792, 33.57382393702251, 7.414317472808098, 9.495055032042512, 9.501804001924546, 6.651590965685529, 13.575946271951576, 5.616663157047493, 13.114517545956868, 6.6235471302255755, 10.182621007467846, 17.957119581186042, 21.920261797096543, 11.014377185733258, 8.911491204943156, 6.269490426236889, 5.5777924430072625, 5.795890977663737, 8.69119337538036, 30.627878981994858, 7.25277507031383, 5.329368421357804, 6.934850798820032, 6.579344088420436, 6.4184046330195255, 11.001606327646405, 6.12121542653952, 6.057167983425816, 6.899883680541691, 22.552580434161506, 5.746639698441455, 10.669951079493577, 14.565536824462994, 16.1533613728084, 105.22457475625686, 21.45645296683882, 86.97913382801026, 18.27859538445534, 22.41191287975929, 16.31378932166047, 22.37548789356324, 12.064989872920162, 16.697020701014, 7.734071512083175, 24.4231745040994, 10.725060740003546, 9.098792936408366, 59.2320554311329, 9.82122568085538, 10.276042913840758, 7.447523508532842, 8.738183778150374, 10.175774947714501, 6.526623842823966, 6.256409572901318, 20.690190976966484, 9.481900497173745, 7.487741786210755, 10.627735826596675, 5.721867604254367, 6.01408401263082, 5.7873198642268004, 5.710320035281695, 7.377196759986574, 6.183682224073064, 5.768046413840066, 6.055650695813378, 6.677898457821174, 6.027891967266004, 15.49117909321772, 55.517649902957444, 16.467145951588833, 28.820939853647207, 55.16051302121762, 28.974451303574792, 40.35103004656507, 40.66111520032275, 14.66035077351781, 26.244504257396105, 19.623516349492565, 8.980956942750796, 6.710138108104705, 14.068643849008794, 7.188959754711135, 10.498969533031529, 5.828032173911412, 6.331759642300945, 7.553861628760398, 5.900926073639873, 14.742275861677527, 13.978866373520074, 9.771018222044187, 5.62115889138981, 5.606451650718378, 5.378732234729679, 11.489306684511606, 5.616663157047493, 5.805633548759208, 6.410678314718206, 6.397753790623197, 6.87946528433291, 7.019351728115864, 7.2806002402994885, 13.656458888729015, 11.65046292326484, 7.341028010801383, 7.240312459385347, 6.469539708685935, 10.175774947714501, 22.48761019326505, 14.411077803675486, 81.55072788943006, 26.145040602529058, 14.829350033869899, 38.272106235447126, 61.20624228812248, 12.693451259305562, 11.001606327646405, 12.227214725514408, 28.38415167576059, 15.49117909321772], \"Category\": [\"Default\", \"Default\", \"Default\", \"Default\", \"Default\", \"Default\", \"Default\", \"Default\", \"Default\", \"Default\", \"Default\", \"Default\", \"Default\", \"Default\", \"Default\", \"Default\", \"Default\", \"Default\", \"Default\", \"Default\", \"Default\", \"Default\", \"Default\", \"Default\", \"Default\", \"Default\", \"Default\", \"Default\", \"Default\", \"Default\", \"Topic1\", \"Topic1\", \"Topic1\", \"Topic1\", \"Topic1\", \"Topic1\", \"Topic1\", \"Topic1\", \"Topic1\", \"Topic1\", \"Topic1\", \"Topic1\", \"Topic1\", \"Topic1\", \"Topic1\", \"Topic1\", \"Topic1\", \"Topic1\", \"Topic1\", \"Topic1\", \"Topic1\", \"Topic1\", \"Topic1\", \"Topic1\", \"Topic1\", \"Topic1\", \"Topic1\", \"Topic1\", \"Topic1\", \"Topic1\", \"Topic1\", \"Topic1\", \"Topic1\", \"Topic1\", \"Topic1\", \"Topic1\", \"Topic1\", \"Topic1\", \"Topic1\", \"Topic1\", \"Topic1\", \"Topic1\", \"Topic1\", \"Topic1\", \"Topic2\", \"Topic2\", \"Topic2\", \"Topic2\", \"Topic2\", \"Topic2\", \"Topic2\", \"Topic2\", \"Topic2\", \"Topic2\", \"Topic2\", \"Topic2\", \"Topic2\", \"Topic2\", \"Topic2\", \"Topic2\", \"Topic2\", \"Topic2\", \"Topic2\", \"Topic2\", \"Topic2\", \"Topic2\", \"Topic2\", \"Topic2\", \"Topic2\", \"Topic2\", \"Topic2\", \"Topic2\", \"Topic2\", \"Topic2\", \"Topic2\", \"Topic2\", \"Topic2\", \"Topic2\", \"Topic2\", \"Topic2\", \"Topic2\", \"Topic2\", \"Topic2\", \"Topic2\", \"Topic2\", \"Topic2\", \"Topic2\", \"Topic2\", \"Topic2\", \"Topic2\", \"Topic2\", \"Topic2\", \"Topic2\", \"Topic2\", \"Topic2\", \"Topic2\", \"Topic2\", \"Topic2\", \"Topic2\", \"Topic3\", \"Topic3\", \"Topic3\", \"Topic3\", \"Topic3\", \"Topic3\", \"Topic3\", \"Topic3\", \"Topic3\", \"Topic3\", \"Topic3\", \"Topic3\", \"Topic3\", \"Topic3\", \"Topic3\", \"Topic3\", \"Topic3\", \"Topic3\", \"Topic3\", \"Topic3\", \"Topic3\", \"Topic3\", \"Topic3\", \"Topic3\", \"Topic3\", \"Topic3\", \"Topic3\", \"Topic3\", \"Topic3\", \"Topic3\", \"Topic3\", \"Topic3\", \"Topic3\", \"Topic3\", \"Topic3\", \"Topic3\", \"Topic3\", \"Topic3\", \"Topic3\", \"Topic3\", \"Topic3\", \"Topic3\", \"Topic3\", \"Topic3\", \"Topic3\", \"Topic3\", \"Topic3\", \"Topic3\", \"Topic4\", \"Topic4\", \"Topic4\", \"Topic4\", \"Topic4\", \"Topic4\", \"Topic4\", \"Topic4\", \"Topic4\", \"Topic4\", \"Topic4\", \"Topic4\", \"Topic4\", \"Topic4\", \"Topic4\", \"Topic4\", \"Topic4\", \"Topic4\", \"Topic4\", \"Topic4\", \"Topic4\", \"Topic4\", \"Topic4\", \"Topic4\", \"Topic4\", \"Topic4\", \"Topic4\", \"Topic4\", \"Topic4\", \"Topic4\", \"Topic4\", \"Topic4\", \"Topic4\", \"Topic4\", \"Topic4\", \"Topic4\", \"Topic4\", \"Topic4\", \"Topic4\", \"Topic4\", \"Topic4\", \"Topic4\", \"Topic4\", \"Topic5\", \"Topic5\", \"Topic5\", \"Topic5\", \"Topic5\", \"Topic5\", \"Topic5\", \"Topic5\", \"Topic5\", \"Topic5\", \"Topic5\", \"Topic5\", \"Topic5\", \"Topic5\", \"Topic5\", \"Topic5\", \"Topic5\", \"Topic5\", \"Topic5\", \"Topic5\", \"Topic5\", \"Topic5\", \"Topic5\", \"Topic5\", \"Topic5\", \"Topic5\", \"Topic5\", \"Topic5\", \"Topic5\", \"Topic5\", \"Topic5\", \"Topic5\", \"Topic5\", \"Topic5\", \"Topic5\", \"Topic5\", \"Topic5\", \"Topic5\", \"Topic5\", \"Topic5\", \"Topic6\", \"Topic6\", \"Topic6\", \"Topic6\", \"Topic6\", \"Topic6\", \"Topic6\", \"Topic6\", \"Topic6\", \"Topic6\", \"Topic6\", \"Topic6\", \"Topic6\", \"Topic6\", \"Topic6\", \"Topic6\", \"Topic6\", \"Topic6\", \"Topic6\", \"Topic6\", \"Topic6\", \"Topic6\", \"Topic6\", \"Topic6\", \"Topic6\", \"Topic6\", \"Topic6\", \"Topic6\", \"Topic6\", \"Topic6\", \"Topic6\", \"Topic6\", \"Topic6\", \"Topic6\", \"Topic6\", \"Topic6\", \"Topic6\", \"Topic7\", \"Topic7\", \"Topic7\", \"Topic7\", \"Topic7\", \"Topic7\", \"Topic7\", \"Topic7\", \"Topic7\", \"Topic7\", \"Topic7\", \"Topic7\", \"Topic7\", \"Topic7\", \"Topic7\", \"Topic7\", \"Topic7\", \"Topic7\", \"Topic7\", \"Topic7\", \"Topic7\", \"Topic7\", \"Topic7\", \"Topic7\", \"Topic7\", \"Topic7\", \"Topic7\", \"Topic7\", \"Topic7\", \"Topic7\", \"Topic7\", \"Topic7\", \"Topic7\", \"Topic7\", \"Topic7\", \"Topic7\", \"Topic7\", \"Topic7\", \"Topic7\", \"Topic7\", \"Topic8\", \"Topic8\", \"Topic8\", \"Topic8\", \"Topic8\", \"Topic8\", \"Topic8\", \"Topic8\", \"Topic8\", \"Topic8\", \"Topic8\", \"Topic8\", \"Topic8\", \"Topic8\", \"Topic8\", \"Topic8\", \"Topic8\", \"Topic8\", \"Topic8\", \"Topic8\", \"Topic8\", \"Topic8\", \"Topic8\", \"Topic8\", \"Topic8\", \"Topic8\", \"Topic8\", \"Topic8\", \"Topic8\", \"Topic8\", \"Topic8\", \"Topic8\", \"Topic8\", \"Topic8\", \"Topic8\", \"Topic8\", \"Topic8\", \"Topic9\", \"Topic9\", \"Topic9\", \"Topic9\", \"Topic9\", \"Topic9\", \"Topic9\", \"Topic9\", \"Topic9\", \"Topic9\", \"Topic9\", \"Topic9\", \"Topic9\", \"Topic9\", \"Topic9\", \"Topic9\", \"Topic9\", \"Topic9\", \"Topic9\", \"Topic9\", \"Topic9\", \"Topic9\", \"Topic9\", \"Topic9\", \"Topic9\", \"Topic9\", \"Topic9\", \"Topic9\", \"Topic9\", \"Topic9\", \"Topic9\", \"Topic9\", \"Topic9\", \"Topic9\", \"Topic9\", \"Topic9\", \"Topic9\", \"Topic9\", \"Topic9\", \"Topic9\", \"Topic10\", \"Topic10\", \"Topic10\", \"Topic10\", \"Topic10\", \"Topic10\", \"Topic10\", \"Topic10\", \"Topic10\", \"Topic10\", \"Topic10\", \"Topic10\", \"Topic10\", \"Topic10\", \"Topic10\", \"Topic10\", \"Topic10\", \"Topic10\", \"Topic10\", \"Topic10\", \"Topic10\", \"Topic10\", \"Topic10\", \"Topic10\", \"Topic10\", \"Topic10\", \"Topic10\", \"Topic10\", \"Topic10\", \"Topic10\", \"Topic10\", \"Topic10\", \"Topic10\", \"Topic10\", \"Topic10\", \"Topic10\", \"Topic10\", \"Topic10\", \"Topic10\", \"Topic10\", \"Topic10\", \"Topic10\"], \"logprob\": [30.0, 29.0, 28.0, 27.0, 26.0, 25.0, 24.0, 23.0, 22.0, 21.0, 20.0, 19.0, 18.0, 17.0, 16.0, 15.0, 14.0, 13.0, 12.0, 11.0, 10.0, 9.0, 8.0, 7.0, 6.0, 5.0, 4.0, 3.0, 2.0, 1.0, -2.3649, -2.8699, -3.3234, -3.4042, -3.7681, -3.7898, -4.4492, -3.74, -3.4968, -3.7164, -4.8741, -4.1603, -4.5503, -3.7503, -5.3932, -4.9388, -5.4087, -5.5661, -5.0452, -4.2078, -5.1496, -4.0851, -5.6974, -5.8011, -5.8596, -5.3596, -5.8997, -5.9947, -5.5611, -6.0703, -4.6192, -3.6667, -3.9447, -4.8645, -4.9081, -4.4866, -4.2459, -5.084, -4.7449, -4.2666, -4.9568, -4.2888, -4.7174, -4.8496, -4.9983, -3.8437, -5.4148, -5.1412, -4.8806, -5.5898, -4.8836, -5.6439, -5.5283, -5.5121, -5.7129, -4.631, -5.7292, -5.2475, -5.7636, -4.8782, -5.7335, -5.7945, -5.883, -5.9053, -5.7825, -5.5928, -5.1495, -5.6338, -4.4617, -5.4479, -5.0621, -5.4398, -5.7618, -5.8611, -5.0828, -5.2182, -2.7811, -4.9892, -4.5947, -3.6808, -4.9674, -3.3216, -3.8015, -3.7852, -5.0971, -5.2532, -4.8698, -4.7576, -4.2884, -5.2015, -4.8996, -4.7162, -4.7664, -4.3551, -4.8929, -4.93, -4.8763, -5.0293, -5.124, -4.1003, -4.046, -4.3534, -3.9466, -4.8386, -4.984, -4.2615, -4.7205, -4.8924, -5.0903, -5.3596, -5.4096, -4.8801, -5.3219, -5.1938, -4.1823, -5.0446, -5.1219, -5.117, -5.2849, -5.4439, -4.2541, -5.0846, -4.9645, -4.5911, -5.5171, -5.2344, -3.65, -5.4561, -5.5898, -4.2638, -4.883, -3.7974, -4.7859, -4.4111, -3.5044, -4.4982, -4.2433, -4.9715, -3.762, -4.0172, -4.9348, -4.6355, -4.5084, -4.8248, -4.663, -4.9344, -4.9335, -3.5003, -4.1925, -4.6179, -4.2076, -4.7887, -3.3392, -3.7884, -5.115, -4.4159, -4.7487, -4.463, -5.1115, -5.3703, -5.0809, -5.4043, -5.367, -5.0071, -5.4188, -4.2499, -4.7397, -4.3816, -4.5582, -4.6964, -5.0109, -4.917, -4.3532, -4.7523, -4.8164, -4.5633, -5.0845, -4.057, -3.7634, -4.7032, -4.2658, -4.7362, -3.686, -3.8012, -4.8576, -4.2461, -4.1392, -4.4329, -4.7688, -4.8048, -2.9243, -4.1056, -3.6773, -3.96, -4.5473, -4.6962, -4.0233, -3.7838, -4.5773, -4.2964, -4.6613, -5.0039, -3.71, -4.4428, -4.5009, -4.1036, -4.3829, -4.7412, -3.069, -5.0189, -5.167, -4.8156, -3.4224, -4.5078, -4.9, -4.9764, -5.0666, -5.127, -5.2584, -4.6584, -4.1189, -4.2469, -4.3551, -4.9301, -4.7663, -4.7446, -4.6625, -4.7579, -4.7625, -4.7589, -3.513, -4.4876, -3.6727, -4.069, -3.3853, -4.755, -3.7305, -4.3995, -3.3888, -4.4625, -4.058, -4.8488, -4.8562, -4.4193, -3.9958, -4.8101, -4.4872, -2.6061, -4.8822, -4.5812, -4.2505, -5.3522, -4.3971, -5.4116, -5.2173, -4.7202, -5.5786, -3.9994, -5.49, -4.5035, -4.46, -4.1029, -4.3693, -4.3776, -3.9099, -4.7005, -4.8376, -3.3088, -3.0666, -4.4503, -4.5871, -3.9538, -4.4979, -4.5627, -4.8759, -4.959, -4.0035, -4.843, -4.6272, -5.0377, -4.474, -5.0237, -4.8486, -3.9506, -5.1432, -3.8793, -4.7489, -4.7552, -4.5402, -3.8652, -4.5445, -4.3203, -5.3077, -5.4011, -4.9802, -4.7746, -5.2081, -5.051, -4.2043, -4.8767, -3.6555, -4.2644, -4.2449, -4.4556, -4.3942, -4.4159, -4.4848, -4.0707, -3.9305, -4.0106, -4.4614, -3.7577, -4.7631, -3.9341, -4.652, -4.2402, -3.6768, -3.5249, -4.2146, -4.4416, -4.8058, -4.932, -4.9301, -4.5287, -3.3062, -4.782, -5.116, -4.9781, -5.0816, -5.1299, -4.6479, -5.2481, -5.3359, -5.2076, -4.0293, -5.4218, -4.8606, -4.6864, -4.6091, -3.5477, -4.7483, -4.4133, -4.8491, -4.9341, -3.0242, -2.7835, -3.4823, -3.3203, -4.1154, -3.0139, -3.932, -4.1076, -2.3202, -4.1913, -4.1547, -4.6465, -4.5155, -4.4464, -5.1335, -5.2061, -4.052, -4.8628, -5.1419, -4.9392, -5.5778, -5.5445, -5.5927, -5.6204, -5.3707, -5.5759, -5.6725, -5.6481, -5.5599, -5.6639, -4.8387, -3.96, -5.0912, -4.9223, -4.7036, -5.0068, -5.0441, -5.2379, -5.4198, -5.3846, -2.5162, -3.4253, -3.7326, -3.2909, -4.1732, -3.8291, -4.4287, -4.3755, -4.5712, -4.8744, -4.0716, -4.2274, -4.772, -5.3575, -5.3609, -5.4116, -4.6589, -5.4153, -5.4403, -5.3584, -5.4296, -5.3642, -5.4201, -5.3914, -4.777, -4.9389, -5.459, -5.4921, -5.6068, -5.1629, -4.3708, -4.969, -3.8161, -4.857, -5.1683, -4.9484, -5.1337, -5.3251, -5.3677, -5.3633, -5.3606, -5.3631], \"loglift\": [30.0, 29.0, 28.0, 27.0, 26.0, 25.0, 24.0, 23.0, 22.0, 21.0, 20.0, 19.0, 18.0, 17.0, 16.0, 15.0, 14.0, 13.0, 12.0, 11.0, 10.0, 9.0, 8.0, 7.0, 6.0, 5.0, 4.0, 3.0, 2.0, 1.0, 0.9535, 0.9511, 0.9431, 0.942, 0.9327, 0.9236, 0.9156, 0.914, 0.9003, 0.8875, 0.887, 0.8815, 0.8643, 0.8631, 0.8541, 0.8458, 0.8407, 0.8386, 0.8353, 0.8276, 0.8269, 0.8189, 0.8062, 0.8024, 0.7952, 0.7878, 0.7791, 0.776, 0.7646, 0.7637, 0.7276, 0.6727, 0.6417, 0.6521, 0.6207, 0.4512, 0.3464, 0.6069, 0.3506, -0.0844, 0.4506, -0.414, -0.0344, -0.4536, 1.581, 1.519, 1.4942, 1.4913, 1.4863, 1.4749, 1.4743, 1.4566, 1.4565, 1.4483, 1.4376, 1.4339, 1.4325, 1.432, 1.4204, 1.4188, 1.4174, 1.4119, 1.3933, 1.3923, 1.3424, 1.3304, 1.3288, 1.3286, 1.3267, 1.3207, 1.3068, 1.3035, 1.2964, 1.2932, 1.2796, 1.2682, 1.0937, 1.2418, 1.1662, 1.0021, 1.215, 0.8606, 0.8493, 0.8071, 1.1871, 1.2428, 1.0727, 0.9486, 0.6494, 1.1826, 0.8506, 0.6382, 0.6355, 0.0409, 0.7373, 0.7357, 0.5453, 0.7583, 0.8721, 2.094, 2.0926, 2.0519, 2.014, 1.987, 1.9601, 1.9555, 1.9224, 1.9163, 1.9007, 1.891, 1.8717, 1.8555, 1.8426, 1.8372, 1.8369, 1.7277, 1.7062, 1.7026, 1.7019, 1.6974, 1.6645, 1.6407, 1.6322, 1.6202, 1.5863, 1.5676, 1.5606, 1.5438, 1.5433, 1.5307, 1.5247, 1.402, 1.4354, 1.3063, 0.8915, 1.2688, 1.1112, 1.4848, 0.1128, 0.3221, 1.4215, 0.9028, 0.5871, 1.0282, -0.4808, 1.1639, 0.9558, 2.5106, 2.4419, 2.3338, 2.3034, 2.2898, 2.247, 2.2278, 2.2203, 2.1382, 2.0239, 2.0233, 2.0014, 1.9913, 1.9727, 1.9653, 1.9606, 1.936, 1.9094, 1.8964, 1.8912, 1.8796, 1.859, 1.8554, 1.8414, 1.8077, 1.8007, 1.7725, 1.7718, 1.7584, 1.7566, 1.6933, 1.436, 1.6994, 1.311, 1.5274, 0.4962, 0.5948, 1.5776, 0.0933, -0.2644, 0.25, 0.1351, 0.6169, 2.5653, 2.5393, 2.5278, 2.5047, 2.4698, 2.3757, 2.3754, 2.3624, 2.3495, 2.344, 2.3387, 2.3318, 2.282, 2.275, 2.2369, 2.2222, 2.1993, 2.1929, 2.1825, 2.1772, 2.1585, 2.0275, 1.9993, 1.9944, 1.9703, 1.9657, 1.9417, 1.9398, 1.9051, 1.89, 1.8674, 1.5476, 1.1615, 1.7372, 1.417, 1.2414, -0.2666, 0.2127, -0.1761, -0.8842, 2.8601, 2.6579, 2.58, 2.5049, 2.4677, 2.4604, 2.4528, 2.4442, 2.4411, 2.4219, 2.3512, 2.3416, 2.322, 2.2788, 2.184, 2.1713, 2.0698, 2.0448, 1.9957, 1.9953, 1.985, 1.9576, 1.9195, 1.8747, 1.8622, 1.8067, 1.7869, 1.7614, 1.6768, 1.665, 1.4229, 1.2515, 1.3164, 1.1607, 0.6765, -0.1082, 0.4138, 2.8816, 2.7487, 2.7241, 2.6819, 2.5955, 2.5896, 2.4709, 2.4336, 2.3955, 2.3951, 2.3453, 2.3038, 2.2845, 2.243, 2.2234, 2.21, 2.2033, 2.1826, 2.143, 2.0966, 2.0722, 1.9878, 1.9844, 1.9426, 1.9304, 1.9101, 1.8925, 1.8654, 1.8215, 1.8109, 1.7901, 1.6438, 1.744, 1.3151, 1.491, 1.4726, 1.4338, 1.2968, 1.2697, 1.0535, 2.9779, 2.8707, 2.79, 2.6958, 2.6861, 2.5632, 2.5443, 2.5094, 2.4912, 2.4873, 2.4397, 2.4382, 2.4231, 2.4105, 2.4012, 2.3648, 2.3611, 2.324, 2.2886, 2.2628, 2.1373, 2.0865, 2.063, 2.0061, 1.9922, 1.9149, 1.9129, 1.9069, 1.8816, 1.824, 1.687, 1.6608, 0.8483, 1.2378, 0.173, 1.2972, 1.0084, 3.2359, 3.1606, 3.0794, 2.9165, 2.891, 2.8426, 2.7475, 2.7363, 2.6504, 2.5762, 2.5675, 2.3977, 2.3688, 2.2857, 2.0427, 2.0123, 1.9703, 1.9399, 1.8969, 1.7494, 1.7299, 1.7134, 1.7037, 1.6893, 1.6829, 1.6543, 1.6272, 1.603, 1.5933, 1.5917, 1.473, 1.0754, 1.1595, 0.7686, 0.3382, 0.6788, 0.3103, 0.1089, 0.9471, 0.4, 3.5591, 3.4317, 3.4159, 3.1172, 2.9063, 2.8717, 2.8607, 2.831, 2.4588, 2.4025, 2.2898, 2.1871, 2.0007, 1.968, 1.9672, 1.958, 1.9517, 1.911, 1.8529, 1.8357, 1.7665, 1.7594, 1.6833, 1.6754, 1.6609, 1.6579, 1.5995, 1.5802, 1.5781, 1.5691, 1.5683, 1.415, 0.8347, 0.9314, 1.1871, 0.4589, -0.1959, 1.1859, 1.2863, 1.1851, 0.3456, 0.9487]}, \"token.table\": {\"Topic\": [1, 2, 3, 1, 2, 3, 5, 7, 10, 1, 3, 9, 10, 1, 6, 1, 2, 3, 6, 7, 8, 9, 1, 2, 7, 10, 1, 3, 7, 1, 3, 5, 6, 1, 1, 9, 1, 2, 4, 5, 6, 1, 4, 5, 7, 1, 2, 3, 5, 6, 8, 1, 2, 6, 1, 2, 7, 10, 1, 3, 8, 10, 1, 2, 3, 7, 1, 2, 6, 7, 1, 2, 5, 9, 1, 2, 3, 7, 9, 1, 2, 6, 1, 3, 9, 1, 7, 9, 1, 2, 6, 1, 3, 4, 9, 1, 3, 7, 9, 1, 3, 6, 7, 2, 3, 5, 2, 6, 8, 2, 9, 2, 3, 5, 1, 2, 3, 1, 2, 3, 4, 6, 7, 8, 10, 1, 9, 4, 2, 3, 8, 1, 8, 1, 2, 4, 8, 2, 6, 7, 9, 2, 3, 4, 1, 2, 7, 8, 1, 10, 2, 5, 6, 7, 8, 10, 4, 4, 5, 8, 2, 5, 8, 3, 5, 6, 8, 2, 4, 5, 7, 1, 2, 2, 7, 3, 5, 7, 6, 7, 2, 7, 2, 4, 6, 7, 2, 4, 8, 8, 3, 5, 2, 3, 6, 9, 4, 6, 2, 8, 4, 7, 10, 2, 3, 4, 7, 8, 1, 2, 3, 4, 5, 6, 1, 9, 4, 5, 1, 2, 4, 6, 3, 4, 1, 4, 5, 2, 5, 8, 1, 3, 4, 6, 1, 6, 2, 3, 5, 6, 1, 2, 4, 6, 1, 1, 3, 6, 10, 2, 3, 5, 8, 6, 8, 1, 8, 1, 2, 3, 1, 2, 5, 8, 3, 9, 2, 3, 9, 1, 2, 7, 9, 1, 2, 6, 4, 5, 1, 2, 4, 4, 6, 7, 4, 5, 7, 2, 4, 5, 8, 1, 3, 5, 8, 2, 1, 9, 1, 7, 1, 8, 9, 7, 8, 10, 1, 4, 5, 1, 2, 3, 5, 6, 8, 10, 2, 3, 5, 1, 2, 3, 4, 2, 4, 8, 10, 1, 2, 6, 8, 3, 2, 3, 4, 6, 8, 1, 9, 5, 7, 8, 1, 6, 1, 1, 9, 1, 9, 1, 1, 5, 3, 7, 1, 3, 7, 10, 1, 6, 2, 4, 8, 1, 2, 4, 5, 6, 5, 3, 4, 3, 8, 9, 1, 9, 1, 2, 8, 1, 2, 3, 5, 6, 10, 2, 4, 7, 9, 10, 1, 2, 3, 4, 6, 8, 2, 7, 8, 1, 4, 2, 5, 10, 2, 3, 8, 1, 1, 2, 4, 5, 2, 5, 8, 2, 7, 8, 1, 2, 4, 5, 10, 1, 2, 8, 1, 1, 2, 10, 2, 5, 2, 4, 5, 8, 1, 2, 1, 2, 3, 6, 9, 1, 2, 5, 8, 10, 1, 3, 8, 1, 2, 5, 8, 9, 1, 7, 2, 4, 5, 10, 3, 4, 1, 3, 5, 7, 3, 6, 9, 2, 3, 4, 8, 2, 4, 7, 2, 1, 2, 8, 5, 6, 7, 1, 7, 4, 1, 2, 7, 2, 3, 2, 1, 2, 3, 1, 2, 3, 5, 7, 8, 10, 1, 8, 9, 1, 3, 5, 2, 9, 4, 8, 1, 9, 1, 3, 5, 2, 4, 10, 1, 2, 3, 7, 8, 2, 3, 4, 5, 10, 1, 2, 4, 5, 6, 8, 1, 10, 1, 3, 4, 5, 6, 7, 1, 2, 5, 9, 1, 2, 3, 4, 5, 6, 10, 3, 4, 10, 1, 3, 1, 1, 1, 5, 7, 1, 7, 8, 2, 5, 1, 6, 2, 8, 3, 6, 1, 5, 7, 2, 3, 4, 7, 1, 2, 4, 1, 2, 3, 5, 1, 2, 8, 10, 3, 4, 6, 8, 2, 4, 5, 9, 1, 3, 4, 6, 8, 4, 7, 8, 2, 3, 4, 10, 3, 1, 2, 9, 1, 2, 3, 6, 3, 4, 7, 1, 5, 6, 1, 2, 4, 5, 6, 8, 2, 5, 7, 1, 2, 4, 6, 7, 1, 2, 3, 4, 6, 1, 3, 5, 1, 2, 4, 7, 9, 1, 2, 3, 1, 2, 3, 7, 10, 1, 2, 3, 7, 8, 2, 4, 7, 10, 1, 3, 2, 3, 10, 2, 1, 5, 5, 1, 2, 2, 3, 6, 10, 3, 4, 6, 7, 1, 2, 7, 10, 2, 10, 2, 6, 9, 2, 4, 5, 2, 8, 9, 2, 4, 2, 6, 1, 1, 2, 3, 5, 7, 9, 2, 3, 5, 10, 3, 5, 2, 3, 5, 7, 1, 2, 3, 4, 5, 1, 2, 3, 4, 6, 4, 4, 5, 10, 3, 4, 10, 1, 2, 2, 5, 10, 1, 8, 2, 2, 6, 3, 4, 2, 7, 3, 2, 5, 6, 1, 2, 8, 1, 2, 4, 9, 3, 4, 5, 7, 1, 2, 5, 8, 10, 1, 3, 6, 8, 1, 2, 3, 7, 3, 7, 1, 4, 7, 9, 1, 2, 4, 8, 2, 6, 1, 2, 3, 4, 5, 6, 8, 1, 2, 1, 2, 6, 10, 2, 1, 2, 5, 3, 4, 7, 2, 3, 9, 3, 4, 7, 8, 1, 2, 4, 9, 2, 4, 5, 7, 1, 2, 3, 4, 5, 7, 1, 3, 5, 6, 7, 9, 2, 3, 4, 5, 6, 7, 8, 2, 3, 6, 2, 5, 2, 6, 5, 1, 9, 1, 10, 1, 4, 7, 1, 2, 4, 1, 2, 3, 9, 1, 4, 10, 1, 2, 5, 8, 10, 2, 3, 10, 2, 2, 1, 3, 6, 10, 1, 3, 6, 3, 2, 4, 5, 2, 3, 4, 7, 2, 3, 4, 8, 1, 4, 10, 1, 2, 3, 4, 7, 8, 1, 5, 8, 9, 1, 2, 5, 6, 7, 8, 9, 1, 2, 3, 5, 2, 3, 1, 2, 3, 7, 10, 1, 1, 1, 2, 3, 7, 2, 4, 7, 2, 3, 4, 8, 10, 2, 2, 3, 5, 8, 1, 4, 5, 8, 3, 8, 1, 2, 3, 4, 6, 7, 4, 5, 6, 1, 3, 7, 1, 9, 1, 3, 7, 5, 6, 7, 1, 2, 6, 1, 7, 1, 3, 4, 8, 1, 2, 3, 10, 4, 7, 9, 4, 6, 1, 3, 4, 5, 5, 10, 2, 4], \"Freq\": [0.429276506319474, 0.0214638253159737, 0.5151318075833689, 0.6009598703166669, 0.15677214008260873, 0.13064345006884062, 0.02612869001376812, 0.02612869001376812, 0.02612869001376812, 0.09827261364743546, 0.39309045458974184, 0.2948178409423064, 0.09827261364743546, 0.7147304259675896, 0.21021483116693812, 0.37964480792921346, 0.03451316435720122, 0.13805265742880488, 0.1725658217860061, 0.1725658217860061, 0.03451316435720122, 0.06902632871440244, 0.6670339743123278, 0.13340679486246557, 0.044468931620821855, 0.13340679486246557, 0.4403318828241972, 0.1100829707060493, 0.3302489121181479, 0.29190717957402706, 0.5838143591480541, 0.058381435914805414, 0.058381435914805414, 0.8602430196167423, 0.87637395526411, 0.03810321544626565, 0.708121181376307, 0.08851514767203837, 0.05901009844802558, 0.05901009844802558, 0.05901009844802558, 0.8686861169678046, 0.07897146517889132, 0.015794293035778267, 0.015794293035778267, 0.7243116507066416, 0.0459880413147074, 0.0229940206573537, 0.05748505164338425, 0.0919760826294148, 0.0459880413147074, 0.5435571180637366, 0.3932115322163201, 0.04626018026074354, 0.6045135041263613, 0.3431022590987456, 0.01633820281422598, 0.01633820281422598, 0.4544790870616127, 0.09089581741232254, 0.27268745223696766, 0.09089581741232254, 0.13093321543438222, 0.26186643086876443, 0.26186643086876443, 0.26186643086876443, 0.3915511070900858, 0.2237434897657633, 0.27967936220720413, 0.11187174488288165, 0.4218563568761635, 0.10546408921904088, 0.10546408921904088, 0.21092817843808176, 0.2699605802292995, 0.06749014505732487, 0.472431015401274, 0.06749014505732487, 0.06749014505732487, 0.4124409068398175, 0.0824881813679635, 0.4124409068398175, 0.4596557228127227, 0.15321857427090757, 0.30643714854181514, 0.4006548416940242, 0.13355161389800807, 0.26710322779601614, 0.3891852060473669, 0.19459260302368345, 0.3243210050394724, 0.1658954748078469, 0.3317909496156938, 0.1658954748078469, 0.1658954748078469, 0.16513502020375084, 0.3302700404075017, 0.16513502020375084, 0.16513502020375084, 0.1273145714261516, 0.7638874285569096, 0.18313950274244714, 0.5494185082273414, 0.7564230732091838, 0.1008564097612245, 0.05042820488061225, 0.3116039131766462, 0.1558019565883231, 0.3116039131766462, 0.8185343028542388, 0.0682111919045199, 0.10818873618628108, 0.6491324171176864, 0.10818873618628108, 0.8509396890532818, 0.06545689915794475, 0.06545689915794475, 0.05657377809660972, 0.22629511238643887, 0.11314755619321944, 0.05657377809660972, 0.45259022477287775, 0.05657377809660972, 0.5341249628323818, 0.17804165427746058, 0.48656861808795304, 0.38925489447036243, 0.7345136692086282, 0.7408727614362465, 0.3450720532369605, 0.3450720532369605, 0.17928239715224162, 0.35856479430448324, 0.21208685049940015, 0.21208685049940015, 0.4241737009988003, 0.07069561683313338, 0.3036348869864468, 0.18218093219186807, 0.3036348869864468, 0.12145395479457871, 0.3195349129098777, 0.15976745645493884, 0.39941864113734715, 0.23011799572489347, 0.11505899786244674, 0.11505899786244674, 0.46023599144978694, 0.0509592665346065, 0.8663075310883105, 0.3659676423527543, 0.0813261427450565, 0.04066307137252825, 0.325304570980226, 0.0813261427450565, 0.04066307137252825, 0.8913150808341354, 0.5753202431641308, 0.1438300607910327, 0.1438300607910327, 0.16919212832387154, 0.5921724491335504, 0.16919212832387154, 0.17401473773816198, 0.17401473773816198, 0.17401473773816198, 0.17401473773816198, 0.09606792781627868, 0.6724754947139507, 0.04803396390813934, 0.09606792781627868, 0.14992847015062885, 0.7996185074700206, 0.1402271659552502, 0.5609086638210008, 0.35203364419870176, 0.07040672883974035, 0.4928471018781825, 0.0571717677577242, 0.857576516365863, 0.6956876094562193, 0.19876788841606266, 0.17230172660074436, 0.17230172660074436, 0.17230172660074436, 0.3446034532014887, 0.27354399475641045, 0.49237919056153884, 0.16412639685384628, 0.8092450885742232, 0.11603214919210296, 0.8122250443447208, 0.72777942542501, 0.3502430665256642, 0.3502430665256642, 0.1751215332628321, 0.3783190517101694, 0.3783190517101694, 0.4900987452578477, 0.32673249683856515, 0.2724414069878573, 0.40866211048178597, 0.13622070349392865, 0.3591499106571025, 0.03264999187791841, 0.13059996751167363, 0.03264999187791841, 0.3917999025350209, 0.25395162429918994, 0.5304767263138634, 0.12415412743515952, 0.056433694288708876, 0.028216847144354438, 0.005643369428870887, 0.9245744320830144, 0.036257820866000566, 0.5532961182453371, 0.18443203941511238, 0.07363268435916029, 0.40497976397538155, 0.40497976397538155, 0.07363268435916029, 0.17827412490572866, 0.534822374717186, 0.1512782455819757, 0.1512782455819757, 0.45383473674592706, 0.3366439949282468, 0.11221466497608228, 0.4488586599043291, 0.06249301502761534, 0.15623253756903835, 0.6874231653037688, 0.06249301502761534, 0.3703053691352888, 0.3703053691352888, 0.1284676045704615, 0.513870418281846, 0.1284676045704615, 0.1284676045704615, 0.07441869794198443, 0.5581402345648833, 0.03720934897099221, 0.2976747917679377, 0.9515138621290021, 0.07108005652374624, 0.21324016957123873, 0.07108005652374624, 0.56864045218997, 0.22377327694456647, 0.5221376462039885, 0.14918218462971097, 0.07459109231485549, 0.21048634549764544, 0.6314590364929363, 0.455972504201439, 0.303981669467626, 0.10231187879207182, 0.20462375758414364, 0.6138712727524309, 0.14083179702797596, 0.07041589851398798, 0.7041589851398797, 0.07041589851398798, 0.3297140643783254, 0.43961875250443383, 0.33255272054723317, 0.33255272054723317, 0.16627636027361659, 0.7869926794271987, 0.07378056369629989, 0.04918704246419992, 0.02459352123209996, 0.22742408726395766, 0.22742408726395766, 0.3411361308959365, 0.3273293818690042, 0.5891928873642075, 0.06136857294955069, 0.3682114376973042, 0.49094858359640553, 0.1144513258563269, 0.5722566292816346, 0.2289026517126538, 0.15508750972159405, 0.15508750972159405, 0.46526252916478217, 0.7135475100737028, 0.20387071716391508, 0.7163917740117383, 0.11939862900195637, 0.14731938090621916, 0.07365969045310958, 0.14731938090621916, 0.5892775236248766, 0.7591976462340806, 0.37295826074721866, 0.4661978259340233, 0.8806987546722899, 0.041938035936775704, 0.0612978370802092, 0.0612978370802092, 0.7968718820427196, 0.17158450230875483, 0.17158450230875483, 0.34316900461750965, 0.24248390472336587, 0.12124195236168293, 0.48496780944673173, 0.13486767764143712, 0.06743383882071856, 0.26973535528287423, 0.26973535528287423, 0.06743383882071856, 0.06743383882071856, 0.06743383882071856, 0.14676184643128778, 0.5870473857251511, 0.14676184643128778, 0.18830593714086907, 0.4236883585669554, 0.23538242142608634, 0.09415296857043454, 0.28574232838389463, 0.09524744279463154, 0.09524744279463154, 0.4762372139731577, 0.08004977393886399, 0.40024886969431994, 0.32019909575545596, 0.16009954787772798, 0.9184126555224631, 0.17763910883484454, 0.08881955441742227, 0.5329173265045336, 0.08881955441742227, 0.08881955441742227, 0.17876705165167284, 0.7597599695196096, 0.17731790308143522, 0.5319537092443057, 0.17731790308143522, 0.30704779391464015, 0.4605716908719602, 0.9932466277807125, 0.40944718297457655, 0.5322813378669495, 0.25859600559360474, 0.5171920111872095, 0.8171772450321781, 0.9211742347745201, 0.05263852770140115, 0.4403218053626466, 0.33024135402198496, 0.3576827953281973, 0.21460967719691837, 0.1430731181312789, 0.21460967719691837, 0.06863599742706744, 0.8236319691248093, 0.1503399720696652, 0.1503399720696652, 0.6013598882786608, 0.3729455609761023, 0.04661819512201279, 0.09323639024402558, 0.41956375609811514, 0.04661819512201279, 0.6901929051191684, 0.7426904858284561, 0.10609864083263658, 0.485147827991711, 0.16171594266390368, 0.16171594266390368, 0.8770797539481409, 0.046162092313060045, 0.18247957241686874, 0.2737193586253031, 0.45619893104217185, 0.024524612492872962, 0.41691841237884036, 0.08583614372505537, 0.049049224985745925, 0.36786918739309443, 0.0613115312321824, 0.32276432735769467, 0.25821146188615574, 0.12910573094307787, 0.12910573094307787, 0.06455286547153893, 0.3530272738233477, 0.4220978273974809, 0.06907055357413325, 0.12279209524290355, 0.023023517858044414, 0.007674505952681472, 0.10531797831875092, 0.10531797831875092, 0.7372258482312564, 0.24676853271821214, 0.658049420581899, 0.7103168937728309, 0.5336977761997155, 0.1778992587332385, 0.2883984180799248, 0.1441992090399624, 0.2883984180799248, 0.8385830976847599, 0.11082509891191056, 0.11082509891191056, 0.44330039564764223, 0.22165019782382112, 0.31237916183545605, 0.4685687427531841, 0.15618958091772803, 0.29461962669531017, 0.09820654223177006, 0.4910327111588503, 0.36720870970178954, 0.48117003340234493, 0.10129895440049366, 0.025324738600123416, 0.012662369300061708, 0.3547265920791044, 0.31038576806921636, 0.2660449440593283, 0.9305012798684419, 0.14536013464264008, 0.5814405385705603, 0.14536013464264008, 0.7458837470362035, 0.09323546837952544, 0.15372356246031424, 0.5380324686110999, 0.07686178123015712, 0.07686178123015712, 0.5751226436114123, 0.3721381811603256, 0.09913005926698777, 0.34695520743445724, 0.32217269261771025, 0.17347760371722862, 0.049565029633493886, 0.1098129772015333, 0.1098129772015333, 0.4392519088061332, 0.1098129772015333, 0.1098129772015333, 0.07625137535526759, 0.30500550142107036, 0.5337596274868731, 0.1378782590532936, 0.1378782590532936, 0.1378782590532936, 0.41363477715988084, 0.1378782590532936, 0.35589275903983014, 0.35589275903983014, 0.13735131266578987, 0.13735131266578987, 0.41205393799736967, 0.13735131266578987, 0.5856994245981394, 0.2928497122990697, 0.5684256034033057, 0.04060182881452183, 0.08120365762904366, 0.24361097288713102, 0.3433207719321984, 0.22888051462146558, 0.3433207719321984, 0.1670646556891645, 0.055688218563054837, 0.22275287425221935, 0.5011939670674935, 0.5275274472929082, 0.0879212412154847, 0.2637637236464541, 0.8435487585743644, 0.33018730955994374, 0.16509365477997187, 0.33018730955994374, 0.6276116053234044, 0.08965880076048635, 0.08965880076048635, 0.17506758560619579, 0.5252027568185873, 0.6948537866726583, 0.59208646079812, 0.14802161519953, 0.22203242279929497, 0.2535656828499774, 0.6339142071249434, 0.8210169253135414, 0.12373148871771383, 0.6186574435885692, 0.6602287500931605, 0.03848373862463717, 0.07696747724927434, 0.5002886021202833, 0.3078699089970974, 0.03848373862463717, 0.03848373862463717, 0.779426963587686, 0.44924312924920135, 0.14974770974973378, 0.14974770974973378, 0.10726899510828944, 0.6436139706497367, 0.21453799021657888, 0.4072811408658741, 0.4072811408658741, 0.1876394951402557, 0.3752789902805114, 0.8826022010234579, 0.0900614490840263, 0.058712815000843785, 0.7632665950109693, 0.058712815000843785, 0.7469960401826362, 0.7090270263102878, 0.07878078070114308, 0.36501175879535347, 0.15643361091229435, 0.36501175879535347, 0.052144536970764786, 0.052144536970764786, 0.24535432372345026, 0.08178477457448342, 0.08178477457448342, 0.4089238728724171, 0.08178477457448342, 0.2796361546464863, 0.2330301288720719, 0.04660602577441438, 0.2330301288720719, 0.04660602577441438, 0.13981807732324314, 0.3158679597751132, 0.4738019396626698, 0.11178819738336448, 0.1341458368600374, 0.044715278953345795, 0.5589409869168225, 0.0670729184300187, 0.044715278953345795, 0.06790549898490021, 0.6111494908641019, 0.13581099796980042, 0.06790549898490021, 0.2306155946919593, 0.6149749191785582, 0.15598973320874812, 0.15598973320874812, 0.31197946641749624, 0.15598973320874812, 0.15598973320874812, 0.2926845761953088, 0.48780762699218133, 0.09756152539843627, 0.9094494287826975, 0.07086618925579462, 0.9668102277814707, 0.9893825641422527, 0.05673727729865765, 0.8226905208305358, 0.05673727729865765, 0.6190661973818898, 0.06190661973818898, 0.18571985921456693, 0.24055594129892205, 0.6013898532473052, 0.8187002062473274, 0.7429833279631849, 0.8006260698591048, 0.08895845220656719, 0.7572004073941183, 0.15144008147882365, 0.9856800523261344, 0.5812848346758576, 0.1937616115586192, 0.19101013364291874, 0.44569031183347707, 0.3183502227381979, 0.021223348182546526, 0.18454738926984554, 0.3690947785396911, 0.3690947785396911, 0.05470072797756671, 0.05470072797756671, 0.16410218393270012, 0.6564087357308005, 0.09372114197616944, 0.4686057098808472, 0.28116342592850835, 0.09372114197616944, 0.1098871396553853, 0.1098871396553853, 0.5494356982769265, 0.1098871396553853, 0.7632684459831734, 0.06360570383193112, 0.12721140766386224, 0.06360570383193112, 0.1769089127297853, 0.47175710061276077, 0.058969637576595096, 0.1769089127297853, 0.058969637576595096, 0.15097650553985617, 0.15097650553985617, 0.4529295166195685, 0.1479629378813957, 0.5918517515255828, 0.9077779010243753, 0.7451411460459884, 0.8505985978080337, 0.3467378478788113, 0.3467378478788113, 0.17336892393940564, 0.04080168658718868, 0.04080168658718868, 0.32641349269750947, 0.5712236122206416, 0.10959270399099733, 0.4383708159639893, 0.328778111972992, 0.9243413088515413, 0.03510156869056486, 0.011700522896854953, 0.34049468113627174, 0.1857243715288755, 0.2785865572933133, 0.030954061921479252, 0.09286218576443775, 0.061908123842958504, 0.09884236941582282, 0.593054216494937, 0.19768473883164564, 0.03986768328829258, 0.1993384164414629, 0.1594707331531703, 0.5581475660360962, 0.03986768328829258, 0.5356199319074957, 0.15303426625928448, 0.1912928328241056, 0.07651713312964224, 0.01912928328241056, 0.04543888602855259, 0.8178999485139467, 0.09087777205710518, 0.04833208166677909, 0.04833208166677909, 0.24166040833389546, 0.3866566533342327, 0.24166040833389546, 0.5241211079813155, 0.03743722199866539, 0.3743722199866539, 0.14645084910339717, 0.14645084910339717, 0.4393525473101915, 0.07322542455169859, 0.14645084910339717, 0.039290704720297887, 0.039290704720297887, 0.11787211416089366, 0.7465233896856598, 0.039290704720297887, 0.2762311725107215, 0.13811558625536074, 0.2762311725107215, 0.13811558625536074, 0.9659921463810545, 0.013053947924068304, 0.6092621767540154, 0.08703745382200219, 0.17407490764400438, 0.7550815237337075, 0.07521618184874132, 0.7521618184874133, 0.8106313823810529, 0.13617099450877437, 0.680854972543872, 0.14246329842605285, 0.5698531937042114, 0.14246329842605285, 0.14246329842605285, 0.6745475132288665, 0.19272786092253327, 0.04818196523063332, 0.6724606690864675, 0.0693910624606408, 0.5551284996851265, 0.1387821249212816, 0.0693910624606408, 0.5167394694832516, 0.1722464898277505, 0.08288444586634071, 0.16576889173268142, 0.6630755669307257, 0.09211117478587218, 0.3684446991434887, 0.3684446991434887, 0.15950259622618582, 0.4785077886785574, 0.15950259622618582, 0.4103076720791946, 0.4923692064950335, 0.3108334479903841, 0.46625017198557617, 0.9208563887821508, 0.8642160078950158, 0.059890924129912024, 0.11978184825982405, 0.059890924129912024, 0.11978184825982405, 0.5989092412991203, 0.17166699839936786, 0.6008344943977876, 0.08583349919968393, 0.08583349919968393, 0.1284795219302974, 0.6423976096514871, 0.26140059043330544, 0.5663679459388284, 0.04356676507221757, 0.04356676507221757, 0.14065288637536005, 0.09376859091690672, 0.04688429545845336, 0.04688429545845336, 0.6094958409598936, 0.9853160491470611, 0.6208929702276563, 0.15522324255691408, 0.07761162127845704, 0.07761162127845704, 0.7186151935898726, 0.48548118644367755, 0.24274059322183877, 0.12137029661091939, 0.7289059376153172, 0.5577522488718519, 0.1859174162906173, 0.2733910260897513, 0.6834775652243782, 0.16946492593206972, 0.33892985186413943, 0.33892985186413943, 0.9594157586427478, 0.024600404067762763, 0.7896131398477574, 0.3799606942479602, 0.4749508678099502, 0.6904043925317962, 0.09862919893311374, 0.7138297511219083, 0.11897162518698472, 0.6808422948667833, 0.11354317153819637, 0.28385792884549094, 0.5677158576909819, 0.27237127886684787, 0.09079042628894929, 0.45395213144474644, 0.15983608303576338, 0.15983608303576338, 0.31967216607152676, 0.15983608303576338, 0.22568202722061168, 0.11284101361030584, 0.45136405444122335, 0.11284101361030584, 0.3875402064382902, 0.45800206215434297, 0.07046185571605276, 0.03523092785802638, 0.03523092785802638, 0.17105352009248276, 0.17105352009248276, 0.3421070401849655, 0.17105352009248276, 0.1637303513003682, 0.0818651756501841, 0.0818651756501841, 0.6549214052014728, 0.35970553656271675, 0.47960738208362236, 0.6939398958382358, 0.03469699479191179, 0.17348497395955895, 0.06939398958382358, 0.11343684934901668, 0.6239026714195918, 0.17015527402352504, 0.05671842467450834, 0.2517167947788577, 0.5873391878173346, 0.2470905685314161, 0.18056618469603483, 0.266097535341525, 0.1330487676707625, 0.047517417025272325, 0.019006966810108928, 0.09503483405054465, 0.14990341667637963, 0.5996136667055185, 0.9419377309051403, 0.03805809013758143, 0.27820436728545345, 0.4173065509281802, 0.8223677952817209, 0.7286335544731513, 0.029145342178926052, 0.20401739525248236, 0.16448226152599615, 0.16448226152599615, 0.49344678457798846, 0.5645605139134685, 0.09409341898557809, 0.18818683797115618, 0.5269686936022994, 0.10539373872045987, 0.10539373872045987, 0.10539373872045987, 0.49682856218154414, 0.3821758170627263, 0.03821758170627263, 0.03821758170627263, 0.40064983246151287, 0.08012996649230257, 0.08012996649230257, 0.3205198659692103, 0.026506257710469692, 0.31807509252563626, 0.026506257710469692, 0.13253128855234844, 0.47711263878845445, 0.026506257710469692, 0.21947575354893195, 0.016882750272994764, 0.08441375136497382, 0.03376550054598953, 0.16882750272994765, 0.45583425737085864, 0.2680659795226818, 0.2680659795226818, 0.05957021767170707, 0.05957021767170707, 0.14892554417926765, 0.14892554417926765, 0.05957021767170707, 0.35885979960961906, 0.17942989980480953, 0.35885979960961906, 0.7435661873638095, 0.13519385224796537, 0.5046844892901592, 0.33645632619343946, 0.7840703217003318, 0.524304336886337, 0.1747681122954457, 0.6182820077029039, 0.15457050192572597, 0.1597380231345076, 0.3194760462690152, 0.3194760462690152, 0.39117507115205535, 0.06519584519200923, 0.4563709163440646, 0.07624600729211128, 0.6862140656290016, 0.07624600729211128, 0.07624600729211128, 0.10234347918254018, 0.5117173959127009, 0.20468695836508036, 0.1529926864834577, 0.6884670891755597, 0.03824817162086443, 0.03824817162086443, 0.07649634324172885, 0.4748249229412716, 0.20349639554625926, 0.27132852739501234, 0.7467207036004696, 0.6919721489325612, 0.07116115574332671, 0.28464462297330684, 0.49812809020328697, 0.07116115574332671, 0.06085426089346299, 0.24341704357385197, 0.6085426089346299, 0.8685906079874134, 0.5651780753952738, 0.25119025573123277, 0.06279756393280819, 0.28419344652510714, 0.49733853141893747, 0.07104836163127679, 0.07104836163127679, 0.3432760536228531, 0.20596563217371186, 0.13731042144914124, 0.20596563217371186, 0.8706010646236654, 0.5350978099696263, 0.1783659366565421, 0.1269380473760301, 0.1692507298347068, 0.2961887772107369, 0.1269380473760301, 0.2115634122933835, 0.0846253649173534, 0.17279155523808296, 0.17279155523808296, 0.17279155523808296, 0.17279155523808296, 0.059544314659076614, 0.5954431465907661, 0.059544314659076614, 0.059544314659076614, 0.059544314659076614, 0.059544314659076614, 0.059544314659076614, 0.5717320769743641, 0.33784168184848784, 0.025987821680652914, 0.025987821680652914, 0.7720851902344038, 0.7553307753649743, 0.14251384858637, 0.17814231073296252, 0.39191308361251753, 0.21377077287955504, 0.0356284621465925, 0.909802432858339, 0.9077886161055435, 0.3243054382932434, 0.10810181276441445, 0.10810181276441445, 0.3243054382932434, 0.05512464426345924, 0.4409971541076739, 0.4409971541076739, 0.1460661850159219, 0.2921323700318438, 0.3651654625398047, 0.07303309250796094, 0.07303309250796094, 0.6774538035359441, 0.5354295309097634, 0.2677147654548817, 0.044619127575813614, 0.08923825515162723, 0.2898599588917976, 0.1449299794458988, 0.1449299794458988, 0.2898599588917976, 0.6625675735362613, 0.13251351470725226, 0.8215416492334184, 0.0547694432822279, 0.42892804074305124, 0.08578560814861025, 0.08578560814861025, 0.25735682444583075, 0.259101655119219, 0.3886524826788285, 0.1295508275596095, 0.30768741844060227, 0.30768741844060227, 0.30768741844060227, 0.4028184666436855, 0.4028184666436855, 0.08988944689104701, 0.7191155751283761, 0.7646998834364416, 0.7188910948443251, 0.13286797277111853, 0.5314718910844741, 0.30356540389025644, 0.30356540389025644, 0.30356540389025644, 0.38720897861108616, 0.4840112232638577, 0.0851046662795592, 0.2553139988386776, 0.425523331397796, 0.0851046662795592, 0.13238262085614902, 0.26476524171229804, 0.26476524171229804, 0.26476524171229804, 0.5422113751521086, 0.13555284378802715, 0.13555284378802715, 0.1593470154147775, 0.63738806165911, 0.7543800952213587, 0.15267216212813212, 0.08082643877371701, 0.00898071541930189, 0.6252194333990407, 0.15630485834976018, 0.3586696819964007, 0.502137554794961], \"Term\": [\"000\", \"000\", \"000\", \"10\", \"10\", \"10\", \"10\", \"10\", \"10\", \"100\", \"100\", \"100\", \"100\", \"11\", \"11\", \"12\", \"12\", \"12\", \"12\", \"12\", \"12\", \"12\", \"15\", \"15\", \"15\", \"15\", \"19\", \"19\", \"19\", \"20\", \"20\", \"20\", \"20\", \"2004\", \"2005\", \"2005\", \"2006\", \"2006\", \"2006\", \"2006\", \"2006\", \"2007\", \"2007\", \"2007\", \"2007\", \"2008\", \"2008\", \"2008\", \"2008\", \"2008\", \"2008\", \"2009\", \"2009\", \"2009\", \"2010\", \"2010\", \"2010\", \"2010\", \"2011\", \"2011\", \"2011\", \"2011\", \"22\", \"22\", \"22\", \"22\", \"23\", \"23\", \"23\", \"23\", \"24\", \"24\", \"24\", \"24\", \"25\", \"25\", \"25\", \"25\", \"25\", \"26\", \"26\", \"26\", \"37\", \"37\", \"37\", \"38\", \"38\", \"38\", \"40\", \"40\", \"40\", \"400\", \"400\", \"400\", \"400\", \"55\", \"55\", \"55\", \"55\", \"90\", \"90\", \"access\", \"access\", \"according\", \"according\", \"according\", \"acquire\", \"acquire\", \"acquire\", \"acquisition\", \"acquisition\", \"addition\", \"addition\", \"addition\", \"ago\", \"ago\", \"ago\", \"agreement\", \"agreement\", \"agreement\", \"agreement\", \"agreement\", \"agreement\", \"aim\", \"aim\", \"amounted\", \"amounted\", \"application\", \"approximately\", \"asia\", \"asia\", \"atria\", \"atria\", \"august\", \"august\", \"august\", \"august\", \"available\", \"available\", \"available\", \"available\", \"awarded\", \"awarded\", \"awarded\", \"baltic\", \"baltic\", \"baltic\", \"baltic\", \"bank\", \"bank\", \"based\", \"based\", \"based\", \"based\", \"based\", \"based\", \"basware\", \"best\", \"best\", \"best\", \"board\", \"board\", \"board\", \"brand\", \"brand\", \"brand\", \"brand\", \"building\", \"building\", \"building\", \"building\", \"business\", \"business\", \"buy\", \"buy\", \"capacity\", \"capacity\", \"capacity\", \"capital\", \"capital\", \"cargotec\", \"cargotec\", \"center\", \"center\", \"center\", \"center\", \"ceo\", \"ceo\", \"ceo\", \"chief\", \"china\", \"china\", \"clients\", \"closed\", \"closed\", \"closed\", \"com\", \"com\", \"combined\", \"combined\", \"commercial\", \"commercial\", \"commercial\", \"companies\", \"companies\", \"companies\", \"companies\", \"companies\", \"company\", \"company\", \"company\", \"company\", \"company\", \"company\", \"compared\", \"compared\", \"complete\", \"complete\", \"construction\", \"construction\", \"construction\", \"construction\", \"consumers\", \"consumers\", \"continue\", \"continue\", \"continue\", \"continued\", \"continued\", \"continued\", \"contract\", \"contract\", \"contract\", \"contract\", \"controlled\", \"controlled\", \"corp\", \"corp\", \"corp\", \"corp\", \"corporation\", \"corporation\", \"corporation\", \"corporation\", \"corresponding\", \"cost\", \"cost\", \"cost\", \"cost\", \"costs\", \"costs\", \"costs\", \"costs\", \"countries\", \"countries\", \"currency\", \"currency\", \"cut\", \"cut\", \"cut\", \"data\", \"data\", \"data\", \"data\", \"day\", \"day\", \"decided\", \"decided\", \"decided\", \"decreased\", \"decreased\", \"decreased\", \"decreased\", \"deliver\", \"deliver\", \"deliver\", \"demand\", \"demand\", \"design\", \"design\", \"design\", \"developed\", \"developed\", \"developed\", \"devices\", \"devices\", \"devices\", \"director\", \"director\", \"directors\", \"directors\", \"dividend\", \"dividend\", \"dividend\", \"dividend\", \"division\", \"dropped\", \"dropped\", \"earlier\", \"earlier\", \"earnings\", \"earnings\", \"earnings\", \"efficiency\", \"efficiency\", \"efficiency\", \"elcoteq\", \"elcoteq\", \"elcoteq\", \"employees\", \"employees\", \"employees\", \"employees\", \"employees\", \"employees\", \"employees\", \"enable\", \"enable\", \"enable\", \"end\", \"end\", \"end\", \"end\", \"energy\", \"energy\", \"energy\", \"energy\", \"engineering\", \"engineering\", \"engineering\", \"engineering\", \"enso\", \"entire\", \"entire\", \"entire\", \"entire\", \"entire\", \"eps\", \"eps\", \"especially\", \"especially\", \"especially\", \"estimate\", \"estimate\", \"eur\", \"eur0\", \"eur0\", \"eur1\", \"eur1\", \"eur4\", \"euro\", \"euro\", \"europe\", \"europe\", \"euros\", \"euros\", \"euros\", \"euros\", \"exchange\", \"exchange\", \"executive\", \"executive\", \"executive\", \"expected\", \"expected\", \"expected\", \"expected\", \"expected\", \"experience\", \"facility\", \"facility\", \"fall\", \"fall\", \"fall\", \"fell\", \"fell\", \"financial\", \"financial\", \"financial\", \"finland\", \"finland\", \"finland\", \"finland\", \"finland\", \"finland\", \"finnair\", \"finnair\", \"finnair\", \"finnair\", \"finnair\", \"finnish\", \"finnish\", \"finnish\", \"finnish\", \"finnish\", \"finnish\", \"firm\", \"firm\", \"firm\", \"fiskars\", \"fiskars\", \"focus\", \"forecasts\", \"forecasts\", \"forest\", \"forest\", \"forest\", \"fourth\", \"germany\", \"germany\", \"germany\", \"germany\", \"global\", \"global\", \"global\", \"government\", \"government\", \"government\", \"group\", \"group\", \"group\", \"group\", \"group\", \"growth\", \"growth\", \"growth\", \"half\", \"hand\", \"hand\", \"hand\", \"handling\", \"handling\", \"head\", \"head\", \"head\", \"head\", \"hel\", \"hel\", \"helsinki\", \"helsinki\", \"helsinki\", \"helsinki\", \"helsinki\", \"high\", \"high\", \"high\", \"high\", \"high\", \"higher\", \"higher\", \"higher\", \"improved\", \"improved\", \"improved\", \"improved\", \"improved\", \"improvement\", \"improvement\", \"include\", \"include\", \"include\", \"include\", \"includes\", \"includes\", \"increase\", \"increase\", \"increase\", \"increase\", \"index\", \"index\", \"index\", \"industry\", \"industry\", \"industry\", \"industry\", \"information\", \"information\", \"information\", \"insurance\", \"international\", \"international\", \"international\", \"internet\", \"internet\", \"internet\", \"investments\", \"investments\", \"investors\", \"january\", \"january\", \"january\", \"jobs\", \"jobs\", \"joint\", \"kemira\", \"kemira\", \"kymmene\", \"largest\", \"largest\", \"largest\", \"largest\", \"largest\", \"largest\", \"lay\", \"level\", \"level\", \"level\", \"line\", \"line\", \"line\", \"load\", \"load\", \"looking\", \"looking\", \"loss\", \"loss\", \"lower\", \"lower\", \"lower\", \"major\", \"make\", \"make\", \"maker\", \"maker\", \"maker\", \"maker\", \"maker\", \"manufacturing\", \"manufacturing\", \"manufacturing\", \"manufacturing\", \"manufacturing\", \"march\", \"march\", \"march\", \"march\", \"march\", \"march\", \"margin\", \"margin\", \"market\", \"market\", \"market\", \"market\", \"market\", \"market\", \"measures\", \"measures\", \"measures\", \"measures\", \"media\", \"media\", \"members\", \"members\", \"members\", \"members\", \"members\", \"metso\", \"metso\", \"metso\", \"million\", \"million\", \"mln\", \"mn\", \"mobile\", \"mobile\", \"mobile\", \"month\", \"month\", \"month\", \"mr\", \"mr\", \"narrowed\", \"nasdaq\", \"negotiations\", \"negotiations\", \"neste\", \"neste\", \"net\", \"network\", \"network\", \"new\", \"new\", \"new\", \"new\", \"news\", \"news\", \"news\", \"nokia\", \"nokia\", \"nokia\", \"nokia\", \"nordea\", \"nordea\", \"nordea\", \"nordea\", \"nordic\", \"nordic\", \"nordic\", \"nordic\", \"number\", \"number\", \"number\", \"number\", \"october\", \"october\", \"october\", \"october\", \"october\", \"offer\", \"offer\", \"offer\", \"offering\", \"offering\", \"office\", \"offs\", \"oil\", \"olvi\", \"olvi\", \"olvi\", \"omx\", \"omx\", \"omx\", \"omx\", \"online\", \"online\", \"online\", \"operating\", \"operating\", \"operating\", \"operations\", \"operations\", \"operations\", \"operations\", \"operations\", \"operations\", \"operator\", \"operator\", \"operator\", \"oy\", \"oy\", \"oy\", \"oy\", \"oy\", \"oyj\", \"oyj\", \"oyj\", \"oyj\", \"oyj\", \"paper\", \"paper\", \"paper\", \"passenger\", \"passenger\", \"passenger\", \"passenger\", \"passenger\", \"pct\", \"pct\", \"pct\", \"people\", \"people\", \"people\", \"people\", \"people\", \"percent\", \"percent\", \"percent\", \"percent\", \"percent\", \"performance\", \"performance\", \"performance\", \"performance\", \"period\", \"period\", \"personnel\", \"personnel\", \"personnel\", \"petersburg\", \"phone\", \"phone\", \"phones\", \"place\", \"place\", \"planned\", \"planned\", \"planned\", \"planned\", \"plant\", \"plant\", \"plant\", \"platform\", \"plc\", \"plc\", \"plc\", \"plc\", \"pohjola\", \"pohjola\", \"points\", \"points\", \"points\", \"position\", \"position\", \"position\", \"potential\", \"potential\", \"potential\", \"president\", \"president\", \"press\", \"press\", \"pretax\", \"previous\", \"price\", \"price\", \"price\", \"price\", \"price\", \"prices\", \"prices\", \"prices\", \"prices\", \"printing\", \"printing\", \"production\", \"production\", \"production\", \"production\", \"products\", \"products\", \"products\", \"products\", \"products\", \"profit\", \"project\", \"project\", \"project\", \"project\", \"property\", \"provide\", \"provide\", \"provide\", \"pulp\", \"purchase\", \"purchase\", \"q1\", \"q1\", \"quality\", \"quality\", \"quality\", \"quarter\", \"quarter\", \"raisio\", \"rautaruukki\", \"rautaruukki\", \"real\", \"real\", \"received\", \"received\", \"reduction\", \"release\", \"release\", \"release\", \"report\", \"report\", \"report\", \"reporting\", \"reporting\", \"reporting\", \"reporting\", \"research\", \"research\", \"research\", \"research\", \"result\", \"result\", \"result\", \"result\", \"result\", \"results\", \"results\", \"results\", \"results\", \"revenue\", \"revenue\", \"revenue\", \"revenue\", \"rights\", \"rights\", \"rose\", \"rose\", \"rose\", \"rose\", \"russia\", \"russia\", \"russia\", \"russia\", \"ruukki\", \"ruukki\", \"said\", \"said\", \"said\", \"said\", \"said\", \"said\", \"said\", \"sale\", \"sale\", \"sales\", \"sales\", \"sampo\", \"sampo\", \"scheduled\", \"second\", \"second\", \"second\", \"secure\", \"secure\", \"secure\", \"seen\", \"seen\", \"seen\", \"sell\", \"sell\", \"sell\", \"sell\", \"september\", \"september\", \"september\", \"september\", \"service\", \"service\", \"service\", \"service\", \"services\", \"services\", \"services\", \"services\", \"services\", \"services\", \"share\", \"share\", \"share\", \"share\", \"share\", \"share\", \"shares\", \"shares\", \"shares\", \"shares\", \"shares\", \"shares\", \"shares\", \"signed\", \"signed\", \"signed\", \"significant\", \"significant\", \"site\", \"site\", \"situation\", \"slightly\", \"slightly\", \"slipped\", \"slipped\", \"small\", \"small\", \"small\", \"software\", \"software\", \"software\", \"sold\", \"sold\", \"sold\", \"sold\", \"solution\", \"solution\", \"solution\", \"solutions\", \"solutions\", \"solutions\", \"solutions\", \"solutions\", \"staff\", \"staff\", \"staff\", \"stake\", \"started\", \"steel\", \"steel\", \"steel\", \"steel\", \"stock\", \"stock\", \"stock\", \"stora\", \"subsidiary\", \"subsidiary\", \"subsidiary\", \"supply\", \"supply\", \"supply\", \"supply\", \"swedish\", \"swedish\", \"swedish\", \"swedish\", \"taxes\", \"technical\", \"technical\", \"technology\", \"technology\", \"technology\", \"technology\", \"technology\", \"technology\", \"teliasonera\", \"teliasonera\", \"teliasonera\", \"teliasonera\", \"time\", \"time\", \"time\", \"time\", \"time\", \"time\", \"time\", \"today\", \"today\", \"today\", \"today\", \"told\", \"tonnes\", \"total\", \"total\", \"total\", \"total\", \"total\", \"totaled\", \"totalled\", \"trade\", \"trade\", \"trade\", \"trade\", \"traffic\", \"traffic\", \"traffic\", \"transaction\", \"transaction\", \"transaction\", \"transaction\", \"transaction\", \"union\", \"unit\", \"unit\", \"unit\", \"unit\", \"units\", \"units\", \"units\", \"units\", \"upm\", \"upm\", \"usd\", \"usd\", \"use\", \"use\", \"use\", \"use\", \"user\", \"user\", \"user\", \"value\", \"value\", \"value\", \"versus\", \"versus\", \"volume\", \"volume\", \"voting\", \"weak\", \"web\", \"web\", \"wednesday\", \"wednesday\", \"wednesday\", \"went\", \"went\", \"won\", \"won\", \"won\", \"won\", \"wood\", \"wood\", \"wood\", \"wood\", \"work\", \"work\", \"work\", \"www\", \"www\", \"year\", \"year\", \"year\", \"year\", \"years\", \"years\", \"yit\", \"yit\"]}, \"R\": 30, \"lambda.step\": 0.01, \"plot.opts\": {\"xlab\": \"PC1\", \"ylab\": \"PC2\"}, \"topic.order\": [10, 4, 7, 9, 1, 5, 8, 2, 3, 6]};\n",
       "\n",
       "function LDAvis_load_lib(url, callback){\n",
       "  var s = document.createElement('script');\n",
       "  s.src = url;\n",
       "  s.async = true;\n",
       "  s.onreadystatechange = s.onload = callback;\n",
       "  s.onerror = function(){console.warn(\"failed to load library \" + url);};\n",
       "  document.getElementsByTagName(\"head\")[0].appendChild(s);\n",
       "}\n",
       "\n",
       "if(typeof(LDAvis) !== \"undefined\"){\n",
       "   // already loaded: just create the visualization\n",
       "   !function(LDAvis){\n",
       "       new LDAvis(\"#\" + \"ldavis_el1628422544605182883498505243\", ldavis_el1628422544605182883498505243_data);\n",
       "   }(LDAvis);\n",
       "}else if(typeof define === \"function\" && define.amd){\n",
       "   // require.js is available: use it to load d3/LDAvis\n",
       "   require.config({paths: {d3: \"https://d3js.org/d3.v5\"}});\n",
       "   require([\"d3\"], function(d3){\n",
       "      window.d3 = d3;\n",
       "      LDAvis_load_lib(\"https://cdn.jsdelivr.net/gh/bmabey/pyLDAvis@3.3.1/pyLDAvis/js/ldavis.v3.0.0.js\", function(){\n",
       "        new LDAvis(\"#\" + \"ldavis_el1628422544605182883498505243\", ldavis_el1628422544605182883498505243_data);\n",
       "      });\n",
       "    });\n",
       "}else{\n",
       "    // require.js not available: dynamically load d3 & LDAvis\n",
       "    LDAvis_load_lib(\"https://d3js.org/d3.v5.js\", function(){\n",
       "         LDAvis_load_lib(\"https://cdn.jsdelivr.net/gh/bmabey/pyLDAvis@3.3.1/pyLDAvis/js/ldavis.v3.0.0.js\", function(){\n",
       "                 new LDAvis(\"#\" + \"ldavis_el1628422544605182883498505243\", ldavis_el1628422544605182883498505243_data);\n",
       "            })\n",
       "         });\n",
       "}\n",
       "</script>"
      ],
      "text/plain": [
       "PreparedData(topic_coordinates=              x         y  topics  cluster       Freq\n",
       "topic                                                \n",
       "9     -0.294114 -0.083452       1        1  38.290293\n",
       "3      0.041447 -0.114016       2        1  17.760628\n",
       "6      0.057118 -0.042183       3        1  11.012589\n",
       "8      0.091879 -0.119593       4        1   7.428557\n",
       "0      0.061181  0.013329       5        1   6.412540\n",
       "4      0.011517 -0.003610       6        1   4.797284\n",
       "7      0.027624  0.150695       7        1   4.707634\n",
       "1      0.048985  0.001215       8        1   3.950447\n",
       "2     -0.070174  0.171748       9        1   3.195993\n",
       "5      0.024537  0.025865      10        1   2.444035, topic_info=              Term        Freq       Total Category  logprob  loglift\n",
       "201            eur  309.000000  309.000000  Default  30.0000  30.0000\n",
       "324             mn  186.000000  186.000000  Default  29.0000  29.0000\n",
       "466          share   59.000000   59.000000  Default  28.0000  28.0000\n",
       "222        finland   81.000000   81.000000  Default  27.0000  27.0000\n",
       "126        company  177.000000  177.000000  Default  26.0000  26.0000\n",
       "..             ...         ...         ...      ...      ...      ...\n",
       "304           make    1.015561   12.693451  Topic10  -5.3251   1.1859\n",
       "22            2011    0.973147   11.001606  Topic10  -5.3677   1.2863\n",
       "310  manufacturing    0.977485   12.227215  Topic10  -5.3633   1.1851\n",
       "438         result    0.980126   28.384152  Topic10  -5.3606   0.3456\n",
       "223        finnair    0.977659   15.491179  Topic10  -5.3631   0.9487\n",
       "\n",
       "[456 rows x 6 columns], token_table=      Topic      Freq   Term\n",
       "term                        \n",
       "1         1  0.429277    000\n",
       "1         2  0.021464    000\n",
       "1         3  0.515132    000\n",
       "2         1  0.600960     10\n",
       "2         2  0.156772     10\n",
       "...     ...       ...    ...\n",
       "546       5  0.008981   year\n",
       "547       5  0.625219  years\n",
       "547      10  0.156305  years\n",
       "549       2  0.358670    yit\n",
       "549       4  0.502138    yit\n",
       "\n",
       "[1010 rows x 3 columns], R=30, lambda_step=0.01, plot_opts={'xlab': 'PC1', 'ylab': 'PC2'}, topic_order=[10, 4, 7, 9, 1, 5, 8, 2, 3, 6])"
      ]
     },
     "execution_count": 38,
     "metadata": {},
     "output_type": "execute_result"
    }
   ],
   "source": [
    "pyLDAvis.enable_notebook()\n",
    "pyLDAvis.sklearn.prepare(lda, tf, tf_vectorizer)"
   ]
  },
  {
   "cell_type": "code",
   "execution_count": 39,
   "id": "2b5b2c80",
   "metadata": {
    "ExecuteTime": {
     "end_time": "2022-06-18T00:51:24.213070Z",
     "start_time": "2022-06-18T00:51:22.724790Z"
    }
   },
   "outputs": [
    {
     "name": "stderr",
     "output_type": "stream",
     "text": [
      "C:\\Users\\Ash\\anaconda3\\lib\\site-packages\\pyLDAvis\\_prepare.py:246: FutureWarning: In a future version of pandas all arguments of DataFrame.drop except for the argument 'labels' will be keyword-only\n",
      "  default_term_info = default_term_info.sort_values(\n"
     ]
    },
    {
     "data": {
      "text/html": [
       "\n",
       "<link rel=\"stylesheet\" type=\"text/css\" href=\"https://cdn.jsdelivr.net/gh/bmabey/pyLDAvis@3.3.1/pyLDAvis/js/ldavis.v1.0.0.css\">\n",
       "\n",
       "\n",
       "<div id=\"ldavis_el162842254482083392600868111\"></div>\n",
       "<script type=\"text/javascript\">\n",
       "\n",
       "var ldavis_el162842254482083392600868111_data = {\"mdsDat\": {\"x\": [-0.31517519273866224, -0.13422726027103674, 0.09459094094161323, 0.11736751204792457, 0.06117939562638326, 0.10395970525270237, -0.032640431914162625, 0.05546880038138211, 0.034234800377480314, 0.015241730296375915], \"y\": [0.036352441899429745, -0.10202583577991337, -0.10045692302296019, -0.07992494726852171, -0.09283215816686556, 0.1342639851323214, -0.003997286375437762, 0.09526855010750725, 0.06446714299819084, 0.04888503047624904], \"topics\": [1, 2, 3, 4, 5, 6, 7, 8, 9, 10], \"cluster\": [1, 1, 1, 1, 1, 1, 1, 1, 1, 1], \"Freq\": [29.366179168414735, 20.597557536287184, 10.29236396947567, 10.249807748934355, 8.316667951843147, 6.212878274470838, 5.340526235927273, 3.910618099715209, 3.8294403589403414, 1.8839606559912503]}, \"tinfo\": {\"Term\": [\"eur\", \"mn\", \"mln\", \"finland\", \"company\", \"said\", \"sales\", \"mobile\", \"new\", \"compared\", \"companies\", \"shares\", \"share\", \"oyj\", \"operations\", \"paper\", \"finnish\", \"eur mn\", \"2010\", \"net\", \"net sales\", \"profit\", \"helsinki\", \"operating\", \"services\", \"market\", \"stora\", \"stock\", \"corporation\", \"stora enso\", \"net sales\", \"mn\", \"eur mn\", \"operating profit\", \"mn eur\", \"mn compared\", \"sales\", \"mn corresponding\", \"totalled\", \"totalled eur\", \"operating loss\", \"operating\", \"totaled\", \"mn quarter\", \"rose eur\", \"totaled eur\", \"eur\", \"compared eur\", \"mn year\", \"million eur\", \"2004\", \"profit eur\", \"compared\", \"sales eur\", \"period 2008\", \"sales decreased\", \"compared profit\", \"eur 17\", \"2005\", \"pretax profit\", \"corresponding\", \"corresponding period\", \"quarter 2008\", \"decreased\", \"profit\", \"period\", \"net\", \"2008\", \"quarter\", \"million\", \"2007\", \"loss\", \"year\", \"rose\", \"2009\", \"group\", \"mln euro\", \"mln\", \"net profit\", \"hel\", \"oyj hel\", \"said today\", \"euro mln\", \"2010\", \"euro\", \"usd\", \"oyj\", \"million usd\", \"net loss\", \"narrowed\", \"quarter 2010\", \"today net\", \"2009 finnish\", \"2010 finnish\", \"q1\", \"mln period\", \"maker\", \"period year\", \"previous year\", \"adp news\", \"news\", \"adp\", \"posted\", \"solutions provider\", \"completed\", \"previous\", \"today\", \"second quarter\", \"finnish\", \"year\", \"april\", \"2009\", \"said\", \"million\", \"net\", \"company\", \"000\", \"quarter\", \"profit\", \"second\", \"loss\", \"period\", \"2007\", \"group\", \"eur\", \"shares\", \"investment\", \"capital\", \"market share\", \"directors\", \"board directors\", \"board\", \"share capital\", \"percent\", \"entire\", \"sampo\", \"dividend\", \"members\", \"offering\", \"petersburg\", \"voting rights\", \"rights\", \"market\", \"mr\", \"government\", \"head\", \"st petersburg\", \"insurance\", \"scheduled\", \"general\", \"staff\", \"50\", \"voting\", \"central\", \"metso\", \"financial\", \"office\", \"bank\", \"share\", \"according\", \"group\", \"company\", \"building\", \"media\", \"end\", \"total\", \"finland\", \"said\", \"companies\", \"finnish\", \"omx helsinki\", \"helsinki\", \"term\", \"long term\", \"omx\", \"passenger\", \"tonnes\", \"traffic\", \"oil\", \"000 tonnes\", \"finnair\", \"capacity\", \"offs\", \"long\", \"neste\", \"oy\", \"pct lower\", \"production\", \"finland\", \"neste oil\", \"corporation omx\", \"engineering\", \"experience\", \"steel\", \"unit\", \"plc\", \"pct\", \"power\", \"available\", \"points\", \"000\", \"business\", \"revenue\", \"18\", \"employees\", \"corporation\", \"12\", \"services\", \"company\", \"industry\", \"september\", \"2009\", \"finnish\", \"new\", \"earnings share\", \"share eps\", \"earnings\", \"seen\", \"received\", \"solution\", \"handling\", \"basware\", \"business area\", \"new\", \"cargo\", \"eur1\", \"awarded\", \"yit\", \"significant\", \"ab\", \"cargotec\", \"eps\", \"finnish construction\", \"performance\", \"complete\", \"clients\", \"tools\", \"buy\", \"area\", \"commercial\", \"providing\", \"30\", \"property\", \"contract\", \"eur0\", \"order\", \"share\", \"solutions\", \"construction\", \"company\", \"subsidiary\", \"lower\", \"finnish\", \"technology\", \"based\", \"business\", \"year\", \"mobile\", \"phone\", \"mobile phone\", \"phones\", \"internet\", \"web\", \"includes\", \"devices\", \"ceo\", \"china\", \"especially\", \"access\", \"nokia\", \"enable\", \"currently\", \"research\", \"range\", \"america\", \"president\", \"north\", \"operator\", \"managing\", \"wide\", \"network\", \"told\", \"transaction\", \"secure\", \"data\", \"application\", \"information\", \"services\", \"products\", \"design\", \"largest\", \"time\", \"position\", \"said\", \"company\", \"agreement\", \"expected\", \"2008\", \"second\", \"sales\", \"cost\", \"company said\", \"companies\", \"cost savings\", \"jobs\", \"listed\", \"improved\", \"chief\", \"make\", \"16\", \"contracts\", \"people\", \"operations\", \"russia\", \"executive\", \"technopolis\", \"raisio\", \"savings\", \"plant\", \"food\", \"aim\", \"approximately\", \"cash flow\", \"flow\", \"estimates\", \"start\", \"mln eur\", \"region\", \"concerning\", \"value\", \"personnel\", \"said\", \"15\", \"company\", \"won\", \"finnish\", \"total\", \"eur\", \"cash\", \"year\", \"mn\", \"finland\", \"stora\", \"stora enso\", \"enso\", \"paper\", \"printing\", \"kymmene\", \"upm kymmene\", \"upm\", \"high\", \"weak\", \"situation\", \"fixed\", \"costs\", \"demand\", \"20\", \"pulp\", \"quality\", \"rate\", \"glaston\", \"asia\", \"materials\", \"europe\", \"prices\", \"result\", \"vaahto\", \"technical\", \"55\", \"cut\", \"decision\", \"october\", \"measures\", \"largest\", \"china\", \"said\", \"oyj\", \"increased\", \"finnish\", \"2006\", \"exchange\", \"stock exchange\", \"stock\", \"baltic countries\", \"countries\", \"sales fell\", \"manufacturing services\", \"nordic\", \"release\", \"manufacturing\", \"baltic\", \"closed\", \"international\", \"rautaruukki\", \"press release\", \"40\", \"corporation\", \"terms\", \"communications\", \"press\", \"nasdaq omx\", \"online\", \"nasdaq\", \"local\", \"revenues\", \"14\", \"atria\", \"concerning\", \"remain\", \"elcoteq\", \"operations\", \"ruukki\", \"omx\", \"fell\", \"services\", \"10\", \"finland\", \"2008\", \"march\", \"portfolio\", \"line\", \"billion\", \"worth\", \"acquisition\", \"customer\", \"price\", \"product\", \"index\", \"day\", \"100\", \"trade\", \"35\", \"small\", \"points\", \"teliasonera\", \"device\", \"fall\", \"center\", \"decided\", \"level\", \"established\", \"improved\", \"offer\", \"europe\", \"general\", \"properties\", \"target\", \"site\", \"20\", \"rose\", \"compared\", \"number\", \"2009\"], \"Freq\": [324.0, 196.0, 79.0, 77.0, 173.0, 103.0, 109.0, 32.0, 45.0, 57.0, 30.0, 33.0, 59.0, 52.0, 33.0, 19.0, 131.0, 69.0, 62.0, 115.0, 67.0, 125.0, 36.0, 89.0, 35.0, 44.0, 16.0, 16.0, 26.0, 15.0, 65.4641939179132, 189.9886281354926, 67.38470876829028, 53.646901447033635, 48.747754392696685, 19.63555617074744, 100.25498911965664, 17.49062726178498, 15.664410266596809, 15.641868104111541, 15.345917920498938, 80.29313458790162, 15.213250356314603, 12.46237350421048, 14.961012173971936, 12.826672724042611, 282.2731596524642, 11.040538084089727, 10.878512908891294, 9.226441653413879, 11.354763485101206, 20.383956484675128, 48.86053964954003, 9.54757965548008, 8.607821768182403, 8.52491658592207, 8.122747674242254, 8.764264947376699, 22.517809900269512, 7.861990539642978, 34.11837714151145, 32.73580884281868, 18.770197257473665, 32.616134902843186, 87.87923186039433, 55.79590907078854, 69.26029718820125, 54.212215350105396, 51.46804552639084, 47.463531776142105, 34.74204155754085, 30.677646796211995, 38.090462888093455, 19.35621402716267, 26.105504423472677, 21.025092204226848, 31.435292872148228, 75.68406714301823, 27.363338775963413, 28.274250166400822, 23.33972788591577, 20.3988094247023, 15.264191530499964, 55.91832422208397, 34.8738830992566, 16.562859595189842, 46.57318164246853, 11.98593224435986, 13.554429780463776, 9.4628684689815, 11.025766747316037, 8.219845918534173, 7.848569728923187, 7.1078263817015275, 11.913738972104465, 6.082484523866023, 15.073095215718396, 7.18123272416019, 5.817828836434026, 5.391583484368459, 12.605817134127408, 5.370969326155474, 6.807635894874932, 4.4834085591812745, 6.859169011226119, 8.378430802934014, 26.291670114465116, 14.394423923560772, 69.1628730035906, 57.128094056761505, 8.078855598900514, 42.028876121943206, 45.20591338483034, 38.26950985060329, 44.00348709105689, 47.70488755467644, 19.360366234703, 29.228706707510067, 33.92327721015372, 16.033779489903235, 20.10351080770853, 22.199557919464716, 20.62947874651638, 21.519363432886994, 29.835235153547504, 30.813459412339583, 17.119521698191072, 15.13706278581802, 7.601628355426443, 6.854600155393636, 6.85913741482206, 9.481175132173625, 6.45163128685547, 19.71078124574463, 8.935232955926999, 5.5581220834753795, 10.20304376692153, 4.76482017053306, 4.5743548722666345, 4.795437632107617, 4.060463288514235, 5.570653797952329, 31.330956667648735, 5.6689481880319, 6.873727297267592, 9.237066975167206, 3.84619206852254, 7.924009237521826, 4.702408626063585, 4.693348324540205, 8.954337315526967, 6.110248047016735, 4.047922716280038, 4.078608684981856, 6.27724990595046, 13.036808705922025, 13.570519645538747, 10.828977327847015, 27.078066465071363, 9.57706196504452, 27.222846354631407, 34.171718047554926, 9.555037160145552, 6.458999792604293, 7.464125555234344, 7.986005979585522, 9.63113072467743, 9.447388639698648, 6.929363921429383, 7.103886966993701, 13.188989188794961, 29.91808137815246, 7.92695128518464, 7.272193284884464, 18.002684924021427, 15.326260746925316, 6.106537155035752, 13.17588079126472, 9.071583000868726, 4.901961531844596, 10.780003866557465, 9.305991889560124, 4.397936460830667, 9.575930009382635, 4.062482317420773, 17.45180284859316, 3.659478691677892, 13.214958365361335, 51.64792638149951, 3.425922399768517, 3.617702534112332, 7.711840802411303, 4.3317722251468735, 8.382035859991236, 12.481349541771912, 7.971332175450387, 14.263986112122575, 4.612295588505257, 9.017308265797604, 6.424350794216327, 19.80800028488218, 14.79941715827994, 5.957064719447214, 8.58680220099395, 6.673499667843409, 9.464150450908548, 9.889669801915836, 10.89897900470958, 20.415742899862757, 7.158940535316662, 8.298329972465181, 10.791138742087238, 11.513265046968598, 7.394459733757299, 11.830263597695078, 10.274972938532633, 14.320227392644757, 8.343664418498854, 6.482636463630615, 7.852740264622036, 7.82943995976533, 9.010390504070676, 4.010158262296216, 31.65053146230392, 4.030234310301723, 5.33174730046414, 8.41257802629989, 9.64249322024329, 9.626535762582469, 3.8734597172308822, 6.1788481116765235, 14.496120599647696, 6.714983193478256, 4.310359230805999, 3.3055323895059012, 3.8709996833625753, 4.774755196688114, 4.079573140128918, 6.888215866278614, 4.005537224733115, 3.9718337630455656, 8.621342703779556, 3.036984119713161, 16.927951496516087, 11.097157034492108, 7.768037536386586, 18.815819377906173, 9.620246949625923, 10.175877748014983, 26.130276167067798, 6.362557097321074, 6.20770724809212, 16.07990893096118, 6.946616947489428, 6.660507762900932, 7.694354428586953, 10.261588992260183, 29.06701418205558, 10.334716268883607, 9.566672374504897, 8.473391077225221, 7.835304542925584, 5.2715930886391265, 6.836572032974343, 4.293663220029642, 12.483781925970701, 11.246856312469347, 3.5952125633073626, 3.5217735380125386, 11.612246892460998, 3.9610087121161004, 5.258339475524286, 5.298429258951253, 3.850409796903753, 4.792018838376814, 6.822306946669027, 4.27402355111309, 5.5826803398172125, 4.373015356574569, 3.0155028806622757, 5.432135798087085, 3.2707243615355135, 6.945328506055788, 3.0047821547708913, 7.090853143399207, 4.312166593763411, 5.183056552619806, 16.71243934185904, 8.637961895735415, 6.81444052379307, 7.436952983591741, 5.783877365877896, 4.732835997200077, 9.658970080620541, 8.324877403240158, 4.994676613910621, 5.110183730763883, 5.775200328663612, 5.189508840762981, 5.205829244318356, 9.507471947537375, 9.263746642387273, 20.681851635867396, 3.9414490657831216, 4.6058637090676005, 3.314646430157771, 4.046967718706809, 4.160690608509133, 7.726462651708908, 6.411163156366356, 4.199482589910803, 6.557130582456177, 16.706887578352163, 8.766626857877144, 3.121093693900166, 2.62059773767291, 2.797851695873236, 4.1539379014110445, 8.627048077748466, 4.558791090907596, 2.3743532346877694, 3.028429212751998, 3.209483985814185, 3.216383492096604, 2.5066082661390623, 3.4267548660740466, 3.8108502163955813, 2.7211859923729707, 2.498924626186165, 4.430922039189005, 3.785897658307468, 22.06043128936636, 5.827050689276285, 20.189184805315342, 3.7079654956076586, 10.71769603465982, 4.694632046179406, 10.214750594381334, 3.5572132956082054, 4.925099881609119, 4.847527458136693, 3.7622774287515406, 14.563185060657645, 13.795828080136076, 13.764245423662482, 17.27884967235177, 5.769449907508245, 3.4592715090581283, 3.4252168467453785, 4.112773799056104, 5.118903083412075, 3.0955074342668745, 3.919500897207231, 2.8223944477166434, 6.4239103827171, 7.806221534362579, 6.902291213439309, 3.1410202546327306, 2.444733645096713, 2.2147826485432525, 2.3010226392703803, 1.9577742370630085, 1.889307791890955, 2.9360179586343538, 3.525095344210512, 9.173255599243515, 1.9602024824498707, 1.7683699397642825, 1.6599531157911425, 2.5623062991259142, 1.5854609206221333, 4.474253187809329, 3.8072735675964706, 5.76854742501838, 3.1203464059139456, 5.897966334867295, 3.8984459159918887, 2.873306663323878, 3.2757645350357167, 2.6363173898282897, 13.538392639389649, 11.204803896646485, 13.9013413392984, 3.7993537773569335, 6.561493399290462, 3.9616549303447677, 3.736590628249483, 5.754756513507847, 9.925708482032737, 6.634031325465955, 4.318658546891335, 2.5112673516709236, 2.669024070797674, 4.752737443603251, 2.449054281672126, 6.088539848881343, 10.066511317310244, 3.199636445075871, 2.6934216771334527, 2.3206401376183, 2.1981726231685035, 3.1653310326723054, 2.1947333769838853, 3.4571070512993094, 1.5408655307270933, 5.2587107544482885, 1.452395757504823, 1.7451458067159809, 1.58907386003424, 2.068810025046283, 5.126394962529638, 2.3092257827228915, 3.2039534397076173, 2.954120414259952, 3.3773718022793715, 3.1631386609330225, 3.6149501943973315, 2.8811321711239173, 2.3279729268598808, 7.310798812403768, 4.810688574720545, 7.0820026167680705, 6.081146626442322, 6.7502197536116295, 3.7148094499988984, 7.218455120848895, 2.805019112841446, 2.307305349393751, 2.324541440460335, 2.491380053468259, 2.249654559636449, 1.9800614048980105, 1.288202780590299, 2.1567938236848714, 0.9802585501934585, 0.8884497653425032, 0.9304163135501251, 0.8768795131647293, 0.9066479730467778, 0.9186025388183703, 0.7279607832863614, 0.933605518635744, 0.7581295222365682, 0.8600860116278216, 0.6939474525435092, 0.5539449780864607, 0.9306709369044043, 0.9213165058466662, 1.1132651152827588, 1.8594831756171535, 2.1429531319236887, 0.9259478560737249, 1.0129934476146583], \"Total\": [324.0, 196.0, 79.0, 77.0, 173.0, 103.0, 109.0, 32.0, 45.0, 57.0, 30.0, 33.0, 59.0, 52.0, 33.0, 19.0, 131.0, 69.0, 62.0, 115.0, 67.0, 125.0, 36.0, 89.0, 35.0, 44.0, 16.0, 16.0, 26.0, 15.0, 67.57781365900946, 196.62124468760268, 69.99612505115715, 56.18819902443095, 51.72117875191689, 21.242463880079956, 109.3773387418506, 19.11805231382779, 17.253891461449342, 17.28912258411662, 16.99355969485295, 89.55248660085978, 17.183683064038338, 14.098096235160174, 17.0058678532522, 14.590480674745393, 324.2414792098048, 12.713151319085025, 12.651078375815, 10.77769068093911, 13.30783988483824, 23.93087364578877, 57.48747737671569, 11.278764540017141, 10.269085095669396, 10.210129388863951, 9.760188250593199, 10.566486123136807, 27.367792846999375, 9.570356968400233, 41.794744146804426, 40.10776606548265, 23.054171794509223, 42.30546389488463, 125.10181297573037, 80.00319018959185, 115.2042591104594, 89.15767094933358, 84.71125258634032, 87.62398279343387, 66.11692390750358, 57.75349627125464, 114.29402086910312, 29.305704733010895, 87.40304957346528, 79.8665684734612, 33.008826997385036, 79.50575585085765, 29.003098166499775, 30.125725030763302, 25.132620342380193, 22.263879302433963, 16.86977004587558, 62.16839999082091, 39.01986164185039, 18.71983978327918, 52.90676607007168, 13.935848156386285, 15.9649064216506, 11.146596812719835, 13.256775620726245, 9.950179103488011, 9.622034712422, 8.760164723792794, 14.869565732299085, 7.647690890846723, 18.98187901333472, 9.19201756175936, 7.529057734220489, 7.165137926417392, 16.797660319567367, 7.180409665902765, 9.324295126973361, 6.142486479609665, 9.456299675784361, 11.821167699993655, 39.08066911523694, 21.75979735356846, 131.4942321000318, 114.29402086910312, 11.451736361935973, 87.40304957346528, 103.78086437621222, 87.62398279343387, 115.2042591104594, 173.371494151734, 42.93200995709461, 84.71125258634032, 125.10181297573037, 34.70737083326939, 57.75349627125464, 80.00319018959185, 66.11692390750358, 79.8665684734612, 324.2414792098048, 33.001358875669354, 19.62611881707844, 17.558052857346162, 9.304956989259006, 8.416374836945794, 8.503685168164402, 11.833025726914384, 8.105476666570445, 25.193145100233693, 11.539353821086634, 7.244738428715869, 13.382012518172797, 6.419359498395167, 6.247666679894477, 6.568700886435819, 5.678934435138567, 7.946455222582624, 44.759407087953, 8.12466853064307, 9.942493677111733, 13.38634190407702, 5.608073202279622, 11.669302341370486, 7.197448707147124, 7.342077660507387, 14.182811155619238, 9.751119443489769, 6.492668317560514, 6.6352799115391345, 10.244007756037657, 21.617187715750976, 22.754172082840405, 19.374756998778686, 59.99689118604052, 18.924819548266083, 79.8665684734612, 173.371494151734, 21.63327458550222, 12.900730058909883, 21.04694132210323, 26.5094706725907, 77.52198776381508, 103.78086437621222, 30.755138569629075, 131.4942321000318, 15.229229108597812, 36.47319430190566, 9.675785938799619, 9.024673928139926, 23.02549516368918, 19.874745610775165, 8.063245989856524, 17.641778362506724, 12.185503325638319, 6.59851206140095, 14.794389317594824, 12.878339888631213, 6.145266867282047, 13.561975985202126, 5.7708989653239104, 24.838214889941963, 5.3314475729675745, 19.783713579187754, 77.52198776381508, 5.17337964749774, 5.526712809771425, 11.975701220948437, 6.827408641878533, 13.432718829655055, 20.174086162241075, 13.428978204833102, 24.419401994994963, 7.937319792803395, 15.558634015187424, 11.45417193083679, 42.93200995709461, 38.084182425653076, 11.691016710182751, 20.40909727115071, 13.921664854925918, 26.0972595089319, 28.648041994153623, 35.15670002604338, 173.371494151734, 16.74709202752482, 25.800571816368638, 87.40304957346528, 131.4942321000318, 45.63409456366301, 13.51609789995137, 11.99569696183261, 16.812203466958522, 10.485163921389466, 8.205200088618737, 10.190771064835802, 10.459610025639282, 12.113093768547474, 5.589732761325058, 45.63409456366301, 5.919108653059215, 7.878180059886026, 12.48375097797068, 14.333597660885903, 14.366902611377212, 6.204234285949849, 9.897640709836205, 23.468360724145843, 10.945842359432012, 7.236710279396385, 5.6609860042181115, 6.642266179519136, 8.228241549251756, 7.140121840707451, 12.509470095573526, 7.320290834133246, 7.324601804097948, 16.46052726951039, 5.837076199589713, 33.429220025205495, 25.58980430166821, 18.012233891584447, 59.99689118604052, 24.865356426516584, 27.98284890450434, 173.371494151734, 16.073952990713813, 15.421683040105231, 131.4942321000318, 22.14623018972284, 23.38609679813389, 38.084182425653076, 114.29402086910312, 32.42263511860021, 12.267339170261382, 11.509381477558506, 10.276055949854651, 10.36805742123318, 7.011566295261742, 9.11468377446523, 5.9647003556002005, 17.44587013343077, 15.845968704442383, 5.2259102927646355, 5.131609093246286, 16.92038429879497, 6.045727497421287, 8.047958817814864, 8.193223422508213, 6.283193784405197, 7.935251570976498, 11.61252926359309, 7.321230806075906, 9.567996117394607, 7.5866251240291405, 5.377422307320744, 9.799058036273594, 5.993827472558237, 12.858160839989246, 5.565454192315953, 13.540039937778996, 8.247160767009568, 10.384765364699197, 35.15670002604338, 19.999502544169584, 15.46516811755995, 23.613782012490606, 15.762135752243799, 10.71138924414977, 103.78086437621222, 173.371494151734, 17.082354398112557, 21.66021462621575, 89.15767094933358, 34.70737083326939, 109.3773387418506, 13.661513758845219, 13.571717778169027, 30.755138569629075, 5.9332339617527685, 7.341001568269313, 5.758686176891351, 7.1253202577099914, 7.341780424060841, 13.667428669077868, 11.859971580884208, 8.0582073209337, 12.820949993725165, 33.427760024908956, 17.63992542969576, 6.5479303353864164, 5.850275889496052, 6.246371353548763, 9.33248830185643, 19.47388563045227, 10.564886471283069, 5.640253359234988, 7.675902871649872, 8.265700477069096, 8.329293230621712, 6.751813445110998, 9.2317479489141, 10.361747666248219, 7.537561642725044, 6.941420474079937, 12.572027164503941, 11.27411446649355, 103.78086437621222, 22.845968676336962, 173.371494151734, 12.157674549310494, 131.4942321000318, 26.5094706725907, 324.2414792098048, 14.206864603697216, 114.29402086910312, 196.62124468760268, 77.52198776381508, 16.396061207053027, 15.572963911916071, 15.61900450847282, 19.776548012360088, 7.563506666587844, 5.502821650840107, 5.462823535427443, 6.97549802009836, 8.934681814536672, 5.577847269060312, 7.455183281643667, 5.436090487625238, 12.5230854933827, 15.270402262189329, 15.958861692664847, 7.299199802280157, 5.799184165443859, 5.628301383964589, 5.948913908137768, 5.30528324157916, 5.251982424440949, 8.3707184161059, 10.738603587894541, 28.34396793193132, 6.284555352744075, 5.698290032400703, 5.7895177645563525, 8.99741741795971, 5.650103754335887, 16.3485252423397, 14.052786773751569, 23.613782012490606, 15.845968704442383, 103.78086437621222, 52.90676607007168, 21.383981273950827, 131.4942321000318, 34.91733769278172, 15.285654944687977, 12.99951629869416, 16.71670086858718, 5.416337995660019, 9.36879619277142, 5.836295660038406, 5.614400298162444, 9.45920536153524, 17.833845009385143, 12.024507223204047, 8.403597189658818, 5.5632362941673135, 5.918335493593212, 10.878653858101794, 5.896763431420902, 15.625454507864236, 26.0972595089319, 8.771663692408856, 7.392507375276958, 6.485508702190029, 6.277745606714377, 9.363311259930082, 6.9832161944997715, 11.827666789069632, 5.482558600478641, 19.76943061894474, 5.682546736238624, 6.941420474079937, 6.347064168210884, 8.426425199434696, 33.427760024908956, 12.00684665876059, 23.02549516368918, 21.981364837654713, 35.15670002604338, 37.59255764944328, 77.52198776381508, 89.15767094933358, 21.39395117575959, 11.249065068001872, 7.992698204730795, 11.814006972736248, 11.025614200595015, 12.9891313702362, 7.915255447240111, 15.509201068119161, 8.042461193687707, 8.07557669963125, 8.302909374173074, 9.403333087082665, 8.858116942650147, 9.423664487847567, 6.160744089620059, 11.45417193083679, 5.5185977441520935, 5.361655360738405, 5.692922437571692, 5.519800743085965, 5.73518063789642, 6.5294860035735764, 5.216363710594733, 7.1253202577099914, 6.4479974922601615, 8.3707184161059, 7.342077660507387, 6.1874751342670695, 11.110718496196641, 11.297837719613598, 15.958861692664847, 29.305704733010895, 57.48747737671569, 14.998863712921281, 87.40304957346528], \"Category\": [\"Default\", \"Default\", \"Default\", \"Default\", \"Default\", \"Default\", \"Default\", \"Default\", \"Default\", \"Default\", \"Default\", \"Default\", \"Default\", \"Default\", \"Default\", \"Default\", \"Default\", \"Default\", \"Default\", \"Default\", \"Default\", \"Default\", \"Default\", \"Default\", \"Default\", \"Default\", \"Default\", \"Default\", \"Default\", \"Default\", \"Topic1\", \"Topic1\", \"Topic1\", \"Topic1\", \"Topic1\", \"Topic1\", \"Topic1\", \"Topic1\", \"Topic1\", \"Topic1\", \"Topic1\", \"Topic1\", \"Topic1\", \"Topic1\", \"Topic1\", \"Topic1\", \"Topic1\", \"Topic1\", \"Topic1\", \"Topic1\", \"Topic1\", \"Topic1\", \"Topic1\", \"Topic1\", \"Topic1\", \"Topic1\", \"Topic1\", \"Topic1\", \"Topic1\", \"Topic1\", \"Topic1\", \"Topic1\", \"Topic1\", \"Topic1\", \"Topic1\", \"Topic1\", \"Topic1\", \"Topic1\", \"Topic1\", \"Topic1\", \"Topic1\", \"Topic1\", \"Topic1\", \"Topic1\", \"Topic1\", \"Topic1\", \"Topic2\", \"Topic2\", \"Topic2\", \"Topic2\", \"Topic2\", \"Topic2\", \"Topic2\", \"Topic2\", \"Topic2\", \"Topic2\", \"Topic2\", \"Topic2\", \"Topic2\", \"Topic2\", \"Topic2\", \"Topic2\", \"Topic2\", \"Topic2\", \"Topic2\", \"Topic2\", \"Topic2\", \"Topic2\", \"Topic2\", \"Topic2\", \"Topic2\", \"Topic2\", \"Topic2\", \"Topic2\", \"Topic2\", \"Topic2\", \"Topic2\", \"Topic2\", \"Topic2\", \"Topic2\", \"Topic2\", \"Topic2\", \"Topic2\", \"Topic2\", \"Topic2\", \"Topic2\", \"Topic2\", \"Topic2\", \"Topic2\", \"Topic2\", \"Topic2\", \"Topic2\", \"Topic2\", \"Topic2\", \"Topic2\", \"Topic3\", \"Topic3\", \"Topic3\", \"Topic3\", \"Topic3\", \"Topic3\", \"Topic3\", \"Topic3\", \"Topic3\", \"Topic3\", \"Topic3\", \"Topic3\", \"Topic3\", \"Topic3\", \"Topic3\", \"Topic3\", \"Topic3\", \"Topic3\", \"Topic3\", \"Topic3\", \"Topic3\", \"Topic3\", \"Topic3\", \"Topic3\", \"Topic3\", \"Topic3\", \"Topic3\", \"Topic3\", \"Topic3\", \"Topic3\", \"Topic3\", \"Topic3\", \"Topic3\", \"Topic3\", \"Topic3\", \"Topic3\", \"Topic3\", \"Topic3\", \"Topic3\", \"Topic3\", \"Topic3\", \"Topic3\", \"Topic3\", \"Topic3\", \"Topic3\", \"Topic4\", \"Topic4\", \"Topic4\", \"Topic4\", \"Topic4\", \"Topic4\", \"Topic4\", \"Topic4\", \"Topic4\", \"Topic4\", \"Topic4\", \"Topic4\", \"Topic4\", \"Topic4\", \"Topic4\", \"Topic4\", \"Topic4\", \"Topic4\", \"Topic4\", \"Topic4\", \"Topic4\", \"Topic4\", \"Topic4\", \"Topic4\", \"Topic4\", \"Topic4\", \"Topic4\", \"Topic4\", \"Topic4\", \"Topic4\", \"Topic4\", \"Topic4\", \"Topic4\", \"Topic4\", \"Topic4\", \"Topic4\", \"Topic4\", \"Topic4\", \"Topic4\", \"Topic4\", \"Topic4\", \"Topic4\", \"Topic4\", \"Topic4\", \"Topic5\", \"Topic5\", \"Topic5\", \"Topic5\", \"Topic5\", \"Topic5\", \"Topic5\", \"Topic5\", \"Topic5\", \"Topic5\", \"Topic5\", \"Topic5\", \"Topic5\", \"Topic5\", \"Topic5\", \"Topic5\", \"Topic5\", \"Topic5\", \"Topic5\", \"Topic5\", \"Topic5\", \"Topic5\", \"Topic5\", \"Topic5\", \"Topic5\", \"Topic5\", \"Topic5\", \"Topic5\", \"Topic5\", \"Topic5\", \"Topic5\", \"Topic5\", \"Topic5\", \"Topic5\", \"Topic5\", \"Topic5\", \"Topic5\", \"Topic5\", \"Topic5\", \"Topic5\", \"Topic5\", \"Topic5\", \"Topic5\", \"Topic6\", \"Topic6\", \"Topic6\", \"Topic6\", \"Topic6\", \"Topic6\", \"Topic6\", \"Topic6\", \"Topic6\", \"Topic6\", \"Topic6\", \"Topic6\", \"Topic6\", \"Topic6\", \"Topic6\", \"Topic6\", \"Topic6\", \"Topic6\", \"Topic6\", \"Topic6\", \"Topic6\", \"Topic6\", \"Topic6\", \"Topic6\", \"Topic6\", \"Topic6\", \"Topic6\", \"Topic6\", \"Topic6\", \"Topic6\", \"Topic6\", \"Topic6\", \"Topic6\", \"Topic6\", \"Topic6\", \"Topic6\", \"Topic6\", \"Topic6\", \"Topic6\", \"Topic6\", \"Topic6\", \"Topic6\", \"Topic6\", \"Topic7\", \"Topic7\", \"Topic7\", \"Topic7\", \"Topic7\", \"Topic7\", \"Topic7\", \"Topic7\", \"Topic7\", \"Topic7\", \"Topic7\", \"Topic7\", \"Topic7\", \"Topic7\", \"Topic7\", \"Topic7\", \"Topic7\", \"Topic7\", \"Topic7\", \"Topic7\", \"Topic7\", \"Topic7\", \"Topic7\", \"Topic7\", \"Topic7\", \"Topic7\", \"Topic7\", \"Topic7\", \"Topic7\", \"Topic7\", \"Topic7\", \"Topic7\", \"Topic7\", \"Topic7\", \"Topic7\", \"Topic7\", \"Topic7\", \"Topic7\", \"Topic7\", \"Topic7\", \"Topic7\", \"Topic7\", \"Topic8\", \"Topic8\", \"Topic8\", \"Topic8\", \"Topic8\", \"Topic8\", \"Topic8\", \"Topic8\", \"Topic8\", \"Topic8\", \"Topic8\", \"Topic8\", \"Topic8\", \"Topic8\", \"Topic8\", \"Topic8\", \"Topic8\", \"Topic8\", \"Topic8\", \"Topic8\", \"Topic8\", \"Topic8\", \"Topic8\", \"Topic8\", \"Topic8\", \"Topic8\", \"Topic8\", \"Topic8\", \"Topic8\", \"Topic8\", \"Topic8\", \"Topic8\", \"Topic8\", \"Topic8\", \"Topic8\", \"Topic8\", \"Topic8\", \"Topic8\", \"Topic9\", \"Topic9\", \"Topic9\", \"Topic9\", \"Topic9\", \"Topic9\", \"Topic9\", \"Topic9\", \"Topic9\", \"Topic9\", \"Topic9\", \"Topic9\", \"Topic9\", \"Topic9\", \"Topic9\", \"Topic9\", \"Topic9\", \"Topic9\", \"Topic9\", \"Topic9\", \"Topic9\", \"Topic9\", \"Topic9\", \"Topic9\", \"Topic9\", \"Topic9\", \"Topic9\", \"Topic9\", \"Topic9\", \"Topic9\", \"Topic9\", \"Topic9\", \"Topic9\", \"Topic9\", \"Topic9\", \"Topic9\", \"Topic9\", \"Topic9\", \"Topic9\", \"Topic10\", \"Topic10\", \"Topic10\", \"Topic10\", \"Topic10\", \"Topic10\", \"Topic10\", \"Topic10\", \"Topic10\", \"Topic10\", \"Topic10\", \"Topic10\", \"Topic10\", \"Topic10\", \"Topic10\", \"Topic10\", \"Topic10\", \"Topic10\", \"Topic10\", \"Topic10\", \"Topic10\", \"Topic10\", \"Topic10\", \"Topic10\", \"Topic10\", \"Topic10\", \"Topic10\", \"Topic10\", \"Topic10\", \"Topic10\", \"Topic10\", \"Topic10\", \"Topic10\", \"Topic10\"], \"logprob\": [30.0, 29.0, 28.0, 27.0, 26.0, 25.0, 24.0, 23.0, 22.0, 21.0, 20.0, 19.0, 18.0, 17.0, 16.0, 15.0, 14.0, 13.0, 12.0, 11.0, 10.0, 9.0, 8.0, 7.0, 6.0, 5.0, 4.0, 3.0, 2.0, 1.0, -3.8139, -2.7484, -3.7849, -4.0129, -4.1087, -5.018, -3.3876, -5.1337, -5.244, -5.2454, -5.2645, -3.6097, -5.2732, -5.4726, -5.2899, -5.4438, -2.3525, -5.5938, -5.6086, -5.7733, -5.5657, -4.9806, -4.1064, -5.7391, -5.8427, -5.8524, -5.9007, -5.8247, -4.8811, -5.9333, -4.4655, -4.5069, -5.0631, -4.5106, -3.5194, -3.9737, -3.7575, -4.0025, -4.0544, -4.1354, -4.4474, -4.5718, -4.3554, -5.0323, -4.7332, -4.9496, -4.1928, -3.3141, -4.3315, -4.2987, -4.4905, -4.6252, -4.9152, -3.6168, -4.089, -4.8335, -3.7997, -5.157, -5.034, -5.3933, -5.2405, -5.5341, -5.5804, -5.6795, -5.163, -5.8353, -4.9278, -5.6692, -5.8798, -5.9558, -5.1065, -5.9597, -5.7226, -6.1403, -5.7151, -5.515, -4.3714, -4.9738, -3.4042, -3.5954, -5.5514, -3.9023, -3.8295, -3.996, -3.8564, -3.7757, -4.6775, -4.2655, -4.1166, -4.866, -4.6398, -4.5406, -4.614, -4.5717, -4.245, -3.519, -4.1067, -4.2298, -4.9186, -5.022, -5.0213, -4.6976, -5.0826, -3.9658, -4.7569, -5.2317, -4.6242, -5.3857, -5.4265, -5.3793, -5.5456, -5.2294, -3.5023, -5.2119, -5.0192, -4.7237, -5.5998, -4.877, -5.3988, -5.4008, -4.7548, -5.137, -5.5487, -5.5412, -5.11, -4.3791, -4.339, -4.5647, -3.6482, -4.6875, -3.6429, -3.4155, -4.6899, -5.0814, -4.9368, -4.8692, -4.6819, -4.7012, -5.0112, -4.9863, -4.3634, -3.5443, -4.8725, -4.9587, -4.0523, -4.2132, -5.1334, -4.3644, -4.7376, -5.3531, -4.5651, -4.7121, -5.4616, -4.6835, -5.541, -4.0833, -5.6455, -4.3614, -2.9983, -5.7114, -5.6569, -4.9, -5.4768, -4.8167, -4.4185, -4.8669, -4.285, -5.414, -4.7436, -5.0827, -3.9567, -4.2482, -5.1582, -4.7925, -5.0446, -4.6953, -4.6513, -4.5541, -3.9265, -4.9744, -4.8267, -4.5641, -4.4993, -4.942, -4.2631, -4.4041, -4.0721, -4.6123, -4.8647, -4.6729, -4.6759, -4.5354, -5.3449, -3.279, -5.34, -5.0601, -4.6041, -4.4676, -4.4693, -5.3796, -4.9126, -4.0599, -4.8294, -5.2728, -5.5382, -5.3803, -5.1704, -5.3278, -4.804, -5.3461, -5.3546, -4.5795, -5.6229, -3.9048, -4.3271, -4.6838, -3.7991, -4.4699, -4.4138, -3.4707, -4.8833, -4.908, -3.9562, -4.7955, -4.8376, -4.6933, -4.4054, -3.0725, -4.1066, -4.1839, -4.3052, -4.3835, -4.7798, -4.5199, -4.985, -3.9177, -4.0221, -5.1625, -5.1832, -3.9901, -5.0656, -4.7823, -4.7747, -5.094, -4.8752, -4.5219, -4.9896, -4.7225, -4.9667, -5.3384, -4.7498, -5.2571, -4.5041, -5.3419, -4.4833, -4.9807, -4.7967, -3.626, -4.286, -4.5231, -4.4357, -4.6871, -4.8876, -4.1743, -4.3229, -4.8338, -4.8109, -4.6886, -4.7955, -4.7924, -4.0388, -4.0647, -3.2616, -4.9193, -4.7635, -5.0925, -4.8929, -4.8652, -4.2462, -4.4328, -4.8559, -4.4103, -3.475, -4.1199, -5.1527, -5.3274, -5.262, -4.8668, -4.1359, -4.7738, -5.4261, -5.1828, -5.1247, -5.1226, -5.3719, -5.0592, -4.953, -5.2898, -5.375, -4.8022, -4.9596, -3.1971, -4.5283, -3.2857, -4.9804, -3.9189, -4.7444, -3.967, -5.0219, -4.6965, -4.7124, -4.9658, -3.3007, -3.3548, -3.3571, -3.1297, -4.2266, -4.7382, -4.748, -4.5651, -4.3463, -4.8493, -4.6132, -4.9416, -4.1192, -3.9243, -4.0474, -4.8347, -5.0853, -5.1841, -5.1459, -5.3074, -5.343, -4.9022, -4.7193, -3.7629, -5.3062, -5.4092, -5.4724, -5.0383, -5.5183, -4.4809, -4.6423, -4.2268, -4.8413, -4.2046, -4.6186, -4.9237, -4.7927, -5.0098, -3.3527, -3.5419, -3.3262, -4.6234, -4.077, -4.5816, -4.6401, -4.2082, -3.6631, -4.066, -4.4953, -5.0374, -4.9765, -4.3995, -5.0625, -4.1518, -3.649, -4.7952, -4.9674, -5.1164, -5.1706, -4.806, -5.1722, -4.7178, -5.5259, -4.2983, -5.585, -5.4014, -5.4951, -5.2313, -4.3238, -5.1213, -4.7938, -4.875, -4.7411, -4.8067, -4.6732, -4.9001, -5.1132, -3.2595, -3.6781, -3.2913, -3.4437, -3.3393, -3.9366, -3.2723, -4.2175, -4.4128, -4.4054, -4.3361, -4.4381, -4.5658, -4.9956, -4.4803, -5.2688, -5.3672, -5.321, -5.3803, -5.3469, -5.3338, -5.5664, -5.3176, -5.5258, -5.3996, -5.6143, -5.8396, -5.3207, -5.3308, -5.1416, -4.6286, -4.4867, -5.3258, -5.236], \"loglift\": [30.0, 29.0, 28.0, 27.0, 26.0, 25.0, 24.0, 23.0, 22.0, 21.0, 20.0, 19.0, 18.0, 17.0, 16.0, 15.0, 14.0, 13.0, 12.0, 11.0, 10.0, 9.0, 8.0, 7.0, 6.0, 5.0, 4.0, 3.0, 2.0, 1.0, 1.1936, 1.191, 1.1873, 1.179, 1.1661, 1.1467, 1.1382, 1.1364, 1.1287, 1.1252, 1.1233, 1.1162, 1.1035, 1.102, 1.0972, 1.0965, 1.0867, 1.0843, 1.0744, 1.0699, 1.0666, 1.0649, 1.0627, 1.0587, 1.0489, 1.0449, 1.0417, 1.0383, 1.0303, 1.0287, 1.0224, 1.0222, 1.0198, 0.9652, 0.8722, 0.865, 0.7165, 0.7278, 0.727, 0.6122, 0.5819, 0.5927, 0.1265, 0.8106, 0.0169, -0.1093, 1.5312, 1.5307, 1.5218, 1.5166, 1.506, 1.4925, 1.48, 1.474, 1.4677, 1.4576, 1.4525, 1.4293, 1.4163, 1.4162, 1.3957, 1.389, 1.3763, 1.371, 1.3584, 1.351, 1.3494, 1.3331, 1.3222, 1.2956, 1.2929, 1.2896, 1.2654, 1.2652, 1.2589, 1.2358, 1.1836, 1.1668, 0.9375, 0.8865, 1.2311, 0.8478, 0.7489, 0.7516, 0.6176, 0.2896, 0.7836, 0.5159, 0.275, 0.8077, 0.5247, 0.298, 0.4153, 0.2686, -0.8058, 2.2052, 2.1371, 2.1254, 2.0716, 2.0685, 2.0589, 2.0522, 2.0456, 2.0284, 2.018, 2.0088, 2.0025, 1.9757, 1.962, 1.9591, 1.9383, 1.9186, 1.9171, 1.9139, 1.9047, 1.9028, 1.8966, 1.8867, 1.8481, 1.8263, 1.8139, 1.8064, 1.8013, 1.7871, 1.784, 1.7681, 1.7569, 1.692, 1.4782, 1.5927, 1.1975, 0.6497, 1.4566, 1.582, 1.2371, 1.074, 0.1882, -0.1228, 0.7835, -0.6446, 2.1341, 2.0798, 2.0786, 2.062, 2.0318, 2.018, 2.0, 1.986, 1.9828, 1.9807, 1.9614, 1.953, 1.9434, 1.9299, 1.9269, 1.925, 1.9016, 1.8744, 1.8718, 1.8658, 1.8542, 1.8378, 1.8229, 1.8063, 1.7977, 1.7563, 1.7403, 1.7351, 1.7324, 1.6997, 1.5044, 1.3327, 1.6037, 1.4122, 1.5426, 1.2636, 1.2143, 1.1068, 0.1388, 1.428, 1.1436, 0.1861, -0.1576, 0.458, 2.3537, 2.3321, 2.3265, 2.2584, 2.2513, 2.2263, 2.1973, 2.191, 2.1548, 2.121, 2.1025, 2.0965, 2.0922, 2.0905, 2.0865, 2.0158, 2.0157, 2.0051, 1.9983, 1.9688, 1.9489, 1.947, 1.9427, 1.9272, 1.8902, 1.8839, 1.8749, 1.8402, 1.8335, 1.8064, 1.6514, 1.6459, 1.3273, 1.5373, 1.4753, 0.5946, 1.5601, 1.5769, 0.3855, 1.3275, 1.231, 0.8876, 0.0765, 2.6693, 2.6071, 2.5937, 2.5857, 2.4985, 2.4933, 2.4909, 2.4498, 2.4439, 2.4357, 2.4045, 2.4021, 2.4021, 2.3557, 2.3529, 2.3426, 2.2888, 2.2742, 2.2467, 2.2403, 2.2398, 2.2276, 2.2001, 2.1886, 2.1728, 2.1626, 2.1622, 2.1317, 2.1301, 2.0836, 2.0349, 1.939, 1.959, 1.6232, 1.776, 1.9618, 0.4042, -0.2576, 1.5489, 1.3343, 0.0417, 0.8782, -0.2665, 2.5673, 2.548, 2.533, 2.5208, 2.4637, 2.3775, 2.3642, 2.3619, 2.3595, 2.3147, 2.2781, 2.2593, 2.2363, 2.2306, 2.1889, 2.1268, 2.1267, 2.1204, 2.1157, 2.0894, 2.0646, 1.9998, 1.9838, 1.9783, 1.939, 1.9388, 1.9296, 1.911, 1.9082, 1.887, 1.8386, 1.3813, 1.5636, 0.7796, 1.7424, 0.4228, 1.1988, -0.5278, 1.5451, -0.2146, -0.773, -0.0957, 3.1229, 3.1203, 3.1151, 3.1065, 2.9707, 2.7773, 2.7747, 2.7132, 2.6845, 2.6526, 2.5985, 2.586, 2.5739, 2.5705, 2.4033, 2.3983, 2.3777, 2.3088, 2.2916, 2.2446, 2.2191, 2.1938, 2.1275, 2.1134, 2.0764, 2.0714, 1.9922, 1.9854, 1.9707, 1.9457, 1.9356, 1.8321, 1.6165, 0.3738, 0.6335, 1.2343, -0.4509, 0.6579, 3.1411, 3.1139, 3.078, 2.9079, 2.9063, 2.875, 2.8553, 2.7655, 2.6765, 2.6677, 2.5967, 2.4671, 2.4661, 2.4344, 2.3837, 2.32, 2.3098, 2.254, 2.2528, 2.2347, 2.2131, 2.1779, 2.105, 2.0324, 1.9932, 1.9382, 1.8983, 1.8818, 1.8776, 1.8581, 1.3875, 1.6139, 1.2902, 1.2555, 0.9197, 0.7872, 0.197, -0.1698, 1.0443, 3.5409, 3.4641, 3.4601, 3.3768, 3.3173, 3.2153, 3.207, 2.9185, 2.719, 2.6987, 2.6436, 2.6012, 2.4117, 2.4068, 2.3021, 2.2437, 2.1742, 2.1604, 2.1321, 2.1272, 2.0106, 2.0025, 1.9394, 1.8311, 1.6963, 1.6128, 1.5586, 1.492, 1.4652, 1.3091, 1.2143, 0.6824, 1.1869, -0.4858]}, \"token.table\": {\"Topic\": [2, 4, 5, 4, 1, 2, 3, 4, 5, 6, 9, 2, 4, 5, 10, 1, 2, 3, 4, 9, 1, 2, 3, 7, 9, 1, 2, 5, 7, 9, 1, 2, 4, 7, 1, 2, 3, 4, 1, 2, 3, 4, 6, 8, 10, 1, 1, 2, 3, 1, 2, 3, 5, 6, 7, 8, 1, 2, 5, 7, 9, 1, 2, 3, 4, 5, 6, 7, 9, 1, 2, 3, 4, 5, 9, 10, 2, 2, 3, 4, 7, 9, 2, 1, 2, 3, 4, 5, 1, 2, 5, 7, 10, 1, 2, 3, 5, 6, 9, 1, 2, 3, 1, 3, 4, 8, 5, 6, 6, 2, 3, 4, 5, 6, 3, 4, 10, 2, 2, 2, 4, 5, 6, 1, 2, 3, 7, 2, 6, 7, 8, 2, 5, 6, 5, 6, 7, 2, 5, 3, 5, 6, 8, 1, 7, 9, 3, 4, 6, 9, 4, 5, 6, 1, 6, 7, 9, 9, 1, 2, 3, 5, 2, 3, 4, 5, 6, 5, 9, 2, 8, 10, 3, 7, 3, 1, 3, 4, 5, 1, 2, 3, 4, 5, 7, 5, 2, 5, 6, 4, 5, 6, 2, 3, 5, 3, 5, 1, 2, 3, 7, 1, 7, 3, 4, 6, 10, 3, 4, 2, 6, 4, 5, 7, 6, 8, 3, 4, 5, 4, 9, 2, 5, 6, 3, 4, 5, 6, 9, 3, 7, 9, 1, 2, 3, 4, 5, 6, 7, 8, 2, 7, 1, 2, 10, 1, 1, 5, 8, 2, 3, 5, 6, 7, 8, 9, 2, 3, 4, 5, 9, 1, 2, 4, 5, 7, 9, 4, 7, 1, 2, 3, 4, 5, 9, 4, 1, 2, 3, 1, 2, 4, 7, 8, 2, 7, 2, 4, 5, 8, 9, 7, 9, 2, 6, 5, 10, 3, 4, 5, 6, 7, 8, 2, 3, 4, 6, 2, 4, 6, 10, 2, 3, 7, 10, 3, 4, 8, 1, 2, 3, 6, 2, 4, 6, 8, 2, 4, 6, 8, 1, 6, 10, 6, 3, 2, 3, 9, 5, 9, 5, 2, 3, 5, 9, 1, 2, 4, 5, 6, 6, 9, 1, 2, 3, 4, 2, 4, 9, 8, 3, 6, 1, 5, 6, 4, 7, 10, 1, 7, 9, 1, 2, 3, 7, 1, 1, 7, 1, 3, 5, 2, 5, 2, 3, 5, 2, 3, 5, 6, 8, 10, 9, 3, 6, 7, 1, 2, 6, 7, 8, 3, 4, 4, 5, 6, 7, 10, 1, 2, 3, 5, 7, 9, 10, 1, 3, 4, 6, 9, 1, 2, 3, 4, 6, 7, 8, 9, 2, 4, 6, 1, 2, 3, 4, 5, 6, 7, 8, 2, 5, 4, 8, 1, 7, 3, 4, 6, 7, 2, 3, 10, 1, 2, 8, 3, 5, 6, 1, 2, 3, 4, 5, 6, 7, 5, 6, 3, 5, 6, 2, 2, 3, 4, 5, 3, 8, 4, 7, 10, 6, 1, 6, 7, 8, 4, 9, 10, 4, 6, 7, 8, 4, 6, 8, 2, 3, 3, 5, 9, 6, 9, 1, 3, 4, 7, 8, 2, 3, 4, 6, 8, 1, 2, 6, 10, 5, 6, 10, 3, 7, 2, 3, 5, 7, 9, 4, 6, 4, 1, 2, 5, 2, 4, 5, 6, 8, 2, 5, 7, 2, 5, 8, 3, 6, 2, 5, 8, 9, 9, 2, 3, 6, 9, 2, 3, 4, 5, 6, 7, 9, 10, 3, 4, 7, 8, 1, 3, 4, 7, 8, 1, 2, 3, 3, 3, 5, 8, 1, 2, 1, 2, 2, 4, 7, 1, 2, 4, 7, 2, 2, 1, 7, 1, 1, 1, 7, 1, 1, 2, 4, 6, 6, 3, 4, 2, 3, 4, 7, 9, 3, 9, 4, 4, 1, 2, 1, 2, 2, 1, 5, 6, 9, 3, 4, 5, 10, 2, 4, 6, 3, 6, 7, 8, 9, 6, 8, 2, 3, 4, 5, 10, 2, 4, 7, 8, 9, 5, 6, 7, 10, 3, 2, 3, 4, 5, 4, 1, 4, 7, 3, 4, 9, 3, 4, 2, 4, 9, 1, 2, 5, 6, 7, 1, 1, 7, 1, 4, 6, 7, 8, 9, 5, 6, 1, 2, 4, 5, 6, 8, 2, 3, 4, 2, 5, 8, 2, 1, 4, 8, 1, 3, 4, 7, 1, 2, 4, 5, 6, 4, 1, 2, 4, 6, 7, 1, 3, 7, 8, 1, 2, 5, 1, 2, 1, 1, 2, 2, 3, 7, 3, 6, 6, 2, 4, 5, 7, 3, 4, 5, 4, 9, 10, 1, 3, 4, 10, 3, 6, 2, 5, 4, 5, 4, 5, 6, 4, 5, 9, 5, 9, 1, 1, 2, 2, 3, 4, 5, 8, 10, 2, 4, 5, 6, 7, 8, 8, 1, 3, 5, 8, 10, 4, 6, 7, 2, 4, 6, 1, 2, 7, 1, 2, 1, 3, 5, 10, 3, 5, 8, 5, 9, 4, 6, 8, 1, 2, 3, 8, 1, 2, 7, 1, 2, 1, 2, 3, 7, 4, 6, 2, 4, 8, 2, 4, 6, 9, 5, 2, 3, 7, 9, 2, 5, 6, 9, 2, 6, 9, 3, 4, 6, 1, 2, 3, 7, 8, 1, 2, 3, 4, 8, 1, 2, 7, 9, 3, 6, 1, 2, 4, 7, 10, 1, 7, 2, 3, 7, 9, 2, 4, 9, 2, 3, 4, 5, 6, 7, 8, 9, 2, 1, 6, 9, 1, 1, 9, 3, 2, 7, 3, 5, 1, 2, 3, 6, 8, 1, 2, 4, 6, 2, 5, 1, 2, 4, 5, 2, 3, 4, 6, 9, 1, 2, 3, 4, 5, 6, 3, 5, 3, 2, 4, 5, 4, 6, 7, 10, 6, 8, 3, 6, 7, 10, 2, 5, 2, 4, 5, 6, 8, 2, 3, 2, 3, 4, 8, 3, 7, 2, 4, 8, 3, 9, 9, 8, 8, 2, 3, 4, 5, 6, 9, 1, 2, 3, 5, 8, 10, 2, 4, 8, 2, 4, 5, 6, 8, 2, 5, 7, 2, 6, 10, 4, 3, 4, 9, 3, 4, 5, 6, 7, 8, 9, 1, 2, 3, 2, 2, 6, 4, 2, 5, 1, 2, 3, 4, 5, 7, 1, 2, 1, 1, 1, 1, 3, 10, 4, 5, 2, 3, 6, 2, 3, 4, 6, 7, 8, 7, 8, 8, 2, 7, 8, 2, 4, 7, 8, 3, 6, 3, 7, 8, 6, 3, 4, 6, 2, 5, 7, 8, 2, 3, 10, 1, 2, 3, 4, 5, 7, 8, 9, 3, 4, 5], \"Freq\": [0.4425602253187824, 0.4658528687566131, 0.04658528687566131, 0.7577465879388626, 0.3990151492185619, 0.13300504973952063, 0.1064040397916165, 0.18620706963532888, 0.026601009947904125, 0.026601009947904125, 0.07980302984371238, 0.1063452704205169, 0.2126905408410338, 0.31903581126155073, 0.2126905408410338, 0.3490639954395752, 0.06981279908791505, 0.1396255981758301, 0.3490639954395752, 0.03490639954395752, 0.35408202365180963, 0.0505831462359728, 0.2023325849438912, 0.0505831462359728, 0.252915731179864, 0.21885699270781286, 0.306399789790938, 0.1313141956246877, 0.2626283912493754, 0.043771398541562576, 0.08431723408273513, 0.16863446816547026, 0.08431723408273513, 0.5059034044964108, 0.14699327266378664, 0.24498878777297772, 0.09799551510919109, 0.4409798179913599, 0.12532222150400976, 0.06266111075200488, 0.18798333225601463, 0.06266111075200488, 0.06266111075200488, 0.4386277752640341, 0.06266111075200488, 0.8265804289193781, 0.840403905736291, 0.0730786004988079, 0.03653930024940395, 0.34366881305732244, 0.3723078808120993, 0.05727813550955374, 0.05727813550955374, 0.02863906775477687, 0.05727813550955374, 0.08591720326433061, 0.5293652204534559, 0.31761913227207356, 0.09074832350630672, 0.03024944116876891, 0.015124720584384455, 0.6056685804487542, 0.14580910270062603, 0.011216084823125078, 0.07851259376187554, 0.033648254469375236, 0.06729650893875047, 0.011216084823125078, 0.033648254469375236, 0.2974724580764897, 0.4805324322774064, 0.04576499355022918, 0.12585373226313024, 0.011441248387557295, 0.011441248387557295, 0.011441248387557295, 0.8314249780945021, 0.9007791741184964, 0.0321706847899463, 0.0321706847899463, 0.01608534239497315, 0.01608534239497315, 0.7990717321773472, 0.18225418608290023, 0.12150279072193347, 0.060751395360966735, 0.060751395360966735, 0.5467625582487007, 0.31834749675868623, 0.1061158322528954, 0.1061158322528954, 0.2122316645057908, 0.2122316645057908, 0.19199441516981863, 0.12799627677987907, 0.12799627677987907, 0.06399813838993954, 0.06399813838993954, 0.38398883033963727, 0.10255232804759042, 0.10255232804759042, 0.6153139682855425, 0.3454519152258373, 0.17272595761291865, 0.17272595761291865, 0.3454519152258373, 0.6447209785514431, 0.16118024463786076, 0.7794826003532502, 0.15852198708414444, 0.5284066236138147, 0.05284066236138148, 0.05284066236138148, 0.15852198708414444, 0.2309623264627469, 0.15397488430849793, 0.5389120950797428, 0.6963390993891668, 0.6978232730964367, 0.17561981973231233, 0.35123963946462466, 0.05853993991077078, 0.2926996995538539, 0.17729700002973525, 0.17729700002973525, 0.17729700002973525, 0.3545940000594705, 0.12601994921717924, 0.6300997460858961, 0.12601994921717924, 0.12601994921717924, 0.24250770131709254, 0.12125385065854627, 0.4850154026341851, 0.13027783398528833, 0.26055566797057667, 0.39083350195586497, 0.698584017930322, 0.1746460044825805, 0.3197577490844636, 0.5595760608978112, 0.37698269987271854, 0.37698269987271854, 0.17597743519165798, 0.35195487038331597, 0.17597743519165798, 0.1928189837919946, 0.5784569513759839, 0.12854598919466306, 0.06427299459733153, 0.0801041291006717, 0.6408330328053736, 0.1602082582013434, 0.11899666029097232, 0.11899666029097232, 0.11899666029097232, 0.4759866411638893, 0.738506349346201, 0.051613550562881194, 0.25806775281440597, 0.5677490561916931, 0.051613550562881194, 0.085520898047407, 0.12828134707111052, 0.25656269414222105, 0.2993231431659245, 0.21380224511851753, 0.7429976331372216, 0.1651105851416048, 0.2539358582505702, 0.08464528608352341, 0.5925170025846639, 0.7605831515712311, 0.08450923906347012, 0.8231725259780536, 0.04622508700879529, 0.4622508700879529, 0.23112543504397645, 0.2773505220527717, 0.10503048103523538, 0.10503048103523538, 0.13128810129404422, 0.39386430388213267, 0.21006096207047076, 0.05251524051761769, 0.7155977165269332, 0.1400536324602717, 0.5602145298410868, 0.1400536324602717, 0.6988478389163383, 0.07764975987959315, 0.07764975987959315, 0.05695392354292904, 0.8543088531439356, 0.6757774243479466, 0.20206835736241813, 0.6062050720872544, 0.3519425390102467, 0.14077701560409867, 0.211165523406148, 0.28155403120819733, 0.3629456460856127, 0.3629456460856127, 0.18116595988588677, 0.36233191977177354, 0.18116595988588677, 0.18116595988588677, 0.6028381701039875, 0.1507095425259969, 0.17196046841201856, 0.6878418736480743, 0.13620674308410957, 0.13620674308410957, 0.5448269723364383, 0.6941828679060924, 0.1893226003380252, 0.1505510277626957, 0.1505510277626957, 0.6022041110507828, 0.17975148764549764, 0.5392544629364929, 0.13660659428136018, 0.5464263771254407, 0.13660659428136018, 0.13527210041674598, 0.13527210041674598, 0.13527210041674598, 0.13527210041674598, 0.405816301250238, 0.22760424194324883, 0.6828127258297465, 0.032514891706178405, 0.08651941354829684, 0.27686212335454985, 0.19611067070947283, 0.11535921806439578, 0.1499669834837145, 0.04614368722575831, 0.11535921806439578, 0.005767960903219789, 0.14736528070286928, 0.6631437631629117, 0.8523595439560304, 0.08697546366898269, 0.03479018546759308, 0.8652457383628215, 0.8196563216404951, 0.5299430165989885, 0.17664767219966282, 0.7402472679588994, 0.10574960970841421, 0.10574960970841421, 0.14406273236639605, 0.2881254647327921, 0.14406273236639605, 0.2881254647327921, 0.25015322863974815, 0.14294470207985607, 0.14294470207985607, 0.3573617551996402, 0.07147235103992804, 0.08974184853065707, 0.1196557980408761, 0.17948369706131415, 0.5085371416737234, 0.029913949510219025, 0.029913949510219025, 0.24819416035678032, 0.49638832071356065, 0.03831819964306006, 0.03831819964306006, 0.07663639928612012, 0.34486379678754053, 0.07663639928612012, 0.3831819964306006, 0.7237575277890065, 0.8134994170696365, 0.1435587206593476, 0.0239264534432246, 0.8227832970333468, 0.14959696309697215, 0.14639666110976096, 0.7319833055488048, 0.07319833055488048, 0.1685421485898366, 0.6741685943593464, 0.07985252520462374, 0.07985252520462374, 0.23955757561387123, 0.47911515122774245, 0.07985252520462374, 0.106737298946855, 0.747161092627985, 0.1242551089832135, 0.6212755449160675, 0.3790149313558843, 0.5053532418078458, 0.11114300399177923, 0.11114300399177923, 0.11114300399177923, 0.11114300399177923, 0.11114300399177923, 0.3334290119753377, 0.14771005175691265, 0.221565077635369, 0.07385502587845633, 0.5169851811491943, 0.12043971033943686, 0.36131913101831054, 0.12043971033943686, 0.24087942067887372, 0.348724848662059, 0.1743624243310295, 0.1743624243310295, 0.1743624243310295, 0.3539758006152013, 0.17698790030760064, 0.3539758006152013, 0.7800410859929182, 0.14182565199871242, 0.023637608666452068, 0.023637608666452068, 0.13097231923956262, 0.26194463847912525, 0.06548615961978131, 0.5238892769582505, 0.06466143739262352, 0.3879686243557411, 0.4526300617483646, 0.06466143739262352, 0.18650956331931792, 0.37301912663863585, 0.18650956331931792, 0.6706120612151855, 0.8317120061325857, 0.0747271756502991, 0.747271756502991, 0.0747271756502991, 0.8327284420221643, 0.05948060300158317, 0.8878302072703376, 0.35602286010932144, 0.11867428670310715, 0.11867428670310715, 0.2373485734062143, 0.07183048941493293, 0.14366097882986587, 0.5028134259045305, 0.14366097882986587, 0.07183048941493293, 0.6616242630363574, 0.16540606575908934, 0.09502568422612674, 0.38010273690450697, 0.3325898947914436, 0.04751284211306337, 0.16700483446443284, 0.6680193378577314, 0.08350241723221642, 0.8963439374388706, 0.7799396863586675, 0.08665996515096305, 0.29827392216610704, 0.5965478443322141, 0.7654168892906696, 0.5751132717043539, 0.1917044239014513, 0.1917044239014513, 0.2962167151475733, 0.44432507272135996, 0.14810835757378665, 0.8697221610487661, 0.09252363415412405, 0.0030841211384708017, 0.030841211384708016, 0.8517495688839486, 0.9571958440704051, 0.014286505135379182, 0.4689367631943053, 0.03907806359952544, 0.42985869959477985, 0.12693286931734168, 0.6346643465867083, 0.8969790903220701, 0.025627974009202, 0.051255948018404, 0.8891644615907072, 0.11946405915123412, 0.23892811830246824, 0.11946405915123412, 0.35839217745370233, 0.11946405915123412, 0.915891406070581, 0.15272001209233796, 0.15272001209233796, 0.45816003627701385, 0.184670376957333, 0.41550834815399923, 0.23083797119666621, 0.04616759423933325, 0.04616759423933325, 0.14646845566941988, 0.5858738226776795, 0.17565670549106385, 0.17565670549106385, 0.17565670549106385, 0.17565670549106385, 0.17565670549106385, 0.5004238854703272, 0.045493080497302475, 0.13647924149190743, 0.045493080497302475, 0.09098616099460495, 0.13647924149190743, 0.045493080497302475, 0.1850379453884962, 0.6013733225126127, 0.04625948634712405, 0.04625948634712405, 0.04625948634712405, 0.01289956603082319, 0.06449783015411595, 0.1289956603082319, 0.670777433602806, 0.01289956603082319, 0.05159826412329276, 0.02579913206164638, 0.05159826412329276, 0.1351863843153985, 0.7435251137346918, 0.06759319215769925, 0.0912587556758476, 0.5247378451361238, 0.053234274144244434, 0.0912587556758476, 0.12167834090113014, 0.007604896306320634, 0.08365385936952698, 0.0228146889189619, 0.27407666778746415, 0.6395122248374163, 0.18395573110425745, 0.5518671933127723, 0.4802328227915484, 0.3601746170936613, 0.09465317045461384, 0.18930634090922768, 0.18930634090922768, 0.47326585227306917, 0.13620122889450523, 0.681006144472526, 0.13620122889450523, 0.16809791088623055, 0.3361958217724611, 0.3361958217724611, 0.7040487253328062, 0.10057838933325802, 0.10057838933325802, 0.2629385536575053, 0.2754594371650056, 0.3380638547025068, 0.06260441753750126, 0.012520883507500254, 0.012520883507500254, 0.025041767015000507, 0.7648468710009145, 0.09560585887511432, 0.6723270677300502, 0.14940601505112228, 0.07470300752556114, 0.9294382117412082, 0.02741739568304693, 0.05483479136609386, 0.8225218704914079, 0.08225218704914078, 0.22384680747623406, 0.5596170186905851, 0.14034456892206978, 0.5613782756882791, 0.14034456892206978, 0.7679915368660938, 0.7014596490632193, 0.04676397660421462, 0.04676397660421462, 0.14029192981264385, 0.3714904967885435, 0.24766033119236236, 0.24766033119236236, 0.4179830139163918, 0.29855929565456557, 0.11942371826182623, 0.11942371826182623, 0.2888847166636872, 0.481474527772812, 0.09629490555456241, 0.17138985189453174, 0.685559407578127, 0.16896642663845807, 0.16896642663845807, 0.5068992799153742, 0.7716006649053143, 0.09645008311316429, 0.050952509221018814, 0.8661926567573198, 0.13622119416543815, 0.6811059708271907, 0.5451748558018402, 0.12704445219377133, 0.12704445219377133, 0.12704445219377133, 0.29643705511879975, 0.25408890438754267, 0.15315141183436212, 0.45945423550308634, 0.15315141183436212, 0.15315141183436212, 0.12511419477944388, 0.12511419477944388, 0.6255709738972194, 0.1736507198487102, 0.5209521595461306, 0.16909505785606602, 0.08454752892803301, 0.08454752892803301, 0.253642586784099, 0.253642586784099, 0.7373556781778183, 0.14747113563556366, 0.7756512928598152, 0.5367640402998334, 0.3462993808386022, 0.10388981425158064, 0.12968753117275536, 0.19453129675913305, 0.3890625935182661, 0.06484376558637768, 0.06484376558637768, 0.21949995662222893, 0.1463333044148193, 0.5853332176592771, 0.7902273525957331, 0.0526818235063822, 0.0526818235063822, 0.26362183016864693, 0.5272436603372939, 0.08316349114667006, 0.16632698229334011, 0.16632698229334011, 0.5821444380266905, 0.7124536526740307, 0.5609062066850277, 0.046742183890418974, 0.23371091945209488, 0.09348436778083795, 0.04468334435418159, 0.6925918374898146, 0.06702501653127238, 0.04468334435418159, 0.022341672177090793, 0.06702501653127238, 0.022341672177090793, 0.022341672177090793, 0.8597567951399069, 0.19040429292876884, 0.19040429292876884, 0.3808085858575377, 0.0711602628076479, 0.1423205256152958, 0.35580131403823945, 0.1423205256152958, 0.2846410512305916, 0.07751499298362192, 0.3100599719344877, 0.4650899579017315, 0.7788939069777904, 0.5857082640789386, 0.09761804401315645, 0.1952360880263129, 0.5363828315222617, 0.43367122548608394, 0.8350582946230731, 0.8610886015215976, 0.9559056345878405, 0.01257770571826106, 0.02515541143652212, 0.19301763220066523, 0.19301763220066523, 0.19301763220066523, 0.38603526440133046, 0.9391427330167117, 0.7845505376245276, 0.9663248765507374, 0.02542960201449309, 0.9415103687079788, 0.8892119197573366, 0.9473875341285404, 0.01933443947201103, 0.8511787549068084, 0.8694910957969118, 0.030842650399699318, 0.030842650399699318, 0.8944368615912802, 0.86885642112901, 0.7384916661363289, 0.12308194435605481, 0.8074213278917323, 0.286400985490793, 0.1432004927453965, 0.1432004927453965, 0.286400985490793, 0.3185857034188986, 0.3185857034188986, 0.6931329111868253, 0.5798917157473722, 0.5989361897969576, 0.38193032392849474, 0.06263738562500204, 0.8769233987500286, 0.9309350278718338, 0.9618541423666525, 0.20410125060965187, 0.5102531265241297, 0.10205062530482593, 0.08765376059822327, 0.15339408104689073, 0.7012300847857862, 0.02191344014955582, 0.7739173047127567, 0.1190642007250395, 0.05953210036251975, 0.23640125007591406, 0.7092037502277422, 0.10571712546451141, 0.10571712546451141, 0.6343027527870685, 0.5463562215086009, 0.27317811075430043, 0.06667171721405242, 0.3333585860702621, 0.3333585860702621, 0.13334343442810484, 0.06667171721405242, 0.3058379839088428, 0.061167596781768564, 0.12233519356353713, 0.24467038712707426, 0.12233519356353713, 0.3101738179024876, 0.1550869089512438, 0.3101738179024876, 0.1550869089512438, 0.8002987765161073, 0.1757919376471851, 0.6152717817651477, 0.04394798441179627, 0.1318439532353888, 0.6509074522534342, 0.08206472669011533, 0.738582540211038, 0.08206472669011533, 0.04343011921745697, 0.7817421459142255, 0.13029035765237093, 0.06566320546293707, 0.8536216710181819, 0.427199298299293, 0.10679982457482325, 0.32039947372446975, 0.8933308614484853, 0.011166635768106066, 0.022333271536212132, 0.011166635768106066, 0.0334999073043182, 0.8826873397539677, 0.9610558967465835, 0.01779733142123303, 0.20940679228233947, 0.05983051208066841, 0.029915256040334206, 0.5085593526856815, 0.029915256040334206, 0.14957628020167105, 0.2090301851569528, 0.6270905554708583, 0.2775891113836838, 0.05551782227673677, 0.05551782227673677, 0.44414257821389413, 0.05551782227673677, 0.11103564455347353, 0.16104216900143528, 0.04026054225035882, 0.6844292182561, 0.8883551857573653, 0.018901174165050324, 0.0756046966602013, 0.9151453245492259, 0.05056494183792909, 0.05056494183792909, 0.8596040112447946, 0.050315109414927374, 0.050315109414927374, 0.7547266412239106, 0.050315109414927374, 0.0819020875453839, 0.12285313131807586, 0.5733146128176874, 0.12285313131807586, 0.04095104377269195, 0.7502652788487484, 0.07799734032886958, 0.07799734032886958, 0.15599468065773917, 0.07799734032886958, 0.545981382302087, 0.03969333705741741, 0.7938667411483483, 0.03969333705741741, 0.07938667411483483, 0.13818433533909694, 0.13818433533909694, 0.5527373413563877, 0.6999720869541702, 0.27498903416056686, 0.8764169267421316, 0.10879004454475814, 0.761530311813307, 0.17739752474076445, 0.3547950494815289, 0.3547950494815289, 0.7611855200051594, 0.8151727005512418, 0.7785088013376528, 0.05135082022029805, 0.3081049213217883, 0.15405246066089415, 0.4621573819826824, 0.2233974881961084, 0.5957266351896224, 0.0744658293987028, 0.5238266053826963, 0.1746088684608988, 0.1746088684608988, 0.088896276619869, 0.088896276619869, 0.088896276619869, 0.622273936339083, 0.3734342865174727, 0.46679285814684085, 0.7507269884401632, 0.10724671263430902, 0.6299355614389378, 0.12598711228778756, 0.1722277683527809, 0.1722277683527809, 0.6027971892347331, 0.15418990952279804, 0.3083798190455961, 0.3083798190455961, 0.3391691091663947, 0.3391691091663947, 0.8359144832752532, 0.16918802361640412, 0.6767520944656165, 0.796912470564446, 0.12895570772573295, 0.06447785386286647, 0.12895570772573295, 0.12895570772573295, 0.4513449770400654, 0.09312197734231333, 0.09312197734231333, 0.27936593202693993, 0.09312197734231333, 0.09312197734231333, 0.3724879093692533, 0.7932828335440345, 0.12434004664950958, 0.24868009329901916, 0.12434004664950958, 0.12434004664950958, 0.37302013994852873, 0.6571061569389002, 0.20218650982735392, 0.05054662745683848, 0.1500037310115288, 0.3000074620230576, 0.45001119303458637, 0.7034270559857667, 0.27177863526722806, 0.01598697854513106, 0.8357404872061366, 0.08357404872061366, 0.1616168111063373, 0.1616168111063373, 0.3232336222126746, 0.1616168111063373, 0.1713186475225884, 0.5139559425677652, 0.1713186475225884, 0.5461047722433309, 0.27305238612166544, 0.27400263784740225, 0.13700131892370113, 0.4110039567711034, 0.0672514596595003, 0.8070175159140036, 0.3448760968685194, 0.3448760968685194, 0.6020451645195452, 0.34233940727581974, 0.02360961429488412, 0.8241458495822088, 0.13012829203929613, 0.07543312405744837, 0.8297643646319321, 0.3201858946256431, 0.4802788419384647, 0.15915472836155184, 0.6366189134462074, 0.17767349894393852, 0.17767349894393852, 0.35534699788787705, 0.27576941404066946, 0.09192313801355649, 0.09192313801355649, 0.45961569006778247, 0.7312435937208254, 0.2653377968630374, 0.1326688984315187, 0.39800669529455607, 0.1326688984315187, 0.05607315749765378, 0.11214631499530756, 0.2242926299906151, 0.5607315749765378, 0.315106314824569, 0.1575531574122845, 0.315106314824569, 0.12205208480618576, 0.12205208480618576, 0.6102604240309288, 0.2822470029324116, 0.2116852521993087, 0.03528087536655145, 0.10584262609965435, 0.31752787829896306, 0.08553576004463416, 0.17107152008926832, 0.08553576004463416, 0.5132145602678049, 0.08553576004463416, 0.1823965912398451, 0.1823965912398451, 0.1823965912398451, 0.3647931824796902, 0.7550536474362691, 0.12584227457271152, 0.6483379319180058, 0.1023691471449483, 0.1364921961932644, 0.0341230490483161, 0.0682460980966322, 0.8820484864070846, 0.05880323242713897, 0.05668958204985151, 0.28344791024925753, 0.5102062384486635, 0.11337916409970301, 0.3331432568168486, 0.3331432568168486, 0.1665716284084243, 0.43360594720884327, 0.08672118944176865, 0.028907063147256218, 0.057814126294512436, 0.09635687715752073, 0.2119851297465456, 0.057814126294512436, 0.019271375431504145, 0.8983160449407185, 0.9142661647310443, 0.04571330823655221, 0.018285323294620886, 0.8814775657805255, 0.8866219313755443, 0.6853662379355329, 0.8281872505179598, 0.4286102345506627, 0.4286102345506627, 0.6946906054411975, 0.13893812108823952, 0.28812323607106294, 0.4609971777137007, 0.057624647214212586, 0.14406161803553147, 0.028812323607106293, 0.27573786200798606, 0.6433883446853008, 0.1796798545895263, 0.5390395637685789, 0.09537285325220578, 0.7629828260176462, 0.38758830894033547, 0.19379415447016773, 0.3100706471522684, 0.0775176617880671, 0.028444080339145028, 0.056888160678290056, 0.3128848837305953, 0.4835493657654655, 0.08533224101743508, 0.01666753027084627, 0.11667271189592388, 0.4500233173128492, 0.08333765135423134, 0.3166830751460791, 0.01666753027084627, 0.7402402408665122, 0.8336322626203019, 0.9393552585755831, 0.06960442532742553, 0.13920885065485106, 0.6960442532742553, 0.5310750737358979, 0.08851251228931631, 0.17702502457863262, 0.08851251228931631, 0.2682697291861956, 0.5365394583723913, 0.16231805532790297, 0.16231805532790297, 0.16231805532790297, 0.16231805532790297, 0.09812800166324925, 0.785024013305994, 0.16086638499717515, 0.20108298124646892, 0.40216596249293785, 0.16086638499717515, 0.08043319249858757, 0.6512020845757217, 0.7132574514851273, 0.1410157674705835, 0.6345709536176257, 0.07050788373529175, 0.07050788373529175, 0.4332873928247258, 0.3249655446185443, 0.2233352784379719, 0.5955607425012585, 0.0744450928126573, 0.05982041599363234, 0.8374858239108527, 0.84618533084227, 0.9148538670706786, 0.8989939281428325, 0.24884980081196365, 0.06221245020299091, 0.06221245020299091, 0.3732747012179455, 0.06221245020299091, 0.12442490040598182, 0.09000318029318395, 0.09000318029318395, 0.09000318029318395, 0.3600127211727358, 0.1800063605863679, 0.09000318029318395, 0.17549124286653722, 0.35098248573307445, 0.35098248573307445, 0.13546323569743157, 0.316080883294007, 0.316080883294007, 0.13546323569743157, 0.04515441189914386, 0.17093210967972675, 0.17093210967972675, 0.5127963290391802, 0.18120545224729825, 0.3624109044945965, 0.18120545224729825, 0.8268062202492754, 0.34201037627517, 0.22800691751678, 0.34201037627517, 0.06344317900305142, 0.12688635800610285, 0.19032953700915428, 0.38065907401830856, 0.06344317900305142, 0.12688635800610285, 0.06344317900305142, 0.12794049112251712, 0.665290553837089, 0.15352858934702054, 0.804005628119359, 0.1668383023332482, 0.5005149069997445, 0.744117196417911, 0.24306529992205592, 0.6076632498051397, 0.07544473538160411, 0.11316710307240616, 0.30177894152641643, 0.2263342061448123, 0.11316710307240616, 0.18861183845401025, 0.8729211277989464, 0.05819474185326309, 0.8909918932624098, 0.9273270343533264, 0.9254373622579942, 0.11289081036909665, 0.4515632414763866, 0.2257816207381933, 0.7368871625565999, 0.17005088366690768, 0.07777162009748483, 0.3110864803899393, 0.5444013406823938, 0.0495685401538363, 0.0991370803076726, 0.5948224818460356, 0.0495685401538363, 0.0495685401538363, 0.0991370803076726, 0.14335893969415808, 0.5734357587766323, 0.5491665583822053, 0.9081274304059287, 0.31824049399560533, 0.31824049399560533, 0.23862500142142923, 0.15908333428095284, 0.3181666685619057, 0.15908333428095284, 0.6160795229876947, 0.1540198807469237, 0.7043574891884448, 0.17928063494081076, 0.5378419048224322, 0.7131074269922951, 0.18596270533534526, 0.18596270533534526, 0.5578881160060358, 0.49351543139804493, 0.08225257189967415, 0.3290102875986966, 0.08225257189967415, 0.272093685251394, 0.090697895083798, 0.544187370502788, 0.3324758347903435, 0.4987137521855152, 0.008749364073430091, 0.008749364073430091, 0.08749364073430092, 0.04374682036715046, 0.017498728146860182, 0.008749364073430091, 0.20929846581270523, 0.06976615527090174, 0.6976615527090174], \"Term\": [\"000\", \"000\", \"000\", \"000 tonnes\", \"10\", \"10\", \"10\", \"10\", \"10\", \"10\", \"10\", \"100\", \"100\", \"100\", \"100\", \"12\", \"12\", \"12\", \"12\", \"12\", \"14\", \"14\", \"14\", \"14\", \"14\", \"15\", \"15\", \"15\", \"15\", \"15\", \"16\", \"16\", \"16\", \"16\", \"18\", \"18\", \"18\", \"18\", \"20\", \"20\", \"20\", \"20\", \"20\", \"20\", \"20\", \"2004\", \"2005\", \"2005\", \"2005\", \"2006\", \"2006\", \"2006\", \"2006\", \"2006\", \"2006\", \"2006\", \"2007\", \"2007\", \"2007\", \"2007\", \"2007\", \"2008\", \"2008\", \"2008\", \"2008\", \"2008\", \"2008\", \"2008\", \"2008\", \"2009\", \"2009\", \"2009\", \"2009\", \"2009\", \"2009\", \"2009\", \"2009 finnish\", \"2010\", \"2010\", \"2010\", \"2010\", \"2010\", \"2010 finnish\", \"30\", \"30\", \"30\", \"30\", \"30\", \"35\", \"35\", \"35\", \"35\", \"35\", \"40\", \"40\", \"40\", \"40\", \"40\", \"40\", \"50\", \"50\", \"50\", \"55\", \"55\", \"55\", \"55\", \"ab\", \"ab\", \"access\", \"according\", \"according\", \"according\", \"according\", \"according\", \"acquisition\", \"acquisition\", \"acquisition\", \"adp\", \"adp news\", \"agreement\", \"agreement\", \"agreement\", \"agreement\", \"aim\", \"aim\", \"aim\", \"aim\", \"america\", \"america\", \"america\", \"america\", \"application\", \"application\", \"application\", \"approximately\", \"approximately\", \"approximately\", \"april\", \"april\", \"area\", \"area\", \"asia\", \"asia\", \"atria\", \"atria\", \"atria\", \"available\", \"available\", \"available\", \"available\", \"awarded\", \"awarded\", \"awarded\", \"baltic\", \"baltic\", \"baltic\", \"baltic\", \"baltic countries\", \"bank\", \"bank\", \"bank\", \"bank\", \"based\", \"based\", \"based\", \"based\", \"based\", \"basware\", \"basware\", \"billion\", \"billion\", \"billion\", \"board\", \"board\", \"board directors\", \"building\", \"building\", \"building\", \"building\", \"business\", \"business\", \"business\", \"business\", \"business\", \"business\", \"business area\", \"buy\", \"buy\", \"buy\", \"capacity\", \"capacity\", \"capacity\", \"capital\", \"capital\", \"cargo\", \"cargotec\", \"cargotec\", \"cash\", \"cash\", \"cash\", \"cash\", \"cash flow\", \"cash flow\", \"center\", \"center\", \"center\", \"center\", \"central\", \"central\", \"ceo\", \"ceo\", \"chief\", \"chief\", \"chief\", \"china\", \"china\", \"clients\", \"clients\", \"clients\", \"closed\", \"closed\", \"commercial\", \"commercial\", \"commercial\", \"communications\", \"communications\", \"communications\", \"communications\", \"communications\", \"companies\", \"companies\", \"companies\", \"company\", \"company\", \"company\", \"company\", \"company\", \"company\", \"company\", \"company\", \"company said\", \"company said\", \"compared\", \"compared\", \"compared\", \"compared eur\", \"compared profit\", \"complete\", \"complete\", \"completed\", \"completed\", \"completed\", \"concerning\", \"concerning\", \"concerning\", \"concerning\", \"construction\", \"construction\", \"construction\", \"construction\", \"construction\", \"contract\", \"contract\", \"contract\", \"contract\", \"contract\", \"contract\", \"contracts\", \"contracts\", \"corporation\", \"corporation\", \"corporation\", \"corporation\", \"corporation\", \"corporation\", \"corporation omx\", \"corresponding\", \"corresponding\", \"corresponding\", \"corresponding period\", \"corresponding period\", \"cost\", \"cost\", \"cost\", \"cost savings\", \"cost savings\", \"costs\", \"costs\", \"costs\", \"costs\", \"costs\", \"countries\", \"countries\", \"currently\", \"currently\", \"customer\", \"customer\", \"cut\", \"cut\", \"cut\", \"cut\", \"cut\", \"cut\", \"data\", \"data\", \"data\", \"data\", \"day\", \"day\", \"day\", \"day\", \"decided\", \"decided\", \"decided\", \"decided\", \"decision\", \"decision\", \"decision\", \"decreased\", \"decreased\", \"decreased\", \"decreased\", \"demand\", \"demand\", \"demand\", \"demand\", \"design\", \"design\", \"design\", \"design\", \"device\", \"device\", \"device\", \"devices\", \"directors\", \"dividend\", \"dividend\", \"dividend\", \"earnings\", \"earnings\", \"earnings share\", \"elcoteq\", \"elcoteq\", \"elcoteq\", \"elcoteq\", \"employees\", \"employees\", \"employees\", \"employees\", \"employees\", \"enable\", \"enable\", \"end\", \"end\", \"end\", \"end\", \"engineering\", \"engineering\", \"engineering\", \"enso\", \"entire\", \"entire\", \"eps\", \"eps\", \"especially\", \"established\", \"established\", \"established\", \"estimates\", \"estimates\", \"estimates\", \"eur\", \"eur\", \"eur\", \"eur\", \"eur 17\", \"eur mn\", \"eur mn\", \"eur0\", \"eur0\", \"eur0\", \"eur1\", \"eur1\", \"euro\", \"euro\", \"euro\", \"euro mln\", \"europe\", \"europe\", \"europe\", \"europe\", \"europe\", \"exchange\", \"executive\", \"executive\", \"executive\", \"expected\", \"expected\", \"expected\", \"expected\", \"expected\", \"experience\", \"experience\", \"fall\", \"fall\", \"fall\", \"fall\", \"fall\", \"fell\", \"fell\", \"fell\", \"fell\", \"fell\", \"fell\", \"fell\", \"financial\", \"financial\", \"financial\", \"financial\", \"financial\", \"finland\", \"finland\", \"finland\", \"finland\", \"finland\", \"finland\", \"finland\", \"finland\", \"finnair\", \"finnair\", \"finnair\", \"finnish\", \"finnish\", \"finnish\", \"finnish\", \"finnish\", \"finnish\", \"finnish\", \"finnish\", \"finnish construction\", \"finnish construction\", \"fixed\", \"fixed\", \"flow\", \"flow\", \"food\", \"food\", \"food\", \"food\", \"general\", \"general\", \"general\", \"glaston\", \"glaston\", \"glaston\", \"government\", \"government\", \"government\", \"group\", \"group\", \"group\", \"group\", \"group\", \"group\", \"group\", \"handling\", \"handling\", \"head\", \"head\", \"head\", \"hel\", \"helsinki\", \"helsinki\", \"helsinki\", \"helsinki\", \"high\", \"high\", \"improved\", \"improved\", \"improved\", \"includes\", \"increased\", \"increased\", \"increased\", \"increased\", \"index\", \"index\", \"index\", \"industry\", \"industry\", \"industry\", \"industry\", \"information\", \"information\", \"information\", \"insurance\", \"insurance\", \"international\", \"international\", \"international\", \"internet\", \"internet\", \"investment\", \"investment\", \"jobs\", \"jobs\", \"kymmene\", \"largest\", \"largest\", \"largest\", \"largest\", \"largest\", \"level\", \"level\", \"level\", \"level\", \"line\", \"line\", \"line\", \"listed\", \"listed\", \"local\", \"local\", \"local\", \"local\", \"local\", \"long\", \"long\", \"long term\", \"loss\", \"loss\", \"loss\", \"lower\", \"lower\", \"lower\", \"lower\", \"lower\", \"make\", \"make\", \"make\", \"maker\", \"maker\", \"maker\", \"managing\", \"managing\", \"manufacturing\", \"manufacturing\", \"manufacturing\", \"manufacturing\", \"manufacturing services\", \"march\", \"march\", \"march\", \"march\", \"market\", \"market\", \"market\", \"market\", \"market\", \"market\", \"market\", \"market\", \"market share\", \"materials\", \"materials\", \"materials\", \"measures\", \"measures\", \"measures\", \"measures\", \"measures\", \"media\", \"media\", \"media\", \"members\", \"metso\", \"metso\", \"metso\", \"million\", \"million\", \"million eur\", \"million usd\", \"mln\", \"mln\", \"mln\", \"mln eur\", \"mln eur\", \"mln eur\", \"mln eur\", \"mln euro\", \"mln period\", \"mn\", \"mn\", \"mn compared\", \"mn corresponding\", \"mn eur\", \"mn eur\", \"mn quarter\", \"mn year\", \"mobile\", \"mobile\", \"mobile\", \"mobile phone\", \"mr\", \"mr\", \"narrowed\", \"nasdaq\", \"nasdaq\", \"nasdaq\", \"nasdaq\", \"nasdaq omx\", \"nasdaq omx\", \"neste\", \"neste oil\", \"net\", \"net\", \"net loss\", \"net loss\", \"net profit\", \"net sales\", \"network\", \"network\", \"network\", \"new\", \"new\", \"new\", \"new\", \"news\", \"news\", \"news\", \"nokia\", \"nokia\", \"nordic\", \"nordic\", \"nordic\", \"north\", \"north\", \"number\", \"number\", \"number\", \"number\", \"number\", \"october\", \"october\", \"october\", \"october\", \"october\", \"offer\", \"offer\", \"offer\", \"offer\", \"offering\", \"office\", \"office\", \"office\", \"office\", \"offs\", \"oil\", \"oil\", \"oil\", \"omx\", \"omx\", \"omx\", \"omx helsinki\", \"omx helsinki\", \"online\", \"online\", \"online\", \"operating\", \"operating\", \"operating\", \"operating\", \"operating\", \"operating loss\", \"operating profit\", \"operating profit\", \"operations\", \"operations\", \"operations\", \"operations\", \"operations\", \"operations\", \"operator\", \"operator\", \"order\", \"order\", \"order\", \"order\", \"order\", \"order\", \"oy\", \"oy\", \"oy\", \"oyj\", \"oyj\", \"oyj\", \"oyj hel\", \"paper\", \"paper\", \"paper\", \"passenger\", \"passenger\", \"passenger\", \"passenger\", \"pct\", \"pct\", \"pct\", \"pct\", \"pct\", \"pct lower\", \"people\", \"people\", \"people\", \"people\", \"people\", \"percent\", \"percent\", \"percent\", \"percent\", \"performance\", \"performance\", \"performance\", \"period\", \"period\", \"period 2008\", \"period year\", \"period year\", \"personnel\", \"personnel\", \"personnel\", \"petersburg\", \"phone\", \"phones\", \"plant\", \"plant\", \"plant\", \"plant\", \"plc\", \"plc\", \"plc\", \"points\", \"points\", \"points\", \"portfolio\", \"portfolio\", \"portfolio\", \"portfolio\", \"position\", \"position\", \"posted\", \"posted\", \"power\", \"power\", \"president\", \"president\", \"president\", \"press\", \"press\", \"press\", \"press release\", \"press release\", \"pretax profit\", \"previous\", \"previous\", \"previous year\", \"price\", \"price\", \"price\", \"price\", \"price\", \"prices\", \"prices\", \"prices\", \"prices\", \"prices\", \"prices\", \"printing\", \"product\", \"product\", \"product\", \"product\", \"product\", \"production\", \"production\", \"production\", \"products\", \"products\", \"products\", \"profit\", \"profit\", \"profit\", \"profit eur\", \"profit eur\", \"properties\", \"properties\", \"properties\", \"properties\", \"property\", \"property\", \"property\", \"providing\", \"providing\", \"pulp\", \"pulp\", \"pulp\", \"q1\", \"q1\", \"quality\", \"quality\", \"quarter\", \"quarter\", \"quarter\", \"quarter 2008\", \"quarter 2008\", \"quarter 2010\", \"quarter 2010\", \"raisio\", \"raisio\", \"range\", \"range\", \"rate\", \"rate\", \"rate\", \"rautaruukki\", \"rautaruukki\", \"rautaruukki\", \"rautaruukki\", \"received\", \"region\", \"region\", \"region\", \"region\", \"release\", \"release\", \"release\", \"release\", \"remain\", \"remain\", \"remain\", \"research\", \"research\", \"research\", \"result\", \"result\", \"result\", \"result\", \"result\", \"revenue\", \"revenue\", \"revenue\", \"revenue\", \"revenue\", \"revenues\", \"revenues\", \"revenues\", \"revenues\", \"rights\", \"rights\", \"rose\", \"rose\", \"rose\", \"rose\", \"rose\", \"rose eur\", \"rose eur\", \"russia\", \"russia\", \"russia\", \"russia\", \"ruukki\", \"ruukki\", \"ruukki\", \"said\", \"said\", \"said\", \"said\", \"said\", \"said\", \"said\", \"said\", \"said today\", \"sales\", \"sales\", \"sales\", \"sales decreased\", \"sales eur\", \"sales fell\", \"sampo\", \"savings\", \"savings\", \"scheduled\", \"scheduled\", \"second\", \"second\", \"second\", \"second\", \"second\", \"second quarter\", \"second quarter\", \"secure\", \"secure\", \"seen\", \"seen\", \"september\", \"september\", \"september\", \"september\", \"services\", \"services\", \"services\", \"services\", \"services\", \"share\", \"share\", \"share\", \"share\", \"share\", \"share\", \"share capital\", \"share eps\", \"shares\", \"significant\", \"significant\", \"significant\", \"site\", \"site\", \"site\", \"site\", \"situation\", \"situation\", \"small\", \"small\", \"small\", \"small\", \"solution\", \"solution\", \"solutions\", \"solutions\", \"solutions\", \"solutions\", \"solutions\", \"solutions provider\", \"st petersburg\", \"staff\", \"staff\", \"staff\", \"staff\", \"start\", \"start\", \"steel\", \"steel\", \"steel\", \"stock\", \"stock\", \"stock exchange\", \"stora\", \"stora enso\", \"subsidiary\", \"subsidiary\", \"subsidiary\", \"subsidiary\", \"subsidiary\", \"subsidiary\", \"target\", \"target\", \"target\", \"target\", \"target\", \"target\", \"technical\", \"technical\", \"technical\", \"technology\", \"technology\", \"technology\", \"technology\", \"technology\", \"technopolis\", \"technopolis\", \"technopolis\", \"teliasonera\", \"teliasonera\", \"teliasonera\", \"term\", \"terms\", \"terms\", \"terms\", \"time\", \"time\", \"time\", \"time\", \"time\", \"time\", \"time\", \"today\", \"today\", \"today\", \"today net\", \"told\", \"told\", \"tonnes\", \"tools\", \"tools\", \"total\", \"total\", \"total\", \"total\", \"total\", \"total\", \"totaled\", \"totaled\", \"totaled eur\", \"totalled\", \"totalled eur\", \"trade\", \"trade\", \"trade\", \"traffic\", \"traffic\", \"transaction\", \"transaction\", \"transaction\", \"unit\", \"unit\", \"unit\", \"unit\", \"unit\", \"unit\", \"upm\", \"upm\", \"upm kymmene\", \"usd\", \"vaahto\", \"vaahto\", \"value\", \"value\", \"value\", \"value\", \"voting\", \"voting\", \"voting rights\", \"weak\", \"weak\", \"web\", \"wide\", \"wide\", \"wide\", \"won\", \"won\", \"won\", \"won\", \"worth\", \"worth\", \"worth\", \"year\", \"year\", \"year\", \"year\", \"year\", \"year\", \"year\", \"year\", \"yit\", \"yit\", \"yit\"]}, \"R\": 30, \"lambda.step\": 0.01, \"plot.opts\": {\"xlab\": \"PC1\", \"ylab\": \"PC2\"}, \"topic.order\": [6, 5, 4, 7, 8, 10, 1, 9, 3, 2]};\n",
       "\n",
       "function LDAvis_load_lib(url, callback){\n",
       "  var s = document.createElement('script');\n",
       "  s.src = url;\n",
       "  s.async = true;\n",
       "  s.onreadystatechange = s.onload = callback;\n",
       "  s.onerror = function(){console.warn(\"failed to load library \" + url);};\n",
       "  document.getElementsByTagName(\"head\")[0].appendChild(s);\n",
       "}\n",
       "\n",
       "if(typeof(LDAvis) !== \"undefined\"){\n",
       "   // already loaded: just create the visualization\n",
       "   !function(LDAvis){\n",
       "       new LDAvis(\"#\" + \"ldavis_el162842254482083392600868111\", ldavis_el162842254482083392600868111_data);\n",
       "   }(LDAvis);\n",
       "}else if(typeof define === \"function\" && define.amd){\n",
       "   // require.js is available: use it to load d3/LDAvis\n",
       "   require.config({paths: {d3: \"https://d3js.org/d3.v5\"}});\n",
       "   require([\"d3\"], function(d3){\n",
       "      window.d3 = d3;\n",
       "      LDAvis_load_lib(\"https://cdn.jsdelivr.net/gh/bmabey/pyLDAvis@3.3.1/pyLDAvis/js/ldavis.v3.0.0.js\", function(){\n",
       "        new LDAvis(\"#\" + \"ldavis_el162842254482083392600868111\", ldavis_el162842254482083392600868111_data);\n",
       "      });\n",
       "    });\n",
       "}else{\n",
       "    // require.js not available: dynamically load d3 & LDAvis\n",
       "    LDAvis_load_lib(\"https://d3js.org/d3.v5.js\", function(){\n",
       "         LDAvis_load_lib(\"https://cdn.jsdelivr.net/gh/bmabey/pyLDAvis@3.3.1/pyLDAvis/js/ldavis.v3.0.0.js\", function(){\n",
       "                 new LDAvis(\"#\" + \"ldavis_el162842254482083392600868111\", ldavis_el162842254482083392600868111_data);\n",
       "            })\n",
       "         });\n",
       "}\n",
       "</script>"
      ],
      "text/plain": [
       "PreparedData(topic_coordinates=              x         y  topics  cluster       Freq\n",
       "topic                                                \n",
       "5     -0.315175  0.036352       1        1  29.366179\n",
       "4     -0.134227 -0.102026       2        1  20.597558\n",
       "3      0.094591 -0.100457       3        1  10.292364\n",
       "6      0.117368 -0.079925       4        1  10.249808\n",
       "7      0.061179 -0.092832       5        1   8.316668\n",
       "9      0.103960  0.134264       6        1   6.212878\n",
       "0     -0.032640 -0.003997       7        1   5.340526\n",
       "8      0.055469  0.095269       8        1   3.910618\n",
       "2      0.034235  0.064467       9        1   3.829440\n",
       "1      0.015242  0.048885      10        1   1.883961, topic_info=         Term        Freq       Total Category  logprob  loglift\n",
       "227       eur  324.000000  324.000000  Default  30.0000  30.0000\n",
       "385        mn  196.000000  196.000000  Default  29.0000  29.0000\n",
       "381       mln   79.000000   79.000000  Default  28.0000  28.0000\n",
       "259   finland   77.000000   77.000000  Default  27.0000  27.0000\n",
       "141   company  173.000000  173.000000  Default  26.0000  26.0000\n",
       "..        ...         ...         ...      ...      ...      ...\n",
       "17         20    1.113265   15.958862  Topic10  -5.1416   1.3091\n",
       "560      rose    1.859483   29.305705  Topic10  -4.6286   1.2143\n",
       "144  compared    2.142953   57.487477  Topic10  -4.4867   0.6824\n",
       "427    number    0.925948   14.998864  Topic10  -5.3258   1.1869\n",
       "25       2009    1.012993   87.403050  Topic10  -5.2360  -0.4858\n",
       "\n",
       "[453 rows x 6 columns], token_table=      Topic      Freq        Term\n",
       "term                             \n",
       "1         2  0.442560         000\n",
       "1         4  0.465853         000\n",
       "1         5  0.046585         000\n",
       "2         4  0.757747  000 tonnes\n",
       "3         1  0.399015          10\n",
       "...     ...       ...         ...\n",
       "679       8  0.017499        year\n",
       "679       9  0.008749        year\n",
       "686       3  0.209298         yit\n",
       "686       4  0.069766         yit\n",
       "686       5  0.697662         yit\n",
       "\n",
       "[1065 rows x 3 columns], R=30, lambda_step=0.01, plot_opts={'xlab': 'PC1', 'ylab': 'PC2'}, topic_order=[6, 5, 4, 7, 8, 10, 1, 9, 3, 2])"
      ]
     },
     "execution_count": 39,
     "metadata": {},
     "output_type": "execute_result"
    }
   ],
   "source": [
    "pyLDAvis.sklearn.prepare(lda2, tf2, tf_vectorizer2)"
   ]
  }
 ],
 "metadata": {
  "kernelspec": {
   "display_name": "Python 3 (ipykernel)",
   "language": "python",
   "name": "python3"
  },
  "language_info": {
   "codemirror_mode": {
    "name": "ipython",
    "version": 3
   },
   "file_extension": ".py",
   "mimetype": "text/x-python",
   "name": "python",
   "nbconvert_exporter": "python",
   "pygments_lexer": "ipython3",
   "version": "3.9.7"
  }
 },
 "nbformat": 4,
 "nbformat_minor": 5
}
